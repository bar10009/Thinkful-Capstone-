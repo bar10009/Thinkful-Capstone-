{
 "cells": [
  {
   "cell_type": "markdown",
   "metadata": {},
   "source": [
    "# U.S. Bank Failure Analysis \n",
    "\n",
    "Data: https://catalog.data.gov/dataset/fdic-failed-bank-list\n",
    "\n",
    "\n",
    "The inspiration for project comes from my curiosity about recurring financial and economic problems especially after the recent 2008 recession. I will be focusing more on this period of the data from 2000-2017. The data dates back to 1934 and expresses the following values:\n",
    "\n",
    "**1. Institution name and FIN number\n",
    "\n",
    "**2. Charter type\n",
    "\n",
    "**3. Location of headquarters (city and state)\n",
    "\n",
    "**4. Effective date\n",
    "\n",
    "**5. Insurance fund and certificate number\n",
    "\n",
    "**6. Failure transaction type\n",
    "\n",
    "**7. Total deposits and total assets last reported prior to failure (in thousands of dollars)\n",
    "\n",
    "\n",
    "There are several challenges to this dataset. \n",
    "\n",
    "**First, different periods will have to be excluded from different forms of analysis. For instance:\n",
    "\n",
    "Estimated cost of resolution (Data on estimated losses are not available for FDIC insured failures prior to 1986 or for FSLIC insured failures from 1934-88. The data in this period from 1934-88 can be included in all forms of interpretation except where estimated loss data is needed.\n",
    "I will consider the failures after 1988 where data exists for estimated losses as significant.\n",
    "\n",
    "**Second, a large dataset with many values which values to consider, took some time. I focused on Instituion Name (not fin number),Charter Type,Location of headquarters (city and state), and Total deposits and total assets last reported prior to failure (in thousands of dollars)\n",
    "\n",
    "**Third, I believe that the correlation between other variables can be significant.\n",
    "\n",
    "For the purposes of this project I am limited to the values within the confines of the dataset. Additionally I am keen on merging this dataset with others that might serve to enrich the alaysis of this report. \n",
    "\n",
    "Looking forward toward future work on bank failures. \n",
    "I beleive that further research in this subject will bear useful for my work in the fintech industry where this kind of analysis will be valuable."
   ]
  },
  {
   "cell_type": "markdown",
   "metadata": {},
   "source": [
    "# Analytic Questions\n",
    "\n",
    "1. How have institution failures changed over time; which institution is most likely to fail? \n",
    "\n",
    "2. How expensive were institution failures in each period relative to other periods?\n",
    "\n",
    "3. Which states had the highest failures; which cost the government the most to resolve?"
   ]
  },
  {
   "cell_type": "code",
   "execution_count": 2,
   "metadata": {},
   "outputs": [
    {
     "ename": "ModuleNotFoundError",
     "evalue": "No module named 'matplotlib'",
     "output_type": "error",
     "traceback": [
      "\u001b[0;31m---------------------------------------------------------------------------\u001b[0m",
      "\u001b[0;31mModuleNotFoundError\u001b[0m                       Traceback (most recent call last)",
      "\u001b[0;32m<ipython-input-2-9f42c9ceb314>\u001b[0m in \u001b[0;36m<module>\u001b[0;34m()\u001b[0m\n\u001b[1;32m      3\u001b[0m \u001b[0;32mimport\u001b[0m \u001b[0mpandas\u001b[0m \u001b[0;32mas\u001b[0m \u001b[0mpd\u001b[0m\u001b[0;34m\u001b[0m\u001b[0m\n\u001b[1;32m      4\u001b[0m \u001b[0;32mimport\u001b[0m \u001b[0mnumpy\u001b[0m \u001b[0;32mas\u001b[0m \u001b[0mnp\u001b[0m\u001b[0;34m\u001b[0m\u001b[0m\n\u001b[0;32m----> 5\u001b[0;31m \u001b[0;32mimport\u001b[0m \u001b[0mmatplotlib\u001b[0m\u001b[0;34m.\u001b[0m\u001b[0mpyplot\u001b[0m \u001b[0;32mas\u001b[0m \u001b[0mplt\u001b[0m\u001b[0;34m\u001b[0m\u001b[0m\n\u001b[0m\u001b[1;32m      6\u001b[0m \u001b[0;32mimport\u001b[0m \u001b[0mseaborn\u001b[0m \u001b[0;32mas\u001b[0m \u001b[0msns\u001b[0m\u001b[0;34m\u001b[0m\u001b[0m\n\u001b[1;32m      7\u001b[0m \u001b[0;32mimport\u001b[0m \u001b[0mscipy\u001b[0m \u001b[0;32mas\u001b[0m \u001b[0msy\u001b[0m\u001b[0;34m\u001b[0m\u001b[0m\n",
      "\u001b[0;31mModuleNotFoundError\u001b[0m: No module named 'matplotlib'"
     ]
    }
   ],
   "source": [
    "# Importing the necessary libraries to organize the data into a meaningful story through \n",
    "#the combination of statistical, visual, and narrative story telling tools.\n",
    "import pandas as pd\n",
    "import numpy as np\n",
    "import matplotlib.pyplot as plt\n",
    "import seaborn as sns\n",
    "import scipy as sy\n",
    "from scipy.stats.stats import pearsonr\n",
    "%matplotlib inline"
   ]
  },
  {
   "cell_type": "code",
   "execution_count": 3,
   "metadata": {},
   "outputs": [
    {
     "ename": "FileNotFoundError",
     "evalue": "File b'banks.csv' does not exist",
     "output_type": "error",
     "traceback": [
      "\u001b[0;31m---------------------------------------------------------------------------\u001b[0m",
      "\u001b[0;31mFileNotFoundError\u001b[0m                         Traceback (most recent call last)",
      "\u001b[0;32m<ipython-input-3-79e9272d23c6>\u001b[0m in \u001b[0;36m<module>\u001b[0;34m()\u001b[0m\n\u001b[1;32m      1\u001b[0m \u001b[0;31m# Reading the banks.csv file stored in my desktop\u001b[0m\u001b[0;34m\u001b[0m\u001b[0;34m\u001b[0m\u001b[0m\n\u001b[0;32m----> 2\u001b[0;31m \u001b[0mbanks\u001b[0m \u001b[0;34m=\u001b[0m \u001b[0mpd\u001b[0m\u001b[0;34m.\u001b[0m\u001b[0mread_csv\u001b[0m\u001b[0;34m(\u001b[0m\u001b[0;34m'banks.csv'\u001b[0m\u001b[0;34m)\u001b[0m\u001b[0;34m\u001b[0m\u001b[0m\n\u001b[0m",
      "\u001b[0;32m/usr/local/lib/python3.6/site-packages/pandas/io/parsers.py\u001b[0m in \u001b[0;36mparser_f\u001b[0;34m(filepath_or_buffer, sep, delimiter, header, names, index_col, usecols, squeeze, prefix, mangle_dupe_cols, dtype, engine, converters, true_values, false_values, skipinitialspace, skiprows, nrows, na_values, keep_default_na, na_filter, verbose, skip_blank_lines, parse_dates, infer_datetime_format, keep_date_col, date_parser, dayfirst, iterator, chunksize, compression, thousands, decimal, lineterminator, quotechar, quoting, escapechar, comment, encoding, dialect, tupleize_cols, error_bad_lines, warn_bad_lines, skipfooter, skip_footer, doublequote, delim_whitespace, as_recarray, compact_ints, use_unsigned, low_memory, buffer_lines, memory_map, float_precision)\u001b[0m\n\u001b[1;32m    707\u001b[0m                     skip_blank_lines=skip_blank_lines)\n\u001b[1;32m    708\u001b[0m \u001b[0;34m\u001b[0m\u001b[0m\n\u001b[0;32m--> 709\u001b[0;31m         \u001b[0;32mreturn\u001b[0m \u001b[0m_read\u001b[0m\u001b[0;34m(\u001b[0m\u001b[0mfilepath_or_buffer\u001b[0m\u001b[0;34m,\u001b[0m \u001b[0mkwds\u001b[0m\u001b[0;34m)\u001b[0m\u001b[0;34m\u001b[0m\u001b[0m\n\u001b[0m\u001b[1;32m    710\u001b[0m \u001b[0;34m\u001b[0m\u001b[0m\n\u001b[1;32m    711\u001b[0m     \u001b[0mparser_f\u001b[0m\u001b[0;34m.\u001b[0m\u001b[0m__name__\u001b[0m \u001b[0;34m=\u001b[0m \u001b[0mname\u001b[0m\u001b[0;34m\u001b[0m\u001b[0m\n",
      "\u001b[0;32m/usr/local/lib/python3.6/site-packages/pandas/io/parsers.py\u001b[0m in \u001b[0;36m_read\u001b[0;34m(filepath_or_buffer, kwds)\u001b[0m\n\u001b[1;32m    447\u001b[0m \u001b[0;34m\u001b[0m\u001b[0m\n\u001b[1;32m    448\u001b[0m     \u001b[0;31m# Create the parser.\u001b[0m\u001b[0;34m\u001b[0m\u001b[0;34m\u001b[0m\u001b[0m\n\u001b[0;32m--> 449\u001b[0;31m     \u001b[0mparser\u001b[0m \u001b[0;34m=\u001b[0m \u001b[0mTextFileReader\u001b[0m\u001b[0;34m(\u001b[0m\u001b[0mfilepath_or_buffer\u001b[0m\u001b[0;34m,\u001b[0m \u001b[0;34m**\u001b[0m\u001b[0mkwds\u001b[0m\u001b[0;34m)\u001b[0m\u001b[0;34m\u001b[0m\u001b[0m\n\u001b[0m\u001b[1;32m    450\u001b[0m \u001b[0;34m\u001b[0m\u001b[0m\n\u001b[1;32m    451\u001b[0m     \u001b[0;32mif\u001b[0m \u001b[0mchunksize\u001b[0m \u001b[0;32mor\u001b[0m \u001b[0miterator\u001b[0m\u001b[0;34m:\u001b[0m\u001b[0;34m\u001b[0m\u001b[0m\n",
      "\u001b[0;32m/usr/local/lib/python3.6/site-packages/pandas/io/parsers.py\u001b[0m in \u001b[0;36m__init__\u001b[0;34m(self, f, engine, **kwds)\u001b[0m\n\u001b[1;32m    816\u001b[0m             \u001b[0mself\u001b[0m\u001b[0;34m.\u001b[0m\u001b[0moptions\u001b[0m\u001b[0;34m[\u001b[0m\u001b[0;34m'has_index_names'\u001b[0m\u001b[0;34m]\u001b[0m \u001b[0;34m=\u001b[0m \u001b[0mkwds\u001b[0m\u001b[0;34m[\u001b[0m\u001b[0;34m'has_index_names'\u001b[0m\u001b[0;34m]\u001b[0m\u001b[0;34m\u001b[0m\u001b[0m\n\u001b[1;32m    817\u001b[0m \u001b[0;34m\u001b[0m\u001b[0m\n\u001b[0;32m--> 818\u001b[0;31m         \u001b[0mself\u001b[0m\u001b[0;34m.\u001b[0m\u001b[0m_make_engine\u001b[0m\u001b[0;34m(\u001b[0m\u001b[0mself\u001b[0m\u001b[0;34m.\u001b[0m\u001b[0mengine\u001b[0m\u001b[0;34m)\u001b[0m\u001b[0;34m\u001b[0m\u001b[0m\n\u001b[0m\u001b[1;32m    819\u001b[0m \u001b[0;34m\u001b[0m\u001b[0m\n\u001b[1;32m    820\u001b[0m     \u001b[0;32mdef\u001b[0m \u001b[0mclose\u001b[0m\u001b[0;34m(\u001b[0m\u001b[0mself\u001b[0m\u001b[0;34m)\u001b[0m\u001b[0;34m:\u001b[0m\u001b[0;34m\u001b[0m\u001b[0m\n",
      "\u001b[0;32m/usr/local/lib/python3.6/site-packages/pandas/io/parsers.py\u001b[0m in \u001b[0;36m_make_engine\u001b[0;34m(self, engine)\u001b[0m\n\u001b[1;32m   1047\u001b[0m     \u001b[0;32mdef\u001b[0m \u001b[0m_make_engine\u001b[0m\u001b[0;34m(\u001b[0m\u001b[0mself\u001b[0m\u001b[0;34m,\u001b[0m \u001b[0mengine\u001b[0m\u001b[0;34m=\u001b[0m\u001b[0;34m'c'\u001b[0m\u001b[0;34m)\u001b[0m\u001b[0;34m:\u001b[0m\u001b[0;34m\u001b[0m\u001b[0m\n\u001b[1;32m   1048\u001b[0m         \u001b[0;32mif\u001b[0m \u001b[0mengine\u001b[0m \u001b[0;34m==\u001b[0m \u001b[0;34m'c'\u001b[0m\u001b[0;34m:\u001b[0m\u001b[0;34m\u001b[0m\u001b[0m\n\u001b[0;32m-> 1049\u001b[0;31m             \u001b[0mself\u001b[0m\u001b[0;34m.\u001b[0m\u001b[0m_engine\u001b[0m \u001b[0;34m=\u001b[0m \u001b[0mCParserWrapper\u001b[0m\u001b[0;34m(\u001b[0m\u001b[0mself\u001b[0m\u001b[0;34m.\u001b[0m\u001b[0mf\u001b[0m\u001b[0;34m,\u001b[0m \u001b[0;34m**\u001b[0m\u001b[0mself\u001b[0m\u001b[0;34m.\u001b[0m\u001b[0moptions\u001b[0m\u001b[0;34m)\u001b[0m\u001b[0;34m\u001b[0m\u001b[0m\n\u001b[0m\u001b[1;32m   1050\u001b[0m         \u001b[0;32melse\u001b[0m\u001b[0;34m:\u001b[0m\u001b[0;34m\u001b[0m\u001b[0m\n\u001b[1;32m   1051\u001b[0m             \u001b[0;32mif\u001b[0m \u001b[0mengine\u001b[0m \u001b[0;34m==\u001b[0m \u001b[0;34m'python'\u001b[0m\u001b[0;34m:\u001b[0m\u001b[0;34m\u001b[0m\u001b[0m\n",
      "\u001b[0;32m/usr/local/lib/python3.6/site-packages/pandas/io/parsers.py\u001b[0m in \u001b[0;36m__init__\u001b[0;34m(self, src, **kwds)\u001b[0m\n\u001b[1;32m   1693\u001b[0m         \u001b[0mkwds\u001b[0m\u001b[0;34m[\u001b[0m\u001b[0;34m'allow_leading_cols'\u001b[0m\u001b[0;34m]\u001b[0m \u001b[0;34m=\u001b[0m \u001b[0mself\u001b[0m\u001b[0;34m.\u001b[0m\u001b[0mindex_col\u001b[0m \u001b[0;32mis\u001b[0m \u001b[0;32mnot\u001b[0m \u001b[0;32mFalse\u001b[0m\u001b[0;34m\u001b[0m\u001b[0m\n\u001b[1;32m   1694\u001b[0m \u001b[0;34m\u001b[0m\u001b[0m\n\u001b[0;32m-> 1695\u001b[0;31m         \u001b[0mself\u001b[0m\u001b[0;34m.\u001b[0m\u001b[0m_reader\u001b[0m \u001b[0;34m=\u001b[0m \u001b[0mparsers\u001b[0m\u001b[0;34m.\u001b[0m\u001b[0mTextReader\u001b[0m\u001b[0;34m(\u001b[0m\u001b[0msrc\u001b[0m\u001b[0;34m,\u001b[0m \u001b[0;34m**\u001b[0m\u001b[0mkwds\u001b[0m\u001b[0;34m)\u001b[0m\u001b[0;34m\u001b[0m\u001b[0m\n\u001b[0m\u001b[1;32m   1696\u001b[0m \u001b[0;34m\u001b[0m\u001b[0m\n\u001b[1;32m   1697\u001b[0m         \u001b[0;31m# XXX\u001b[0m\u001b[0;34m\u001b[0m\u001b[0;34m\u001b[0m\u001b[0m\n",
      "\u001b[0;32mpandas/_libs/parsers.pyx\u001b[0m in \u001b[0;36mpandas._libs.parsers.TextReader.__cinit__\u001b[0;34m()\u001b[0m\n",
      "\u001b[0;32mpandas/_libs/parsers.pyx\u001b[0m in \u001b[0;36mpandas._libs.parsers.TextReader._setup_parser_source\u001b[0;34m()\u001b[0m\n",
      "\u001b[0;31mFileNotFoundError\u001b[0m: File b'banks.csv' does not exist"
     ]
    }
   ],
   "source": [
    "# Reading the banks.csv file stored in my desktop\n",
    "banks = pd.read_csv('banks.csv')"
   ]
  },
  {
   "cell_type": "code",
   "execution_count": 99,
   "metadata": {},
   "outputs": [
    {
     "data": {
      "text/plain": [
       "3484"
      ]
     },
     "execution_count": 99,
     "metadata": {},
     "output_type": "execute_result"
    }
   ],
   "source": [
    "#I want to note the size of the dataset at the start to show that we are working with a nice sized dataset to analyze\n",
    "len(banks)"
   ]
  },
  {
   "cell_type": "code",
   "execution_count": 100,
   "metadata": {},
   "outputs": [
    {
     "data": {
      "text/html": [
       "<div>\n",
       "<style scoped>\n",
       "    .dataframe tbody tr th:only-of-type {\n",
       "        vertical-align: middle;\n",
       "    }\n",
       "\n",
       "    .dataframe tbody tr th {\n",
       "        vertical-align: top;\n",
       "    }\n",
       "\n",
       "    .dataframe thead th {\n",
       "        text-align: right;\n",
       "    }\n",
       "</style>\n",
       "<table border=\"1\" class=\"dataframe\">\n",
       "  <thead>\n",
       "    <tr style=\"text-align: right;\">\n",
       "      <th></th>\n",
       "      <th>Financial Institution Number</th>\n",
       "      <th>Institution Name</th>\n",
       "      <th>Institution Type</th>\n",
       "      <th>Charter Type</th>\n",
       "      <th>Headquarters</th>\n",
       "      <th>Failure Date</th>\n",
       "      <th>Insurance Fund</th>\n",
       "      <th>Certificate Number</th>\n",
       "      <th>Transaction Type</th>\n",
       "      <th>Total Deposits</th>\n",
       "      <th>Total Assets</th>\n",
       "      <th>Estimated Loss (2015)</th>\n",
       "    </tr>\n",
       "  </thead>\n",
       "  <tbody>\n",
       "    <tr>\n",
       "      <th>0</th>\n",
       "      <td>NaN</td>\n",
       "      <td>BANK OF AMERICA TRUST CO.</td>\n",
       "      <td>COMMERCIAL BANK</td>\n",
       "      <td>STATE</td>\n",
       "      <td>PITTSBURGH, PA</td>\n",
       "      <td>4/19/1934</td>\n",
       "      <td>FDIC</td>\n",
       "      <td>NaN</td>\n",
       "      <td>PAYOUT</td>\n",
       "      <td>1064</td>\n",
       "      <td>1435.0</td>\n",
       "      <td>NaN</td>\n",
       "    </tr>\n",
       "    <tr>\n",
       "      <th>1</th>\n",
       "      <td>NaN</td>\n",
       "      <td>FON DU LAC STATE BANK</td>\n",
       "      <td>COMMERCIAL BANK</td>\n",
       "      <td>STATE</td>\n",
       "      <td>EAST PEORIA, IL</td>\n",
       "      <td>5/28/1934</td>\n",
       "      <td>FDIC</td>\n",
       "      <td>NaN</td>\n",
       "      <td>PAYOUT</td>\n",
       "      <td>238</td>\n",
       "      <td>374.0</td>\n",
       "      <td>NaN</td>\n",
       "    </tr>\n",
       "    <tr>\n",
       "      <th>2</th>\n",
       "      <td>NaN</td>\n",
       "      <td>FIRST NATIONAL BANK OF LIMA</td>\n",
       "      <td>COMMERCIAL BANK</td>\n",
       "      <td>FEDERAL</td>\n",
       "      <td>LIMA, MT</td>\n",
       "      <td>7/18/1934</td>\n",
       "      <td>FDIC</td>\n",
       "      <td>NaN</td>\n",
       "      <td>PAYOUT</td>\n",
       "      <td>42</td>\n",
       "      <td>91.0</td>\n",
       "      <td>NaN</td>\n",
       "    </tr>\n",
       "    <tr>\n",
       "      <th>3</th>\n",
       "      <td>NaN</td>\n",
       "      <td>FLORENCE DEPOSIT BANK</td>\n",
       "      <td>COMMERCIAL BANK</td>\n",
       "      <td>STATE</td>\n",
       "      <td>FLORENCE, IN</td>\n",
       "      <td>7/18/1934</td>\n",
       "      <td>FDIC</td>\n",
       "      <td>NaN</td>\n",
       "      <td>PAYOUT</td>\n",
       "      <td>69</td>\n",
       "      <td>105.0</td>\n",
       "      <td>NaN</td>\n",
       "    </tr>\n",
       "    <tr>\n",
       "      <th>4</th>\n",
       "      <td>NaN</td>\n",
       "      <td>BANK OF LEWISPORT</td>\n",
       "      <td>COMMERCIAL BANK</td>\n",
       "      <td>STATE</td>\n",
       "      <td>LEWISPORT, KY</td>\n",
       "      <td>8/6/1934</td>\n",
       "      <td>FDIC</td>\n",
       "      <td>NaN</td>\n",
       "      <td>PAYOUT</td>\n",
       "      <td>68</td>\n",
       "      <td>81.0</td>\n",
       "      <td>NaN</td>\n",
       "    </tr>\n",
       "  </tbody>\n",
       "</table>\n",
       "</div>"
      ],
      "text/plain": [
       "   Financial Institution Number             Institution Name Institution Type  \\\n",
       "0                           NaN    BANK OF AMERICA TRUST CO.  COMMERCIAL BANK   \n",
       "1                           NaN        FON DU LAC STATE BANK  COMMERCIAL BANK   \n",
       "2                           NaN  FIRST NATIONAL BANK OF LIMA  COMMERCIAL BANK   \n",
       "3                           NaN        FLORENCE DEPOSIT BANK  COMMERCIAL BANK   \n",
       "4                           NaN            BANK OF LEWISPORT  COMMERCIAL BANK   \n",
       "\n",
       "  Charter Type     Headquarters Failure Date Insurance Fund  \\\n",
       "0        STATE   PITTSBURGH, PA   4/19/1934            FDIC   \n",
       "1        STATE  EAST PEORIA, IL   5/28/1934            FDIC   \n",
       "2      FEDERAL         LIMA, MT   7/18/1934            FDIC   \n",
       "3        STATE     FLORENCE, IN   7/18/1934            FDIC   \n",
       "4        STATE    LEWISPORT, KY    8/6/1934            FDIC   \n",
       "\n",
       "   Certificate Number Transaction Type  Total Deposits  Total Assets  \\\n",
       "0                 NaN           PAYOUT            1064        1435.0   \n",
       "1                 NaN           PAYOUT             238         374.0   \n",
       "2                 NaN           PAYOUT              42          91.0   \n",
       "3                 NaN           PAYOUT              69         105.0   \n",
       "4                 NaN           PAYOUT              68          81.0   \n",
       "\n",
       "   Estimated Loss (2015)  \n",
       "0                    NaN  \n",
       "1                    NaN  \n",
       "2                    NaN  \n",
       "3                    NaN  \n",
       "4                    NaN  "
      ]
     },
     "execution_count": 100,
     "metadata": {},
     "output_type": "execute_result"
    }
   ],
   "source": [
    "#Calling up the top 5 banks to see how the data and its values are organized in an array\n",
    "banks.head()"
   ]
  },
  {
   "cell_type": "code",
   "execution_count": 101,
   "metadata": {},
   "outputs": [],
   "source": [
    "#Extracting out failure year; organizing the formatting of the values city and state.\n",
    "banks['Failure Year']=banks['Failure Date'].apply(lambda x: int(x.split('/')[2]))\n",
    "banks['City']=banks['Headquarters'].apply(lambda x:(x.split(',')[0]))\n",
    "banks['State']=banks['Headquarters'].apply(lambda x:(x.split(', ')[1]))"
   ]
  },
  {
   "cell_type": "code",
   "execution_count": 102,
   "metadata": {},
   "outputs": [
    {
     "data": {
      "text/plain": [
       "Financial Institution Number    601\n",
       "Institution Name                  0\n",
       "Institution Type                  0\n",
       "Charter Type                      0\n",
       "Headquarters                      0\n",
       "Failure Date                      0\n",
       "Insurance Fund                    0\n",
       "Certificate Number              485\n",
       "Transaction Type                  0\n",
       "Total Deposits                    0\n",
       "Total Assets                    151\n",
       "Estimated Loss (2015)           975\n",
       "Failure Year                      0\n",
       "City                              0\n",
       "State                             0\n",
       "dtype: int64"
      ]
     },
     "execution_count": 102,
     "metadata": {},
     "output_type": "execute_result"
    }
   ],
   "source": [
    "#Examining how much missing data is present to futher clean the data\n",
    "banks.isnull().sum()"
   ]
  },
  {
   "cell_type": "code",
   "execution_count": 103,
   "metadata": {},
   "outputs": [
    {
     "data": {
      "text/html": [
       "<div>\n",
       "<style scoped>\n",
       "    .dataframe tbody tr th:only-of-type {\n",
       "        vertical-align: middle;\n",
       "    }\n",
       "\n",
       "    .dataframe tbody tr th {\n",
       "        vertical-align: top;\n",
       "    }\n",
       "\n",
       "    .dataframe thead th {\n",
       "        text-align: right;\n",
       "    }\n",
       "</style>\n",
       "<table border=\"1\" class=\"dataframe\">\n",
       "  <thead>\n",
       "    <tr style=\"text-align: right;\">\n",
       "      <th></th>\n",
       "      <th>Total Deposits</th>\n",
       "      <th>Total Assets</th>\n",
       "      <th>Estimated Loss (2015)</th>\n",
       "      <th>Failure Year</th>\n",
       "    </tr>\n",
       "  </thead>\n",
       "  <tbody>\n",
       "    <tr>\n",
       "      <th>count</th>\n",
       "      <td>3.484000e+03</td>\n",
       "      <td>3.333000e+03</td>\n",
       "      <td>2.509000e+03</td>\n",
       "      <td>3484.000000</td>\n",
       "    </tr>\n",
       "    <tr>\n",
       "      <th>mean</th>\n",
       "      <td>2.997762e+05</td>\n",
       "      <td>4.045884e+05</td>\n",
       "      <td>7.064435e+04</td>\n",
       "      <td>1985.213261</td>\n",
       "    </tr>\n",
       "    <tr>\n",
       "      <th>std</th>\n",
       "      <td>3.304676e+06</td>\n",
       "      <td>5.454873e+06</td>\n",
       "      <td>3.305872e+05</td>\n",
       "      <td>19.654791</td>\n",
       "    </tr>\n",
       "    <tr>\n",
       "      <th>min</th>\n",
       "      <td>0.000000e+00</td>\n",
       "      <td>1.400000e+01</td>\n",
       "      <td>-4.386000e+03</td>\n",
       "      <td>1934.000000</td>\n",
       "    </tr>\n",
       "    <tr>\n",
       "      <th>25%</th>\n",
       "      <td>1.229300e+04</td>\n",
       "      <td>1.505100e+04</td>\n",
       "      <td>3.852000e+03</td>\n",
       "      <td>1985.000000</td>\n",
       "    </tr>\n",
       "    <tr>\n",
       "      <th>50%</th>\n",
       "      <td>4.172100e+04</td>\n",
       "      <td>4.752300e+04</td>\n",
       "      <td>1.335400e+04</td>\n",
       "      <td>1989.000000</td>\n",
       "    </tr>\n",
       "    <tr>\n",
       "      <th>75%</th>\n",
       "      <td>1.562415e+05</td>\n",
       "      <td>1.734780e+05</td>\n",
       "      <td>4.458500e+04</td>\n",
       "      <td>1991.000000</td>\n",
       "    </tr>\n",
       "    <tr>\n",
       "      <th>max</th>\n",
       "      <td>1.882608e+08</td>\n",
       "      <td>3.070216e+08</td>\n",
       "      <td>1.243800e+07</td>\n",
       "      <td>2017.000000</td>\n",
       "    </tr>\n",
       "  </tbody>\n",
       "</table>\n",
       "</div>"
      ],
      "text/plain": [
       "       Total Deposits  Total Assets  Estimated Loss (2015)  Failure Year\n",
       "count    3.484000e+03  3.333000e+03           2.509000e+03   3484.000000\n",
       "mean     2.997762e+05  4.045884e+05           7.064435e+04   1985.213261\n",
       "std      3.304676e+06  5.454873e+06           3.305872e+05     19.654791\n",
       "min      0.000000e+00  1.400000e+01          -4.386000e+03   1934.000000\n",
       "25%      1.229300e+04  1.505100e+04           3.852000e+03   1985.000000\n",
       "50%      4.172100e+04  4.752300e+04           1.335400e+04   1989.000000\n",
       "75%      1.562415e+05  1.734780e+05           4.458500e+04   1991.000000\n",
       "max      1.882608e+08  3.070216e+08           1.243800e+07   2017.000000"
      ]
     },
     "execution_count": 103,
     "metadata": {},
     "output_type": "execute_result"
    }
   ],
   "source": [
    "#Summary Statistics, these summarize and inform on the following values in my dataset\n",
    "banks[['Total Deposits', 'Total Assets', 'Estimated Loss (2015)', 'Failure Year']].describe()"
   ]
  },
  {
   "cell_type": "markdown",
   "metadata": {},
   "source": [
    "# Analytic Question 1 \n",
    "**How have bank failures changed over time; which institution is more likely to fail? Commercial Bank, Savings Association, or Savings Bank?**"
   ]
  },
  {
   "cell_type": "markdown",
   "metadata": {},
   "source": [
    "To more clearly understand how bank failures changed over time I grouped the data by institution type. I figured that the type of institution is significant because the banks aggregated in this dataset aren't just banks, they are distinctly different institutions that serve different uses. \n",
    "\n",
    "So, even though the term bank and institution will be used synonymously it's important to seperate these institutions out to discover how they each contribute to the failure of banks across the nation and over time. \n",
    "\n",
    "The following displays the mean losses for each bank and the count for the amount of failed banks for each institution. "
   ]
  },
  {
   "cell_type": "code",
   "execution_count": 104,
   "metadata": {},
   "outputs": [
    {
     "data": {
      "text/html": [
       "<div>\n",
       "<style scoped>\n",
       "    .dataframe tbody tr th:only-of-type {\n",
       "        vertical-align: middle;\n",
       "    }\n",
       "\n",
       "    .dataframe tbody tr th {\n",
       "        vertical-align: top;\n",
       "    }\n",
       "\n",
       "    .dataframe thead th {\n",
       "        text-align: right;\n",
       "    }\n",
       "</style>\n",
       "<table border=\"1\" class=\"dataframe\">\n",
       "  <thead>\n",
       "    <tr style=\"text-align: right;\">\n",
       "      <th></th>\n",
       "      <th>mean</th>\n",
       "      <th>count</th>\n",
       "    </tr>\n",
       "    <tr>\n",
       "      <th>Institution Type</th>\n",
       "      <th></th>\n",
       "      <th></th>\n",
       "    </tr>\n",
       "  </thead>\n",
       "  <tbody>\n",
       "    <tr>\n",
       "      <th>COMMERCIAL BANK</th>\n",
       "      <td>41835.451513</td>\n",
       "      <td>1619</td>\n",
       "    </tr>\n",
       "    <tr>\n",
       "      <th>SAVINGS ASSOCIATION</th>\n",
       "      <td>106485.405594</td>\n",
       "      <td>572</td>\n",
       "    </tr>\n",
       "    <tr>\n",
       "      <th>SAVINGS BANK</th>\n",
       "      <td>152847.254717</td>\n",
       "      <td>318</td>\n",
       "    </tr>\n",
       "  </tbody>\n",
       "</table>\n",
       "</div>"
      ],
      "text/plain": [
       "                              mean  count\n",
       "Institution Type                         \n",
       "COMMERCIAL BANK       41835.451513   1619\n",
       "SAVINGS ASSOCIATION  106485.405594    572\n",
       "SAVINGS BANK         152847.254717    318"
      ]
     },
     "execution_count": 104,
     "metadata": {},
     "output_type": "execute_result"
    }
   ],
   "source": [
    "banks.groupby(['Institution Type'])['Estimated Loss (2015)'].agg(['mean', 'count'])"
   ]
  },
  {
   "cell_type": "markdown",
   "metadata": {},
   "source": [
    "It's surprising to see the pattern that emerged from this array. There seems to be an inverse relationship between the mean losses and the count. It looks as though savings banks have the least number of failures while being responsible for the most of the losses. Commercial banks have the highest failure count and are responsible for the least amount of losses. From this I can conclude that the bank most likely to incur the highest average losses and lowest frequency of failure is the Savings Bank. The bank with the highest frequency of failures and the lowest average losses would probably be a commercial bank.  \n",
    "\n",
    "Now let's look at the factor of time and see how bank failures have changed over history . . .\n",
    "Below I've plotted a histogram of bank failures over time. The time period being between 1934 and 2015. "
   ]
  },
  {
   "cell_type": "code",
   "execution_count": 105,
   "metadata": {},
   "outputs": [
    {
     "data": {
      "text/plain": [
       "Text(0,0.5,'Bank Failures')"
      ]
     },
     "execution_count": 105,
     "metadata": {},
     "output_type": "execute_result"
    },
    {
     "data": {
      "image/png": "[encoded data removed]",
      "text/plain": [
       "<matplotlib.figure.Figure at 0x10f590a20>"
      ]
     },
     "metadata": {},
     "output_type": "display_data"
    }
   ],
   "source": [
    "plt.hist(banks['Failure Year'], bins=range(1934,2017))\n",
    "plt.xlabel('Year')\n",
    "plt.ylabel('Bank Failures')"
   ]
  },
  {
   "cell_type": "markdown",
   "metadata": {},
   "source": [
    "The histogram above (figure 1) clearly clusters around three periods of time 1940's, 1980's-1990's, and the early 2000's where US bank failures were the highest in history. This gives a general sense of which banks failed more frequently and which banks incured the highest losses, this raises another important question of which types of banks are responsible for each of these major periods of failure? \n",
    "\n",
    "The plot below (figure 2) is the next step to finding the answer to the above question. In this plot each institution is spereated from each other and graphed over time. This makes it easier to compare, especially with different colored markers for corresponding banks via one plot with each kind of bank charted and superimposed upon each other."
   ]
  },
  {
   "cell_type": "code",
   "execution_count": 1,
   "metadata": {},
   "outputs": [
    {
     "ename": "NameError",
     "evalue": "name 'banks' is not defined",
     "output_type": "error",
     "traceback": [
      "\u001b[0;31m---------------------------------------------------------------------------\u001b[0m",
      "\u001b[0;31mNameError\u001b[0m                                 Traceback (most recent call last)",
      "\u001b[0;32m<ipython-input-1-252cfbc0f397>\u001b[0m in \u001b[0;36m<module>\u001b[0;34m()\u001b[0m\n\u001b[0;32m----> 1\u001b[0;31m \u001b[0mfailure_year_type\u001b[0m \u001b[0;34m=\u001b[0m \u001b[0mbanks\u001b[0m\u001b[0;34m.\u001b[0m\u001b[0mgroupby\u001b[0m\u001b[0;34m(\u001b[0m\u001b[0;34m[\u001b[0m\u001b[0;34m'Failure Year'\u001b[0m\u001b[0;34m,\u001b[0m \u001b[0;34m'Institution Type'\u001b[0m\u001b[0;34m]\u001b[0m\u001b[0;34m,\u001b[0m \u001b[0mas_index\u001b[0m\u001b[0;34m=\u001b[0m\u001b[0;32mFalse\u001b[0m\u001b[0;34m)\u001b[0m\u001b[0;34m[\u001b[0m\u001b[0;34m'Institution Name'\u001b[0m\u001b[0;34m]\u001b[0m\u001b[0;34m.\u001b[0m\u001b[0magg\u001b[0m\u001b[0;34m(\u001b[0m\u001b[0;34m'count'\u001b[0m\u001b[0;34m)\u001b[0m\u001b[0;34m\u001b[0m\u001b[0m\n\u001b[0m\u001b[1;32m      2\u001b[0m \u001b[0mfailure_year_type\u001b[0m\u001b[0;34m.\u001b[0m\u001b[0mcolumns\u001b[0m\u001b[0;34m=\u001b[0m\u001b[0;34m[\u001b[0m\u001b[0;34m'Failure Year'\u001b[0m\u001b[0;34m,\u001b[0m \u001b[0;34m'Institution Type'\u001b[0m\u001b[0;34m,\u001b[0m \u001b[0;34m'Number of Failures'\u001b[0m\u001b[0;34m]\u001b[0m\u001b[0;34m\u001b[0m\u001b[0m\n\u001b[1;32m      3\u001b[0m \u001b[0;34m\u001b[0m\u001b[0m\n\u001b[1;32m      4\u001b[0m \u001b[0mfailure_year_comm\u001b[0m \u001b[0;34m=\u001b[0m \u001b[0mfailure_year_type\u001b[0m\u001b[0;34m[\u001b[0m\u001b[0mfailure_year_type\u001b[0m\u001b[0;34m[\u001b[0m\u001b[0;34m'Institution Type'\u001b[0m\u001b[0;34m]\u001b[0m\u001b[0;34m==\u001b[0m\u001b[0;34m'COMMERCIAL BANK'\u001b[0m\u001b[0;34m]\u001b[0m\u001b[0;34m\u001b[0m\u001b[0m\n\u001b[1;32m      5\u001b[0m \u001b[0mfailure_year_savea\u001b[0m \u001b[0;34m=\u001b[0m \u001b[0mfailure_year_type\u001b[0m\u001b[0;34m[\u001b[0m\u001b[0mfailure_year_type\u001b[0m\u001b[0;34m[\u001b[0m\u001b[0;34m'Institution Type'\u001b[0m\u001b[0;34m]\u001b[0m\u001b[0;34m==\u001b[0m\u001b[0;34m'SAVINGS ASSOCIATION'\u001b[0m\u001b[0;34m]\u001b[0m\u001b[0;34m\u001b[0m\u001b[0m\n",
      "\u001b[0;31mNameError\u001b[0m: name 'banks' is not defined"
     ]
    }
   ],
   "source": [
    "failure_year_type = banks.groupby(['Failure Year', 'Institution Type'], as_index=False)['Institution Name'].agg('count')\n",
    "failure_year_type.columns=['Failure Year', 'Institution Type', 'Number of Failures']\n",
    "\n",
    "failure_year_comm = failure_year_type[failure_year_type['Institution Type']=='COMMERCIAL BANK']\n",
    "failure_year_savea = failure_year_type[failure_year_type['Institution Type']=='SAVINGS ASSOCIATION']\n",
    "failure_year_saveb = failure_year_type[failure_year_type['Institution Type']=='SAVINGS BANK']\n",
    "\n",
    "\n",
    "failure_year_all = failure_year_type[(failure_year_type['Institution Type']=='COMMERCIAL BANK') | (failure_year_type['Institution Type']=='SAVINGS ASSOCIATION') | (failure_year_type['Institution Type']=='SAVINGS BANK')]\n",
    "failure_year_all = failure_year_all.groupby('Failure Year', as_index=False)['Number of Failures'].agg('sum')\n",
    "\n",
    "plt.plot(failure_year_comm['Failure Year'], failure_year_comm['Number of Failures'], 'b-')\n",
    "plt.plot(failure_year_savea['Failure Year'], failure_year_savea['Number of Failures'], 'r-')\n",
    "plt.plot(failure_year_saveb['Failure Year'], failure_year_saveb['Number of Failures'], 'm-')\n",
    "plt.plot(failure_year_all['Failure Year'], failure_year_all['Number of Failures'], 'g--')\n",
    "\n",
    "\n",
    "\n",
    "plt.xlabel('Year')\n",
    "plt.ylabel('Institution Failures')\n",
    "plt.legend(['Commercial Bank', 'Savings Assn', 'Savings Bank', 'All'])"
   ]
  },
  {
   "cell_type": "code",
   "execution_count": 124,
   "metadata": {},
   "outputs": [],
   "source": [
    "#Exploring varience analysis and possibility for forcasting\n",
    "#scipy.stats.f_oneway¶"
   ]
  },
  {
   "cell_type": "markdown",
   "metadata": {},
   "source": [
    "The plot above shows how in the beginning commercial banks were largely responsible for the most failures in the fisrt period. This changes in the second period when savings associations take on this burden where at their peak out failed commercial banks. In the third period the commercial banks take the lead in failures once again emulating the patterned from period 1. It can be concluded that the period of the 1980's recession had the most failures. Saving association banks failed more that commercial and Savings banks on avergage but not in every peiod. Since we know that during the 1930's - 40's, commercial banks were the biggest failures. And the recent recession of the 2000's show a similar pattern to that of the great depression where commercial banks also failed most."
   ]
  },
  {
   "cell_type": "markdown",
   "metadata": {},
   "source": [
    "Want to show statistically that the Estimated Loss for the various types of banks are different.  T-test doesn't apply since data not normal. So, we use the pearson test on Estimated Loss (2015)"
   ]
  },
  {
   "cell_type": "code",
   "execution_count": 83,
   "metadata": {},
   "outputs": [
    {
     "name": "stdout",
     "output_type": "stream",
     "text": [
      "(236837.0, 0.39877022445475974)\n",
      "(53753.0, 0.49367152926755947)\n",
      "(2719804.5, 9.4379580737865157e-11)\n"
     ]
    }
   ],
   "source": [
    "from scipy.stats import mannwhitneyu \n",
    "\n",
    "savings_assn = banks[banks['Institution Type']=='SAVINGS ASSOCIATION']\n",
    "savings = banks[banks['Institution Type']=='SAVINGS BANK']\n",
    "commercial = banks[banks['Institution Type']=='COMMERCIAL BANK']\n",
    "\n",
    "u, p = mannwhitneyu(savings_assn['Estimated Loss (2015)'], savings_assn['Estimated Loss (2015)'])\n",
    "print((u, p))\n",
    "\n",
    "\n",
    "u, p = mannwhitneyu(savings['Estimated Loss (2015)'], savings['Estimated Loss (2015)'])\n",
    "print((u, p))\n",
    "\n",
    "\n",
    "u, p = mannwhitneyu(commercial['Estimated Loss (2015)'], commercial['Estimated Loss (2015)'])\n",
    "print((u, p))"
   ]
  },
  {
   "cell_type": "markdown",
   "metadata": {},
   "source": [
    "## Analytic Question 2 \n",
    "**Which bank cost the government most to resolve in each period, and how do these institutions compare relative to other banks within each period?**"
   ]
  },
  {
   "cell_type": "markdown",
   "metadata": {},
   "source": [
    "This question is interesting because we already know which general periods of time that the majority of financial institutions failed, but we don't know the financial loss of the biggest failure in each period. Nor dow we yet know how that largest failed bank compares to the second, third, fourth biggest failures in each period. Do any interesting patterns emerge? \n",
    "\n",
    "It's important to note that loss and cost are also synonymous with each other representing the cost to the government.\n",
    "\n",
    "Since there isn't enough data on estimated losses (2015) beyond 1988.I've decided to import an inflation multiplier to adjust total assets for inflation and use this new metric as a proxy to compare and contrast losses across all periods.\n",
    "\n",
    "Using this new metric to measure losses; we divide the data into the three periods or \"ranges\" of time. These specific ranges will be as follows: \n",
    "year_range_1(1934, 1943)\n",
    "year_range_2(1980, 1990)\n",
    "year_range_3(2000, 2015)\n",
    "\n",
    "These ranges are in keeping with the time frames we sorted earlier in answering question one where a histogram can show you those ranges more clearly (ref figure 1 above)"
   ]
  },
  {
   "cell_type": "markdown",
   "metadata": {},
   "source": [
    "Below is where we read the file and define the new banks_inflation data frame and see the values that the data is organized under. "
   ]
  },
  {
   "cell_type": "code",
   "execution_count": 84,
   "metadata": {},
   "outputs": [
    {
     "data": {
      "text/plain": [
       "Index(['Financial Institution Number', 'Institution Name', 'Institution Type',\n",
       "       'Charter Type', 'Headquarters', 'Failure Date', 'Insurance Fund',\n",
       "       'Certificate Number', 'Transaction Type', 'Total Deposits',\n",
       "       'Total Assets', 'Estimated Loss (2015)', 'Failure Year', 'City',\n",
       "       'State', 'year', 'inflation_multiplier'],\n",
       "      dtype='object')"
      ]
     },
     "execution_count": 84,
     "metadata": {},
     "output_type": "execute_result"
    }
   ],
   "source": [
    "conversion_df = pd.read_csv('inflation.csv')\n",
    "banks_inflation = pd.merge(banks, conversion_df, left_on='Failure Year', right_on='year')\n",
    "banks_inflation.columns"
   ]
  },
  {
   "cell_type": "markdown",
   "metadata": {},
   "source": [
    "Below we do two things:\n",
    "\n",
    "1. We create a table that converts 2015 vals to 2017 vals; 2017 values are what I chose so as to be as current as possible to a ubiquitious inflation rate.\n",
    "\n",
    "2. We then sort the values by Institution Name and Total Assets (2015) and we plot those values to compare their bar plots to determine if there is a correlation. \n"
   ]
  },
  {
   "cell_type": "markdown",
   "metadata": {},
   "source": [
    "In the following cell's block of code I attempted to test two data samples; 'Total Assets (2015)', and 'Estimated Loss (2015)'. I implemented the following peasrson test for normal distribution, since the data are normally distibuted."
   ]
  },
  {
   "cell_type": "code",
   "execution_count": 85,
   "metadata": {},
   "outputs": [
    {
     "name": "stdout",
     "output_type": "stream",
     "text": [
      "0.153710307701 9.82136388207e-15\n"
     ]
    },
    {
     "data": {
      "image/png": "[encoded data removed]",
      "text/plain": [
       "<matplotlib.figure.Figure at 0x10e645c50>"
      ]
     },
     "metadata": {},
     "output_type": "display_data"
    }
   ],
   "source": [
    "banks_inflation['Total Assets (2015)']=banks_inflation['Total Assets']*banks_inflation['inflation_multiplier'] \n",
    "plt.scatter(banks_inflation['Total Assets (2015)'], banks_inflation['Estimated Loss (2015)']) \n",
    "plt.xlabel('Total Assets (2015)') \n",
    "plt.ylabel('Estimated Loss (2015)') \n",
    "plt.xlim([0, 0.6e8])\n",
    "\n",
    "bankst = banks_inflation.dropna(subset=['Total Assets (2015)', 'Estimated Loss (2015)', 'Total Assets']) \n",
    "x, y = pearsonr(bankst['Total Assets'], bankst['Estimated Loss (2015)']) \n",
    "print(x, y)"
   ]
  },
  {
   "cell_type": "markdown",
   "metadata": {},
   "source": [
    "Above we can see that most of the banks(data points) on this graph cluster between 0 and 1 for assets and 0 and .2 for Losses. Implying that there is a positive correlation between Total Assests and Estimated Loss.\n",
    "\n",
    "Below I've created summary statistics for each variable tested for, Estimated Loss (2015) and Total Assets. This is to show how differently distributed the two values were before we brought the sets of data were compared."
   ]
  },
  {
   "cell_type": "code",
   "execution_count": 86,
   "metadata": {},
   "outputs": [
    {
     "data": {
      "text/html": [
       "<div>\n",
       "<style scoped>\n",
       "    .dataframe tbody tr th:only-of-type {\n",
       "        vertical-align: middle;\n",
       "    }\n",
       "\n",
       "    .dataframe tbody tr th {\n",
       "        vertical-align: top;\n",
       "    }\n",
       "\n",
       "    .dataframe thead th {\n",
       "        text-align: right;\n",
       "    }\n",
       "</style>\n",
       "<table border=\"1\" class=\"dataframe\">\n",
       "  <thead>\n",
       "    <tr style=\"text-align: right;\">\n",
       "      <th></th>\n",
       "      <th>count</th>\n",
       "      <th>mean</th>\n",
       "      <th>std</th>\n",
       "      <th>min</th>\n",
       "      <th>25%</th>\n",
       "      <th>50%</th>\n",
       "      <th>75%</th>\n",
       "      <th>max</th>\n",
       "    </tr>\n",
       "    <tr>\n",
       "      <th>Institution Type</th>\n",
       "      <th></th>\n",
       "      <th></th>\n",
       "      <th></th>\n",
       "      <th></th>\n",
       "      <th></th>\n",
       "      <th></th>\n",
       "      <th></th>\n",
       "      <th></th>\n",
       "    </tr>\n",
       "  </thead>\n",
       "  <tbody>\n",
       "    <tr>\n",
       "      <th>COMMERCIAL BANK</th>\n",
       "      <td>1619.0</td>\n",
       "      <td>41835.451513</td>\n",
       "      <td>139013.822067</td>\n",
       "      <td>0.0</td>\n",
       "      <td>3180.00</td>\n",
       "      <td>8857.0</td>\n",
       "      <td>30081.0</td>\n",
       "      <td>3330263.0</td>\n",
       "    </tr>\n",
       "    <tr>\n",
       "      <th>SAVINGS ASSOCIATION</th>\n",
       "      <td>572.0</td>\n",
       "      <td>106485.405594</td>\n",
       "      <td>282282.109304</td>\n",
       "      <td>-551.0</td>\n",
       "      <td>7208.00</td>\n",
       "      <td>24116.0</td>\n",
       "      <td>73533.5</td>\n",
       "      <td>3142552.0</td>\n",
       "    </tr>\n",
       "    <tr>\n",
       "      <th>SAVINGS BANK</th>\n",
       "      <td>318.0</td>\n",
       "      <td>152847.254717</td>\n",
       "      <td>780479.657822</td>\n",
       "      <td>-4386.0</td>\n",
       "      <td>7977.25</td>\n",
       "      <td>25392.5</td>\n",
       "      <td>93980.5</td>\n",
       "      <td>12438005.0</td>\n",
       "    </tr>\n",
       "  </tbody>\n",
       "</table>\n",
       "</div>"
      ],
      "text/plain": [
       "                      count           mean            std     min      25%  \\\n",
       "Institution Type                                                             \n",
       "COMMERCIAL BANK      1619.0   41835.451513  139013.822067     0.0  3180.00   \n",
       "SAVINGS ASSOCIATION   572.0  106485.405594  282282.109304  -551.0  7208.00   \n",
       "SAVINGS BANK          318.0  152847.254717  780479.657822 -4386.0  7977.25   \n",
       "\n",
       "                         50%      75%         max  \n",
       "Institution Type                                   \n",
       "COMMERCIAL BANK       8857.0  30081.0   3330263.0  \n",
       "SAVINGS ASSOCIATION  24116.0  73533.5   3142552.0  \n",
       "SAVINGS BANK         25392.5  93980.5  12438005.0  "
      ]
     },
     "execution_count": 86,
     "metadata": {},
     "output_type": "execute_result"
    }
   ],
   "source": [
    "banks.groupby(['Institution Type'])['Estimated Loss (2015)'].describe()"
   ]
  },
  {
   "cell_type": "code",
   "execution_count": 87,
   "metadata": {},
   "outputs": [
    {
     "data": {
      "text/html": [
       "<div>\n",
       "<style scoped>\n",
       "    .dataframe tbody tr th:only-of-type {\n",
       "        vertical-align: middle;\n",
       "    }\n",
       "\n",
       "    .dataframe tbody tr th {\n",
       "        vertical-align: top;\n",
       "    }\n",
       "\n",
       "    .dataframe thead th {\n",
       "        text-align: right;\n",
       "    }\n",
       "</style>\n",
       "<table border=\"1\" class=\"dataframe\">\n",
       "  <thead>\n",
       "    <tr style=\"text-align: right;\">\n",
       "      <th></th>\n",
       "      <th>count</th>\n",
       "      <th>mean</th>\n",
       "      <th>std</th>\n",
       "      <th>min</th>\n",
       "      <th>25%</th>\n",
       "      <th>50%</th>\n",
       "      <th>75%</th>\n",
       "      <th>max</th>\n",
       "    </tr>\n",
       "    <tr>\n",
       "      <th>Institution Type</th>\n",
       "      <th></th>\n",
       "      <th></th>\n",
       "      <th></th>\n",
       "      <th></th>\n",
       "      <th></th>\n",
       "      <th></th>\n",
       "      <th></th>\n",
       "      <th></th>\n",
       "    </tr>\n",
       "  </thead>\n",
       "  <tbody>\n",
       "    <tr>\n",
       "      <th>COMMERCIAL BANK</th>\n",
       "      <td>2315.0</td>\n",
       "      <td>1.795535e+05</td>\n",
       "      <td>8.938253e+05</td>\n",
       "      <td>14.0</td>\n",
       "      <td>9706.0</td>\n",
       "      <td>27090.0</td>\n",
       "      <td>98846.0</td>\n",
       "      <td>25455112.0</td>\n",
       "    </tr>\n",
       "    <tr>\n",
       "      <th>SAVINGS ASSOCIATION</th>\n",
       "      <td>691.0</td>\n",
       "      <td>4.505859e+05</td>\n",
       "      <td>1.084308e+06</td>\n",
       "      <td>4816.0</td>\n",
       "      <td>54397.5</td>\n",
       "      <td>127005.0</td>\n",
       "      <td>319666.0</td>\n",
       "      <td>13382327.0</td>\n",
       "    </tr>\n",
       "    <tr>\n",
       "      <th>SAVINGS BANK</th>\n",
       "      <td>327.0</td>\n",
       "      <td>1.900526e+06</td>\n",
       "      <td>1.712776e+07</td>\n",
       "      <td>4008.0</td>\n",
       "      <td>64505.0</td>\n",
       "      <td>174717.0</td>\n",
       "      <td>643582.5</td>\n",
       "      <td>307021614.0</td>\n",
       "    </tr>\n",
       "  </tbody>\n",
       "</table>\n",
       "</div>"
      ],
      "text/plain": [
       "                      count          mean           std     min      25%  \\\n",
       "Institution Type                                                           \n",
       "COMMERCIAL BANK      2315.0  1.795535e+05  8.938253e+05    14.0   9706.0   \n",
       "SAVINGS ASSOCIATION   691.0  4.505859e+05  1.084308e+06  4816.0  54397.5   \n",
       "SAVINGS BANK          327.0  1.900526e+06  1.712776e+07  4008.0  64505.0   \n",
       "\n",
       "                          50%       75%          max  \n",
       "Institution Type                                      \n",
       "COMMERCIAL BANK       27090.0   98846.0   25455112.0  \n",
       "SAVINGS ASSOCIATION  127005.0  319666.0   13382327.0  \n",
       "SAVINGS BANK         174717.0  643582.5  307021614.0  "
      ]
     },
     "execution_count": 87,
     "metadata": {},
     "output_type": "execute_result"
    }
   ],
   "source": [
    "banks.groupby(['Institution Type'])['Total Assets'].describe()"
   ]
  },
  {
   "cell_type": "markdown",
   "metadata": {},
   "source": [
    "Below we sort the values adjeusted for inflation by Institution Name and Total Assets (2015). \n",
    "Then we plot those values and compare the bar plots of each period of time. These peiods are labled as ranges of time in the code below, for instance, the first period's \"range(1934, 1943)\". The corresponding graphs for each period or \"range\" is also found below starting with the aformentioned range from left to right. The goal for these graphs is to convey the scale of how removed the largest failed bank's assets are to the next."
   ]
  },
  {
   "cell_type": "code",
   "execution_count": 88,
   "metadata": {},
   "outputs": [
    {
     "data": {
      "text/plain": [
       "(<matplotlib.axes._subplots.AxesSubplot at 0x10c1b7400>,)"
      ]
     },
     "execution_count": 88,
     "metadata": {},
     "output_type": "execute_result"
    },
    {
     "data": {
      "image/png": "[encoded data removed]",
      "text/plain": [
       "<matplotlib.figure.Figure at 0x10d399358>"
      ]
     },
     "metadata": {},
     "output_type": "display_data"
    }
   ],
   "source": [
    "banks_inflation['Total Assets (2015)']=banks_inflation['Total Assets']*banks_inflation['inflation_multiplier']\n",
    "year_range_1 = range(1934, 1943)\n",
    "year_range_2 = range(1980, 1990)\n",
    "year_range_3 = range(2000, 2015)\n",
    "banks_1 = banks_inflation[banks_inflation['Failure Year'].isin(year_range_1)].sort_values('Total Assets (2015)', ascending=False).head(5)\n",
    "banks_2 = banks_inflation[banks_inflation['Failure Year'].isin(year_range_2)].sort_values('Total Assets (2015)', ascending=False).head(5)\n",
    "banks_3 = banks_inflation[banks_inflation['Failure Year'].isin(year_range_3)].sort_values('Total Assets (2015)', ascending=False).head(5)\n",
    "\n",
    "fig, axes = plt.subplots(nrows=1, ncols=3)\n",
    "banks_1.plot.bar(x='Institution Name', y='Total Assets (2015)', ax=axes[0]), \n",
    "banks_2.plot.bar(x='Institution Name', y='Total Assets (2015)', ax=axes[1]), \n",
    "banks_3.plot.bar(x='Institution Name', y='Total Assets (2015)', ax=axes[2]), "
   ]
  },
  {
   "cell_type": "markdown",
   "metadata": {},
   "source": [
    "The biggest asset bank is quite removed from the other banks. In the first period the largest bank is removed from the others by a factor of 2. In the second not by much, maybe by 500,000. In the third by a factor of 7.\n",
    "\n",
    "Next > I could probably try to compute some summary stat about how big the largest bank was relative to second or how many banks underneath the first it takes for the total assets to be comparable.\n",
    "\n",
    "build in a bit of narrative around **summary statistics** explaining what is going on with this question and why it is interesting. "
   ]
  },
  {
   "cell_type": "code",
   "execution_count": 89,
   "metadata": {},
   "outputs": [
    {
     "data": {
      "text/plain": [
       "Text(0.5,0,'')"
      ]
     },
     "execution_count": 89,
     "metadata": {},
     "output_type": "execute_result"
    },
    {
     "data": {
      "image/png": "[encoded data removed]",
      "text/plain": [
       "<matplotlib.figure.Figure at 0x10d978320>"
      ]
     },
     "metadata": {},
     "output_type": "display_data"
    }
   ],
   "source": [
    "banks_inflation['Total Assets (2015)']=banks_inflation['Total Assets']*banks_inflation['inflation_multiplier']\n",
    "year_range_1 = range(1934, 1943)\n",
    "year_range_2 = range(1980, 1990)\n",
    "year_range_3 = range(2000, 2015)\n",
    "banks_1 = banks_inflation[banks_inflation['Failure Year'].isin(year_range_1)].sort_values('Total Assets (2015)', ascending=False).head(5)\n",
    "#banks_1 = banks_inflation[banks_inflation['Failure Year'].isin(year_range_1)].sort_values('Total Assets (2015)', ascending=False).iloc[1:5] \n",
    "banks_1['total_assets_normalized']=banks_1['Total Assets (2015)']/banks_1['Total Assets (2015)'].iloc[0]\n",
    "banks_1 = banks_1.iloc[1:5]\n",
    "\n",
    "banks_2 = banks_inflation[banks_inflation['Failure Year'].isin(year_range_2)].sort_values('Total Assets (2015)', ascending=False).head(5)\n",
    "#banks_2 = banks_inflation[banks_inflation['Failure Year'].isin(year_range_2)].sort_values('Total Assets (2015)', ascending=False).iloc[1:5]\n",
    "banks_2['total_assets_normalized']=banks_2['Total Assets (2015)']/banks_2['Total Assets (2015)'].iloc[0]\n",
    "banks_2 = banks_2.iloc[1:5]\n",
    "\n",
    "\n",
    "banks_3 = banks_inflation[banks_inflation['Failure Year'].isin(year_range_3)].sort_values('Total Assets (2015)', ascending=False).head(5) \n",
    "#banks_3 = banks_inflation[banks_inflation['Failure Year'].isin(year_range_3)].sort_values('Total Assets (2015)', ascending=False).iloc[1:5]\n",
    "banks_3['total_assets_normalized']=banks_3['Total Assets (2015)']/banks_3['Total Assets (2015)'].iloc[0]\n",
    "banks_3 = banks_3.iloc[1:5]\n",
    "\n",
    "fig, axes = plt.subplots(nrows=1, ncols=3)\n",
    "banks_1.plot.bar(x='Institution Name', y='total_assets_normalized', ax=axes[0],legend=False, ylim=(0,.8),title='1934-1943')\n",
    "\n",
    "banks_2.plot.bar(x='Institution Name', y='total_assets_normalized', ax=axes[1],legend=False, ylim=(0,.8),title='1980-1990')\n",
    "\n",
    "\n",
    "banks_3.plot.bar(x='Institution Name', y='total_assets_normalized', ax=axes[2],legend=False, ylim=(0,.8),title='2000-2015')\n",
    "\n",
    "axes[0].set_xlabel(\"\")\n",
    "axes[0].set_ylabel(\"Percent Assets Relative to Largest Bank\")\n",
    "axes[1].set_xlabel(\"\")\n",
    "axes[2].set_xlabel(\"\")"
   ]
  },
  {
   "cell_type": "markdown",
   "metadata": {},
   "source": [
    "In the first period the size of the assets of the next largest bank (Banco Di Napoli CO. of New York) is about 45% of the assets of the first largest bank (The New Jersey Title Guarantee & Trust CO.)\n",
    "\n",
    "Gibraltar Savings, FA is a little more than 75% of First RepublicBank-Dallas, N.A. in the second period\n",
    "\n",
    "In the third period we see again that Indymac bank F.S.B. pails in comparison of the largest bank to fail in its period of history as a mere 10% of Washington Mutual Bank."
   ]
  },
  {
   "cell_type": "code",
   "execution_count": 90,
   "metadata": {},
   "outputs": [
    {
     "data": {
      "text/html": [
       "<div>\n",
       "<style scoped>\n",
       "    .dataframe tbody tr th:only-of-type {\n",
       "        vertical-align: middle;\n",
       "    }\n",
       "\n",
       "    .dataframe tbody tr th {\n",
       "        vertical-align: top;\n",
       "    }\n",
       "\n",
       "    .dataframe thead th {\n",
       "        text-align: right;\n",
       "    }\n",
       "</style>\n",
       "<table border=\"1\" class=\"dataframe\">\n",
       "  <thead>\n",
       "    <tr style=\"text-align: right;\">\n",
       "      <th></th>\n",
       "      <th>mean</th>\n",
       "      <th>std</th>\n",
       "      <th>count</th>\n",
       "    </tr>\n",
       "    <tr>\n",
       "      <th>Institution Type</th>\n",
       "      <th></th>\n",
       "      <th></th>\n",
       "      <th></th>\n",
       "    </tr>\n",
       "  </thead>\n",
       "  <tbody>\n",
       "    <tr>\n",
       "      <th>COMMERCIAL BANK</th>\n",
       "      <td>2.673818e+05</td>\n",
       "      <td>1.356841e+06</td>\n",
       "      <td>2315</td>\n",
       "    </tr>\n",
       "    <tr>\n",
       "      <th>SAVINGS ASSOCIATION</th>\n",
       "      <td>8.367140e+05</td>\n",
       "      <td>2.014593e+06</td>\n",
       "      <td>691</td>\n",
       "    </tr>\n",
       "    <tr>\n",
       "      <th>SAVINGS BANK</th>\n",
       "      <td>2.482396e+06</td>\n",
       "      <td>1.890531e+07</td>\n",
       "      <td>327</td>\n",
       "    </tr>\n",
       "  </tbody>\n",
       "</table>\n",
       "</div>"
      ],
      "text/plain": [
       "                             mean           std  count\n",
       "Institution Type                                      \n",
       "COMMERCIAL BANK      2.673818e+05  1.356841e+06   2315\n",
       "SAVINGS ASSOCIATION  8.367140e+05  2.014593e+06    691\n",
       "SAVINGS BANK         2.482396e+06  1.890531e+07    327"
      ]
     },
     "execution_count": 90,
     "metadata": {},
     "output_type": "execute_result"
    }
   ],
   "source": [
    "banks_inflation.groupby(['Institution Type'])['Total Assets (2015)'].agg(['mean','std','count'])"
   ]
  },
  {
   "cell_type": "markdown",
   "metadata": {},
   "source": [
    "## Analytic Question 3\n",
    "**How have bank failures differed by states over time?** \n",
    "\n",
    "1. Which states had the highest failures?\n",
    "2. Which states cost the government the most to resolve?\n",
    "3. Is there a correlation between bank failures and cost?\n"
   ]
  },
  {
   "cell_type": "markdown",
   "metadata": {},
   "source": [
    "One challenge I face specific to this question is my understanding of what role population plays in the number of failures. Going forward Population density is a factor I'd like to include.\n",
    "\n",
    "In this question I am building on the second question's quest to understand the cost to a state and federal government at large. The states will be substrated from each range to discover which state in fact had the highest failures and cost the most to resolve. What cost they incured collectively as a state rather than which type of institution and which bank specifically was responsible. In fact I'm curious tho know if those particular banks are apart of a larger problem.\n",
    "\n",
    "To do I will follow the aformentioned ranges. Next I will break up failures into the three major time periods. Then compute counts and losses for each state per period and plot the results in a bar blot with subplots for each period."
   ]
  },
  {
   "cell_type": "code",
   "execution_count": 91,
   "metadata": {},
   "outputs": [
    {
     "data": {
      "text/plain": [
       "3484"
      ]
     },
     "execution_count": 91,
     "metadata": {},
     "output_type": "execute_result"
    }
   ],
   "source": [
    "len(banks)"
   ]
  },
  {
   "cell_type": "markdown",
   "metadata": {},
   "source": [
    "Of the 3,484 financial institutions in this dataset, and across the whole range of time, which states had the highest failures? We'll delve into this question with the `State` variable in mind. Below we are plotting the histogram of the Bank Failure by State and print the States with the top 5 banks failures. I decided to go with a histogram; ordered alphabetically and numerically and supplement it with a color coordinated plot sorted by just bank failures. It shows the states on the  axis clearly, and the number of failures clearly as well in incraments of 100."
   ]
  },
  {
   "cell_type": "code",
   "execution_count": 111,
   "metadata": {},
   "outputs": [
    {
     "data": {
      "text/html": [
       "<div>\n",
       "<style scoped>\n",
       "    .dataframe tbody tr th:only-of-type {\n",
       "        vertical-align: middle;\n",
       "    }\n",
       "\n",
       "    .dataframe tbody tr th {\n",
       "        vertical-align: top;\n",
       "    }\n",
       "\n",
       "    .dataframe thead th {\n",
       "        text-align: right;\n",
       "    }\n",
       "</style>\n",
       "<table border=\"1\" class=\"dataframe\">\n",
       "  <thead>\n",
       "    <tr style=\"text-align: right;\">\n",
       "      <th></th>\n",
       "      <th>State</th>\n",
       "      <th>Institution Name</th>\n",
       "    </tr>\n",
       "  </thead>\n",
       "  <tbody>\n",
       "    <tr>\n",
       "      <th>44</th>\n",
       "      <td>TX</td>\n",
       "      <td>736</td>\n",
       "    </tr>\n",
       "    <tr>\n",
       "      <th>4</th>\n",
       "      <td>CA</td>\n",
       "      <td>236</td>\n",
       "    </tr>\n",
       "    <tr>\n",
       "      <th>14</th>\n",
       "      <td>IL</td>\n",
       "      <td>181</td>\n",
       "    </tr>\n",
       "    <tr>\n",
       "      <th>9</th>\n",
       "      <td>FL</td>\n",
       "      <td>178</td>\n",
       "    </tr>\n",
       "    <tr>\n",
       "      <th>37</th>\n",
       "      <td>OK</td>\n",
       "      <td>170</td>\n",
       "    </tr>\n",
       "  </tbody>\n",
       "</table>\n",
       "</div>"
      ],
      "text/plain": [
       "   State  Institution Name\n",
       "44    TX               736\n",
       "4     CA               236\n",
       "14    IL               181\n",
       "9     FL               178\n",
       "37    OK               170"
      ]
     },
     "execution_count": 111,
     "metadata": {},
     "output_type": "execute_result"
    },
    {
     "data": {
      "image/png": "[encoded data removed]",
      "text/plain": [
       "<matplotlib.figure.Figure at 0x10ff4ae48>"
      ]
     },
     "metadata": {},
     "output_type": "display_data"
    },
    {
     "data": {
      "image/png": "[encoded data removed]",
      "text/plain": [
       "<matplotlib.figure.Figure at 0x10db46208>"
      ]
     },
     "metadata": {},
     "output_type": "display_data"
    }
   ],
   "source": [
    "plt.hist(banks['State'],bins=50)\n",
    "plt.xticks(fontsize=7,rotation=90)\n",
    "plt.xlabel('State')\n",
    "plt.ylabel('Bank Failures')\n",
    "\n",
    "banks_by_state = banks.groupby('State', as_index=False)['Institution Name'].agg('count').sort_values(by='Institution Name',ascending=False)\n",
    "banks_by_state.plot.bar(x='State',y='Institution Name')\n",
    "banks_by_state.sort_values(by='Institution Name', ascending=False).iloc[0:5]"
   ]
  },
  {
   "cell_type": "markdown",
   "metadata": {},
   "source": [
    "The tables above show that, Texas is by far the state with the largest amount of bank failures of any type and across all periods of time in the USA in aggregate."
   ]
  },
  {
   "cell_type": "markdown",
   "metadata": {},
   "source": [
    "Is Texas also responsible for the most losses? Even though it has the most failures, we know from question 2 that savings banks as few failed as there are, were responsible for the most losses. Therefore its possible that a state as large as Texas could not be responsible for costing the most damage to the government. Below we quickly plot a histogram to show how rsponsible Texas is for the overall losses."
   ]
  },
  {
   "cell_type": "code",
   "execution_count": 119,
   "metadata": {},
   "outputs": [
    {
     "data": {
      "text/plain": [
       "Text(0,0.5,'Estimated Loss (2015)')"
      ]
     },
     "execution_count": 119,
     "metadata": {},
     "output_type": "execute_result"
    },
    {
     "data": {
      "image/png": "[encoded data removed]",
      "text/plain": [
       "<matplotlib.figure.Figure at 0x110463278>"
      ]
     },
     "metadata": {},
     "output_type": "display_data"
    }
   ],
   "source": [
    "plt.hist(banks['State'],bins=50)\n",
    "plt.xticks(fontsize=7,rotation=90)\n",
    "plt.xlabel('Failures by State')\n",
    "plt.ylabel('Estimated Loss (2015)')\n",
    "\n",
    "#banks_by_state = banks.groupby('State', as_index=False)['Estimated Loss (2015)'].agg('count')\n",
    "#banks_by_state.sort_values(by='Estimated Loss (2015)', ascending=False).iloc[0:5]"
   ]
  },
  {
   "cell_type": "markdown",
   "metadata": {},
   "source": [
    "Next we delve deeper into the amount of losses for each state within each period and create three subplots to visualize this. "
   ]
  },
  {
   "cell_type": "code",
   "execution_count": 95,
   "metadata": {},
   "outputs": [
    {
     "data": {
      "text/plain": [
       "Text(0,0.5,'Estimated Loss (2015)')"
      ]
     },
     "execution_count": 95,
     "metadata": {},
     "output_type": "execute_result"
    },
    {
     "data": {
      "image/png": "[encoded data removed]",
      "text/plain": [
       "<matplotlib.figure.Figure at 0x10c070cc0>"
      ]
     },
     "metadata": {},
     "output_type": "display_data"
    }
   ],
   "source": [
    "banks_inflation['Total Assets (2015)']=banks_inflation['Total Assets']*banks_inflation['inflation_multiplier']\n",
    "year_range_1 = range(1934, 1943)\n",
    "year_range_2 = range(1980, 1990)\n",
    "year_range_3 = range(2000, 2015)\n",
    "\n",
    "banks_1 = banks_inflation[banks_inflation['Failure Year'].isin(year_range_1)]\n",
    "banks_2 = banks_inflation[banks_inflation['Failure Year'].isin(year_range_2)]\n",
    "banks_3 = banks_inflation[banks_inflation['Failure Year'].isin(year_range_3)]\n",
    "\n",
    "\n",
    "plt.subplot(3,1,1)\n",
    "plt.hist(banks_1['State'],bins=50)\n",
    "plt.xticks(fontsize=7,rotation=90)\n",
    "plt.xlabel('Failures by State')\n",
    "plt.ylabel('Estimated Loss (2015)')\n",
    "\n",
    "plt.subplot(3,1,2)\n",
    "plt.hist(banks_2['State'],bins=50)\n",
    "plt.xticks(fontsize=7,rotation=90)\n",
    "plt.xlabel('Failures by State')\n",
    "plt.ylabel('Estimated Loss (2015)')\n",
    "\n",
    "plt.subplot(3,1,3)\n",
    "plt.hist(banks_3['State'],bins=50)\n",
    "plt.xticks(fontsize=7,rotation=90)\n",
    "plt.xlabel('Failures by State')\n",
    "plt.ylabel('Estimated Loss (2015)')"
   ]
  },
  {
   "cell_type": "markdown",
   "metadata": {},
   "source": [
    "In the beginning it looks like Montana and West Virginia are the leaders in the Estimated Losses of their time period, ranging from 1934 to 1943\n",
    "\n",
    "So it seems the story has changed and Texas hasn't always been a failed state when it comes to banks. If we look at Texas' place on the graph following it down throught each graph and time we see that the state had less losses from bank failures than West Viginia or Montana. In the second graph from the top we see that this is the period of time were most of the bank failures and their losses stem from. \n",
    "\n",
    "Lastly and surprisingly Florida, Georgia, and Illinois are the juggernauts of the modern age of losses. "
   ]
  },
  {
   "cell_type": "markdown",
   "metadata": {},
   "source": [
    "Finally we discover what the losses were for all states. Then we take the average losses of each state and show this data from highest average losses to lowest average losses. \n",
    "\n",
    "Texas lost 6 times as much as the next most failing state, California. And the rest of the banks were relatively the same. "
   ]
  },
  {
   "cell_type": "markdown",
   "metadata": {},
   "source": [
    "Since we have already seen the three big periods to failures, it might be cool to see how bad the worst failures of each period were in 2015 USD. The biggest number of failures were 80s, but it looks like 2000s cost the most?"
   ]
  },
  {
   "cell_type": "markdown",
   "metadata": {},
   "source": [
    "I am noticing a lot of edits other than the explanatory text for Question 2 (which is actually pretty good).  You need to do a lot of work on the explanation for the intro and Question 1 (you are still relying on inline comments with your code instead of markdown).  You also need to do some major work on question 3.  Right now it looks like two quick summary plots without any interesting conclusions or statistical work.\n",
    "\n",
    "I would suggest you keep working on this and also get your third question finished.  This will involve you separating out failures by state for the three major time periods.\n"
   ]
  }
 ],
 "metadata": {
  "kernelspec": {
   "display_name": "Python 3",
   "language": "python",
   "name": "python3"
  },
  "language_info": {
   "codemirror_mode": {
    "name": "ipython",
    "version": 3
   },
   "file_extension": ".py",
   "mimetype": "text/x-python",
   "name": "python",
   "nbconvert_exporter": "python",
   "pygments_lexer": "ipython3",
   "version": "3.6.5"
  }
 },
 "nbformat": 4,
 "nbformat_minor": 2
}
