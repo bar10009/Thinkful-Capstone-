{
 "cells": [
  {
   "cell_type": "code",
   "execution_count": 11,
   "metadata": {},
   "outputs": [],
   "source": [
    "import pandas as pd\n",
    "import numpy as np\n",
    "import matplotlib.pyplot as plt\n",
    "%matplotlib inline"
   ]
  },
  {
   "cell_type": "code",
   "execution_count": 37,
   "metadata": {},
   "outputs": [],
   "source": [
    "df= pd.read_csv('~/Desktop/Thinkful-Projects/banks.csv')"
   ]
  },
  {
   "cell_type": "code",
   "execution_count": 38,
   "metadata": {},
   "outputs": [],
   "source": [
    "df1= pd.read_csv('~/Desktop/Thinkful-Projects/banklist.csv')"
   ]
  },
  {
   "cell_type": "code",
   "execution_count": 42,
   "metadata": {},
   "outputs": [
    {
     "data": {
      "text/plain": [
       "array(['Financial Institution Number', 'Institution Name',\n",
       "       'Institution Type', 'Charter Type', 'Headquarters', 'Failure Date',\n",
       "       'Insurance Fund', 'Certificate Number', 'Transaction Type',\n",
       "       'Total Deposits', 'Total Assets', 'Estimated Loss'], dtype=object)"
      ]
     },
     "execution_count": 42,
     "metadata": {},
     "output_type": "execute_result"
    }
   ],
   "source": [
    "df.columns=['Financial Institution Number', 'Institution Name', 'Institution Type', 'Charter Type', 'Headquarters', 'Failure Date', 'Insurance Fund', 'Certificate Number', 'Transaction Type', 'Total Deposits', 'Total Assets', 'Estimated Loss']\n",
    "df.columns.values"
   ]
  },
  {
   "cell_type": "code",
   "execution_count": 44,
   "metadata": {},
   "outputs": [
    {
     "data": {
      "text/plain": [
       "array(['Bank', 'City', 'ST', 'Cert', 'Aquiring Institution',\n",
       "       'Closing Date', 'Updated Date'], dtype=object)"
      ]
     },
     "execution_count": 44,
     "metadata": {},
     "output_type": "execute_result"
    }
   ],
   "source": [
    "df1.columns=['Bank', 'City', 'ST', 'Cert', 'Aquiring Institution', 'Closing Date', 'Updated Date']\n",
    "df1.columns.values"
   ]
  },
  {
   "cell_type": "code",
   "execution_count": 45,
   "metadata": {},
   "outputs": [
    {
     "data": {
      "text/plain": [
       "RangeIndex(start=0, stop=3484, step=1)"
      ]
     },
     "execution_count": 45,
     "metadata": {},
     "output_type": "execute_result"
    }
   ],
   "source": [
    "df.index[0:3485]"
   ]
  },
  {
   "cell_type": "code",
   "execution_count": 46,
   "metadata": {},
   "outputs": [
    {
     "data": {
      "text/plain": [
       "RangeIndex(start=0, stop=555, step=1)"
      ]
     },
     "execution_count": 46,
     "metadata": {},
     "output_type": "execute_result"
    }
   ],
   "source": [
    "df1.index[0:555]"
   ]
  },
  {
   "cell_type": "code",
   "execution_count": null,
   "metadata": {},
   "outputs": [],
   "source": []
  },
  {
   "cell_type": "code",
   "execution_count": 53,
   "metadata": {},
   "outputs": [],
   "source": [
    "#I dont understand why this line doesn't run but line 49 does\n",
    "df['Failure Year'] = df['Failure Date'].apply(lambda x: int(x.split('/')[2]))"
   ]
  },
  {
   "cell_type": "code",
   "execution_count": 52,
   "metadata": {},
   "outputs": [],
   "source": [
    "df1['Closing Year'] = df1['Closing Date'].apply(lambda x: int(x.split('-')[2]))"
   ]
  },
  {
   "cell_type": "code",
   "execution_count": 54,
   "metadata": {},
   "outputs": [
    {
     "data": {
      "text/plain": [
       "0       1934\n",
       "1       1934\n",
       "2       1934\n",
       "3       1934\n",
       "4       1934\n",
       "5       1934\n",
       "6       1934\n",
       "7       1934\n",
       "8       1934\n",
       "9       1935\n",
       "10      1935\n",
       "11      1935\n",
       "12      1935\n",
       "13      1935\n",
       "14      1935\n",
       "15      1935\n",
       "16      1935\n",
       "17      1935\n",
       "18      1935\n",
       "19      1935\n",
       "20      1935\n",
       "21      1935\n",
       "22      1935\n",
       "23      1935\n",
       "24      1935\n",
       "25      1935\n",
       "26      1935\n",
       "27      1935\n",
       "28      1935\n",
       "29      1935\n",
       "        ... \n",
       "3454    2014\n",
       "3455    2014\n",
       "3456    2014\n",
       "3457    2014\n",
       "3458    2014\n",
       "3459    2014\n",
       "3460    2014\n",
       "3461    2014\n",
       "3462    2014\n",
       "3463    2014\n",
       "3464    2014\n",
       "3465    2014\n",
       "3466    2014\n",
       "3467    2014\n",
       "3468    2014\n",
       "3469    2014\n",
       "3470    2015\n",
       "3471    2015\n",
       "3472    2015\n",
       "3473    2015\n",
       "3474    2015\n",
       "3475    2015\n",
       "3476    2015\n",
       "3477    2016\n",
       "3478    2016\n",
       "3479    2016\n",
       "3480    2016\n",
       "3481    2016\n",
       "3482    2017\n",
       "3483    2017\n",
       "Name: Failure Year, Length: 3484, dtype: int64"
      ]
     },
     "execution_count": 54,
     "metadata": {},
     "output_type": "execute_result"
    }
   ],
   "source": [
    "df['Failure Year']"
   ]
  },
  {
   "cell_type": "code",
   "execution_count": 36,
   "metadata": {},
   "outputs": [
    {
     "data": {
      "text/plain": [
       "0      17\n",
       "1      17\n",
       "2      17\n",
       "3      17\n",
       "4      17\n",
       "5      17\n",
       "6      17\n",
       "7      17\n",
       "8      16\n",
       "9      16\n",
       "10     16\n",
       "11     16\n",
       "12     16\n",
       "13     15\n",
       "14     15\n",
       "15     15\n",
       "16     15\n",
       "17     15\n",
       "18     15\n",
       "19     15\n",
       "20     15\n",
       "21     14\n",
       "22     14\n",
       "23     14\n",
       "24     14\n",
       "25     14\n",
       "26     14\n",
       "27     14\n",
       "28     14\n",
       "29     14\n",
       "       ..\n",
       "525     8\n",
       "526     8\n",
       "527     8\n",
       "528     7\n",
       "529     7\n",
       "530     7\n",
       "531     4\n",
       "532     4\n",
       "533     4\n",
       "534     4\n",
       "535     3\n",
       "536     3\n",
       "537     3\n",
       "538     2\n",
       "539     2\n",
       "540     2\n",
       "541     2\n",
       "542     2\n",
       "543     2\n",
       "544     2\n",
       "545     2\n",
       "546     2\n",
       "547     2\n",
       "548     2\n",
       "549     1\n",
       "550     1\n",
       "551     1\n",
       "552     1\n",
       "553     0\n",
       "554     0\n",
       "Name: Closing Year, Length: 555, dtype: int64"
      ]
     },
     "execution_count": 36,
     "metadata": {},
     "output_type": "execute_result"
    }
   ],
   "source": [
    "df1['Closing Year']"
   ]
  },
  {
   "cell_type": "code",
   "execution_count": 55,
   "metadata": {},
   "outputs": [
    {
     "data": {
      "text/plain": [
       "Failure Year\n",
       "1934      9\n",
       "1935     25\n",
       "1936     69\n",
       "1937     75\n",
       "1938     74\n",
       "1939     60\n",
       "1940     43\n",
       "1941     15\n",
       "1942     20\n",
       "1943      5\n",
       "1944      2\n",
       "1945      1\n",
       "1946      1\n",
       "1947      5\n",
       "1948      3\n",
       "1949      4\n",
       "1950      4\n",
       "1951      2\n",
       "1952      3\n",
       "1953      2\n",
       "1954      2\n",
       "1955      5\n",
       "1956      2\n",
       "1957      1\n",
       "1958      4\n",
       "1959      3\n",
       "1960      1\n",
       "1961      5\n",
       "1962      1\n",
       "1963      2\n",
       "       ... \n",
       "1986    161\n",
       "1987    217\n",
       "1988    232\n",
       "1989    530\n",
       "1990    380\n",
       "1991    268\n",
       "1992    178\n",
       "1993     50\n",
       "1994     15\n",
       "1995      8\n",
       "1996      6\n",
       "1997      1\n",
       "1998      3\n",
       "1999      8\n",
       "2000      7\n",
       "2001      4\n",
       "2002     11\n",
       "2003      3\n",
       "2004      4\n",
       "2007      3\n",
       "2008     25\n",
       "2009    140\n",
       "2010    154\n",
       "2011     92\n",
       "2012     51\n",
       "2013     24\n",
       "2014     18\n",
       "2015      7\n",
       "2016      5\n",
       "2017      2\n",
       "Name: Institution Name, Length: 82, dtype: int64"
      ]
     },
     "execution_count": 55,
     "metadata": {},
     "output_type": "execute_result"
    }
   ],
   "source": [
    "df.groupby('Failure Year')['Institution Name'].agg('count')"
   ]
  },
  {
   "cell_type": "code",
   "execution_count": 57,
   "metadata": {},
   "outputs": [
    {
     "data": {
      "text/plain": [
       "Closing Year\n",
       "0       2\n",
       "1       4\n",
       "2      11\n",
       "3       3\n",
       "4       4\n",
       "7       3\n",
       "8      25\n",
       "9     140\n",
       "10    157\n",
       "11     92\n",
       "12     51\n",
       "13     24\n",
       "14     18\n",
       "15      8\n",
       "16      5\n",
       "17      8\n",
       "Name: Bank, dtype: int64"
      ]
     },
     "execution_count": 57,
     "metadata": {},
     "output_type": "execute_result"
    }
   ],
   "source": [
    "df1.groupby('Closing Year')['Bank'].agg('count')"
   ]
  },
  {
   "cell_type": "code",
   "execution_count": 60,
   "metadata": {},
   "outputs": [
    {
     "data": {
      "text/plain": [
       "(array([   2.,    4.,   11.,    3.,    4.,    0.,    0.,    3.,   25.,\n",
       "         140.,  157.,   92.,   51.,   24.,   18.,    8.,   13.]),\n",
       " array([ 0,  1,  2,  3,  4,  5,  6,  7,  8,  9, 10, 11, 12, 13, 14, 15, 16,\n",
       "        17]),\n",
       " <a list of 17 Patch objects>)"
      ]
     },
     "execution_count": 60,
     "metadata": {},
     "output_type": "execute_result"
    },
    {
     "data": {
      "image/png": "[encoded data removed]",
      "text/plain": [
       "<matplotlib.figure.Figure at 0x1082b26d8>"
      ]
     },
     "metadata": {},
     "output_type": "display_data"
    }
   ],
   "source": [
    "plt.hist(df1['Closing Year'], bins=range(0,18))"
   ]
  },
  {
   "cell_type": "code",
   "execution_count": 66,
   "metadata": {},
   "outputs": [
    {
     "ename": "SyntaxError",
     "evalue": "unexpected EOF while parsing (<ipython-input-66-80b12376743a>, line 1)",
     "output_type": "error",
     "traceback": [
      "\u001b[0;36m  File \u001b[0;32m\"<ipython-input-66-80b12376743a>\"\u001b[0;36m, line \u001b[0;32m1\u001b[0m\n\u001b[0;31m    plt.hist(df['Failure Year'], bins=range(0,18)\u001b[0m\n\u001b[0m                                                 ^\u001b[0m\n\u001b[0;31mSyntaxError\u001b[0m\u001b[0;31m:\u001b[0m unexpected EOF while parsing\n"
     ]
    }
   ],
   "source": [
    "plt.hist(df['Failure Year'], bins=range(0,18)"
   ]
  },
  {
   "cell_type": "code",
   "execution_count": null,
   "metadata": {},
   "outputs": [],
   "source": []
  }
 ],
 "metadata": {
  "kernelspec": {
   "display_name": "Python 3",
   "language": "python",
   "name": "python3"
  },
  "language_info": {
   "codemirror_mode": {
    "name": "ipython",
    "version": 3
   },
   "file_extension": ".py",
   "mimetype": "text/x-python",
   "name": "python",
   "nbconvert_exporter": "python",
   "pygments_lexer": "ipython3",
   "version": "3.5.2"
  }
 },
 "nbformat": 4,
 "nbformat_minor": 2
}
