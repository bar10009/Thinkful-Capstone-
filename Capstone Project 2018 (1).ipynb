{
 "cells": [
  {
   "cell_type": "markdown",
   "metadata": {},
   "source": [
    "# U.S. Bank Failure Analysis \n",
    "\n",
    "Data: https://catalog.data.gov/dataset/fdic-failed-bank-list\n",
    "\n",
    "\n",
    "The inspiration for project comes from my curiosity about recurring financial and economic problems especially after the recent 2008 recession. I will be focusing more on this period of the data from 2000-2017. The data dates back to 1934 and expresses the following values:\n",
    "\n",
    "**1. Institution name and FIN number\n",
    "\n",
    "**2. Charter type\n",
    "\n",
    "**3. Location of headquarters (city and state)\n",
    "\n",
    "**4. Effective date\n",
    "\n",
    "**5. Insurance fund and certificate number\n",
    "\n",
    "**6. Failure transaction type\n",
    "\n",
    "**7. Total deposits and total assets last reported prior to failure (in thousands of dollars)\n",
    "\n",
    "\n",
    "There are several challenges to this dataset. \n",
    "\n",
    "**1, different periods will have to be excluded from different forms of analysis. For instance:\n",
    "\n",
    "Estimated cost of resolution (Data on estimated losses are not available for FDIC insured failures prior to 1986 or for FSLIC insured failures from 1934-88. The data in this period from 1934-88 can be included in all forms of interpretation except where estimated loss data is needed.\n",
    "I will consider the failures after 1988 where data exists for estimated losses as significant.\n",
    "\n",
    "**2, a large dataset with many values which values to consider, took some time. I focused on Instituion Name (not fin number),Charter Type,Location of headquarters (city and state), and Total deposits and total assets last reported prior to failure (in thousands of dollars)\n",
    "\n",
    "**3, I believe that the correlation between other variables can be significant. This is because they do not fit the narrative that I am striving to convey.\n",
    "\n",
    "**4, For the purposes of this project I am limited to the values within the confines of the dataset. I am keen on merging this dataset with others that might serve to enrich the alaysis of this report. \n",
    "\n",
    "Looking forward toward future work on bank failures. \n",
    "I beleive that further research in this subject will prove useful for my work in the fintech ispace where this kind of historical analysis can be beneficial to gaining meaningful insights."
   ]
  },
  {
   "cell_type": "markdown",
   "metadata": {},
   "source": [
    "# Analytic Questions\n",
    "\n",
    "1. How have institution failures changed over time; which institution is most likely to fail? \n",
    "\n",
    "2. How expensive were institution failures in each period relative to other periods?\n",
    "\n",
    "3. Which states had the highest failures; which cost the government the most to resolve?"
   ]
  },
  {
   "cell_type": "code",
   "execution_count": 8,
   "metadata": {},
   "outputs": [],
   "source": [
    "# Importing the necessary libraries to organize the data into a meaningful story through \n",
    "#the combination of statistical, visual, and narrative story telling tools.\n",
    "import pandas as pd\n",
    "import numpy as np\n",
    "import matplotlib.pyplot as plt\n",
    "import seaborn as sns\n",
    "import scipy as sy\n",
    "from scipy.stats.stats import pearsonr\n",
    "%matplotlib inline"
   ]
  },
  {
   "cell_type": "code",
   "execution_count": 9,
   "metadata": {},
   "outputs": [],
   "source": [
    "# Reading the banks.csv file stored in my desktop\n",
    "banks = pd.read_csv('banks.csv')"
   ]
  },
  {
   "cell_type": "code",
   "execution_count": 10,
   "metadata": {},
   "outputs": [
    {
     "data": {
      "text/plain": [
       "3484"
      ]
     },
     "execution_count": 10,
     "metadata": {},
     "output_type": "execute_result"
    }
   ],
   "source": [
    "#I want to note the size of the dataset at the start to show that we are working with a starndard sized dataset to analyze\n",
    "len(banks)"
   ]
  },
  {
   "cell_type": "code",
   "execution_count": 30,
   "metadata": {},
   "outputs": [
    {
     "data": {
      "text/plain": [
       "Text(0.5,0.98,'Table 1')"
      ]
     },
     "execution_count": 30,
     "metadata": {},
     "output_type": "execute_result"
    }
   ],
   "source": [
    "#Calling up the top 5 banks to see how the data and its values are organized in an array\n",
    "banks.head()"
   ]
  },
  {
   "cell_type": "code",
   "execution_count": 12,
   "metadata": {},
   "outputs": [],
   "source": [
    "#Extracting out failure year; organizing the formatting of the values city and state.\n",
    "banks['Failure Year']=banks['Failure Date'].apply(lambda x: int(x.split('/')[2]))\n",
    "banks['City']=banks['Headquarters'].apply(lambda x:(x.split(',')[0]))\n",
    "banks['State']=banks['Headquarters'].apply(lambda x:(x.split(', ')[1]))"
   ]
  },
  {
   "cell_type": "code",
   "execution_count": 26,
   "metadata": {},
   "outputs": [
    {
     "data": {
      "text/plain": [
       "Text(0.5,0.98,'Table 2')"
      ]
     },
     "execution_count": 26,
     "metadata": {},
     "output_type": "execute_result"
    }
   ],
   "source": [
    "#To futher clean the data, I soft out how much numerical data is present\n",
    "banks.isnull().sum()"
   ]
  },
  {
   "cell_type": "code",
   "execution_count": 31,
   "metadata": {},
   "outputs": [
    {
     "data": {
      "text/html": [
       "<div>\n",
       "<style scoped>\n",
       "    .dataframe tbody tr th:only-of-type {\n",
       "        vertical-align: middle;\n",
       "    }\n",
       "\n",
       "    .dataframe tbody tr th {\n",
       "        vertical-align: top;\n",
       "    }\n",
       "\n",
       "    .dataframe thead th {\n",
       "        text-align: right;\n",
       "    }\n",
       "</style>\n",
       "<table border=\"1\" class=\"dataframe\">\n",
       "  <thead>\n",
       "    <tr style=\"text-align: right;\">\n",
       "      <th></th>\n",
       "      <th>Total Deposits</th>\n",
       "      <th>Total Assets</th>\n",
       "      <th>Estimated Loss (2015)</th>\n",
       "    </tr>\n",
       "  </thead>\n",
       "  <tbody>\n",
       "    <tr>\n",
       "      <th>count</th>\n",
       "      <td>3.484000e+03</td>\n",
       "      <td>3.333000e+03</td>\n",
       "      <td>2.509000e+03</td>\n",
       "    </tr>\n",
       "    <tr>\n",
       "      <th>mean</th>\n",
       "      <td>2.997762e+05</td>\n",
       "      <td>4.045884e+05</td>\n",
       "      <td>7.064435e+04</td>\n",
       "    </tr>\n",
       "    <tr>\n",
       "      <th>std</th>\n",
       "      <td>3.304676e+06</td>\n",
       "      <td>5.454873e+06</td>\n",
       "      <td>3.305872e+05</td>\n",
       "    </tr>\n",
       "    <tr>\n",
       "      <th>min</th>\n",
       "      <td>0.000000e+00</td>\n",
       "      <td>1.400000e+01</td>\n",
       "      <td>-4.386000e+03</td>\n",
       "    </tr>\n",
       "    <tr>\n",
       "      <th>25%</th>\n",
       "      <td>1.229300e+04</td>\n",
       "      <td>1.505100e+04</td>\n",
       "      <td>3.852000e+03</td>\n",
       "    </tr>\n",
       "    <tr>\n",
       "      <th>50%</th>\n",
       "      <td>4.172100e+04</td>\n",
       "      <td>4.752300e+04</td>\n",
       "      <td>1.335400e+04</td>\n",
       "    </tr>\n",
       "    <tr>\n",
       "      <th>75%</th>\n",
       "      <td>1.562415e+05</td>\n",
       "      <td>1.734780e+05</td>\n",
       "      <td>4.458500e+04</td>\n",
       "    </tr>\n",
       "    <tr>\n",
       "      <th>max</th>\n",
       "      <td>1.882608e+08</td>\n",
       "      <td>3.070216e+08</td>\n",
       "      <td>1.243800e+07</td>\n",
       "    </tr>\n",
       "  </tbody>\n",
       "</table>\n",
       "</div>"
      ],
      "text/plain": [
       "       Total Deposits  Total Assets  Estimated Loss (2015)\n",
       "count    3.484000e+03  3.333000e+03           2.509000e+03\n",
       "mean     2.997762e+05  4.045884e+05           7.064435e+04\n",
       "std      3.304676e+06  5.454873e+06           3.305872e+05\n",
       "min      0.000000e+00  1.400000e+01          -4.386000e+03\n",
       "25%      1.229300e+04  1.505100e+04           3.852000e+03\n",
       "50%      4.172100e+04  4.752300e+04           1.335400e+04\n",
       "75%      1.562415e+05  1.734780e+05           4.458500e+04\n",
       "max      1.882608e+08  3.070216e+08           1.243800e+07"
      ]
     },
     "execution_count": 31,
     "metadata": {},
     "output_type": "execute_result"
    }
   ],
   "source": [
    "#Summary Statistics, these summarize and inform on the following values in my dataset\n",
    "banks[['Total Deposits', 'Total Assets', 'Estimated Loss (2015)']].describe()"
   ]
  },
  {
   "cell_type": "markdown",
   "metadata": {},
   "source": [
    "# Analytic Question 1 \n",
    "**How have bank failures changed over time? And which institution, Commercial Bank, Savings Association, or Savings Bank is more likely to fail?**"
   ]
  },
  {
   "cell_type": "markdown",
   "metadata": {},
   "source": [
    "To more clearly understand how bank failures changed over time I grouped the data by institution type. The type of institution is significant because the banks aggregated in this dataset aren't just banks, they are distinctly different institutions that serve different uses.\n",
    "\n",
    "So, even though the term bank and institution will be used synonymously it's important for the reasons already stated to seperate these institutions out to discover how they each contribute to the failure of banks across the nation and over time.\n",
    "\n",
    "The following summary stat displays the mean losses of each bank and the count of failed banks for each Institution Type."
   ]
  },
  {
   "cell_type": "code",
   "execution_count": 29,
   "metadata": {},
   "outputs": [
    {
     "data": {
      "text/html": [
       "<div>\n",
       "<style scoped>\n",
       "    .dataframe tbody tr th:only-of-type {\n",
       "        vertical-align: middle;\n",
       "    }\n",
       "\n",
       "    .dataframe tbody tr th {\n",
       "        vertical-align: top;\n",
       "    }\n",
       "\n",
       "    .dataframe thead th {\n",
       "        text-align: right;\n",
       "    }\n",
       "</style>\n",
       "<table border=\"1\" class=\"dataframe\">\n",
       "  <thead>\n",
       "    <tr style=\"text-align: right;\">\n",
       "      <th></th>\n",
       "      <th>mean</th>\n",
       "      <th>count</th>\n",
       "    </tr>\n",
       "    <tr>\n",
       "      <th>Institution Type</th>\n",
       "      <th></th>\n",
       "      <th></th>\n",
       "    </tr>\n",
       "  </thead>\n",
       "  <tbody>\n",
       "    <tr>\n",
       "      <th>COMMERCIAL BANK</th>\n",
       "      <td>41835.451513</td>\n",
       "      <td>1619</td>\n",
       "    </tr>\n",
       "    <tr>\n",
       "      <th>SAVINGS ASSOCIATION</th>\n",
       "      <td>106485.405594</td>\n",
       "      <td>572</td>\n",
       "    </tr>\n",
       "    <tr>\n",
       "      <th>SAVINGS BANK</th>\n",
       "      <td>152847.254717</td>\n",
       "      <td>318</td>\n",
       "    </tr>\n",
       "  </tbody>\n",
       "</table>\n",
       "</div>"
      ],
      "text/plain": [
       "                              mean  count\n",
       "Institution Type                         \n",
       "COMMERCIAL BANK       41835.451513   1619\n",
       "SAVINGS ASSOCIATION  106485.405594    572\n",
       "SAVINGS BANK         152847.254717    318"
      ]
     },
     "execution_count": 29,
     "metadata": {},
     "output_type": "execute_result"
    }
   ],
   "source": [
    "banks.groupby(['Institution Type'])['Estimated Loss (2015)'].agg(['mean', 'count'])\n",
    "fig.suptitle('Graph 1', fontsize=14, fontweight='bold')"
   ]
  },
  {
   "cell_type": "markdown",
   "metadata": {},
   "source": [
    "It's surprising to see the pattern that's emerged from this array. It seems to show an inverse relationship between the mean losses and the count. It looks as though savings banks have the least number of failures while also being responsible for the most losses. Commercial banks have the highest failure count and are responsible for the least amount of losses. \n",
    "\n",
    "From this I can conclude:\n",
    "\n",
    "1. That the bank most likely to incur the highest average losses and lowest frequency of failure is the Savings Bank. \n",
    "\n",
    "2. The bank with the highest frequency of failures and the lowest average losses is the commercial bank.\n",
    "\n",
    "Below I created a histogram showing how bank failures have changed over time. This time frame beginning in 1934 when the FDIC was founded and ending in 2015."
   ]
  },
  {
   "cell_type": "code",
   "execution_count": 23,
   "metadata": {},
   "outputs": [
    {
     "data": {
      "text/plain": [
       "Text(0.5,0.98,'Figure 1')"
      ]
     },
     "execution_count": 23,
     "metadata": {},
     "output_type": "execute_result"
    },
    {
     "data": {
      "image/png": "[encoded data removed]",
      "text/plain": [
       "<matplotlib.figure.Figure at 0x10bba0828>"
      ]
     },
     "metadata": {},
     "output_type": "display_data"
    },
    {
     "data": {
      "text/plain": [
       "<matplotlib.figure.Figure at 0x10bba0f28>"
      ]
     },
     "metadata": {},
     "output_type": "display_data"
    }
   ],
   "source": [
    "plt.hist(banks['Failure Year'], bins=range(1934,2017))\n",
    "plt.xlabel('Year')\n",
    "plt.ylabel('Bank Failures')\n",
    "\n",
    "fig = plt.figure()\n",
    "fig.suptitle('Figure 1', fontsize=14, fontweight='bold')"
   ]
  },
  {
   "cell_type": "markdown",
   "metadata": {},
   "source": [
    "The histogram above (figure 1) clearly clusters around three periods of time 1940's, 1980's-1990's, and the early 2000's where US bank failures were the highest in history. This provides a general sense of which periods of time held the most failures. This raises and important question:\n",
    "\n",
    "1. Which types of banks are responsible for each of these major periods of failure?\n",
    "\n",
    "\n",
    "The plot below (figure 2) is the next step to finding the answer to the above question. In this plot each institution is spereated out from each other and graphed over time. This makes it easier to compare, especially with different colored markers for corresponding banks via one plot with each kind of bank charted and superimposed upon each other."
   ]
  },
  {
   "cell_type": "code",
   "execution_count": 22,
   "metadata": {},
   "outputs": [
    {
     "data": {
      "text/plain": [
       "Text(0.5,0.98,'Figure 2')"
      ]
     },
     "execution_count": 22,
     "metadata": {},
     "output_type": "execute_result"
    },
    {
     "data": {
      "image/png": "[encoded data removed]",
      "text/plain": [
       "<matplotlib.figure.Figure at 0x10b7066d8>"
      ]
     },
     "metadata": {},
     "output_type": "display_data"
    }
   ],
   "source": [
    "failure_year_type = banks.groupby(['Failure Year', 'Institution Type'], as_index=False)['Institution Name'].agg('count')\n",
    "failure_year_type.columns=['Failure Year', 'Institution Type', 'Number of Failures']\n",
    "\n",
    "failure_year_comm = failure_year_type[failure_year_type['Institution Type']=='COMMERCIAL BANK']\n",
    "failure_year_savea = failure_year_type[failure_year_type['Institution Type']=='SAVINGS ASSOCIATION']\n",
    "failure_year_saveb = failure_year_type[failure_year_type['Institution Type']=='SAVINGS BANK']\n",
    "\n",
    "\n",
    "failure_year_all = failure_year_type[(failure_year_type['Institution Type']=='COMMERCIAL BANK') | (failure_year_type['Institution Type']=='SAVINGS ASSOCIATION') | (failure_year_type['Institution Type']=='SAVINGS BANK')]\n",
    "failure_year_all = failure_year_all.groupby('Failure Year', as_index=False)['Number of Failures'].agg('sum')\n",
    "\n",
    "plt.plot(failure_year_comm['Failure Year'], failure_year_comm['Number of Failures'], 'b-')\n",
    "plt.plot(failure_year_savea['Failure Year'], failure_year_savea['Number of Failures'], 'r-')\n",
    "plt.plot(failure_year_saveb['Failure Year'], failure_year_saveb['Number of Failures'], 'm-')\n",
    "plt.plot(failure_year_all['Failure Year'], failure_year_all['Number of Failures'], 'g--')\n",
    "\n",
    "\n",
    "\n",
    "plt.xlabel('Year')\n",
    "plt.ylabel('Institution Failures')\n",
    "plt.legend(['Commercial Bank', 'Savings Assn', 'Savings Bank', 'All'])\n",
    "fig.suptitle('Figure 2', fontsize=14, fontweight='bold')"
   ]
  },
  {
   "cell_type": "markdown",
   "metadata": {},
   "source": [
    "The plot above shows how in the beginning commercial banks were largely responsible for the most failures in the fisrt period. This changes in the second period when savings associations take on this burden where at their peak out failed commercial banks. In the third period the commercial banks take the lead in failures once again emulating the patterned from period 1. It can be concluded that the period of the 1980's recession had the most failures. Saving association banks failed more that commercial and Savings banks on avergage but not in every peiod. Since we know that during the 1930's - 40's, commercial banks were the biggest failures. And the recent recession of the 2000's show a similar pattern to that of the great depression where commercial banks also failed most.\n",
    "\n",
    "Want to show statistically that the Estimated Loss for the various types of banks are different. T-test doesn't apply since data not normal. So, we use the pearson test on Estimated Loss (2015)"
   ]
  },
  {
   "cell_type": "code",
   "execution_count": 56,
   "metadata": {},
   "outputs": [
    {
     "name": "stdout",
     "output_type": "stream",
     "text": [
      "(236837.0, 0.39877022445475974)\n",
      "(53753.0, 0.49367152926755947)\n",
      "(2719804.5, 9.4379580737865157e-11)\n"
     ]
    }
   ],
   "source": [
    "from scipy.stats import mannwhitneyu \n",
    "\n",
    "savings_assn = banks[banks['Institution Type']=='SAVINGS ASSOCIATION']\n",
    "savings = banks[banks['Institution Type']=='SAVINGS BANK']\n",
    "commercial = banks[banks['Institution Type']=='COMMERCIAL BANK']\n",
    "\n",
    "u, p = mannwhitneyu(savings_assn['Estimated Loss (2015)'], savings_assn['Estimated Loss (2015)'])\n",
    "print((u, p))\n",
    "\n",
    "\n",
    "u, p = mannwhitneyu(savings['Estimated Loss (2015)'], savings['Estimated Loss (2015)'])\n",
    "print((u, p))\n",
    "\n",
    "\n",
    "u, p = mannwhitneyu(commercial['Estimated Loss (2015)'], commercial['Estimated Loss (2015)'])\n",
    "print((u, p))"
   ]
  },
  {
   "cell_type": "markdown",
   "metadata": {},
   "source": [
    "## Analytic Question 2 \n",
    "**Which bank cost the government most to resolve in each period, relative to others across all periods?**"
   ]
  },
  {
   "cell_type": "markdown",
   "metadata": {},
   "source": [
    "It's already clear which general periods of time the majority of financial institutions failed, but we don't know the financial loss of those biggest failures in each period. Nor do we yet know how that largest bank compares to the second, third, fourth biggest failures in each period. Do any interesting patterns emerge?\n",
    "\n",
    "It's important to note that loss and cost are also synonymous with each other representing the cost to the government.\n",
    "\n",
    "Being that there isn't enough data on estimated losses (2015) I've decided to import an inflation multiplier to adjust total assets for inflation and use this new measurement as a proxy for losses across all periods.\n",
    "\n",
    "Using this new measurement to compare and contrast losses; we divide the data into \"ranges\" of time. These specific ranges will be as follows: year_range_1(1934, 1943) year_range_2(1980, 1990) year_range_3(2000, 2015)\n",
    "\n",
    "These ranges are in keeping with the time frames we sorted earlier in answering question one where a histogram can show you those ranges more clearly (ref figure 1 above)\n",
    "\n",
    "Below is where we read the file and define the new banks_inflation data frame and see the values that the data is organized under."
   ]
  },
  {
   "cell_type": "code",
   "execution_count": 33,
   "metadata": {},
   "outputs": [
    {
     "data": {
      "text/plain": [
       "Index(['Financial Institution Number', 'Institution Name', 'Institution Type',\n",
       "       'Charter Type', 'Headquarters', 'Failure Date', 'Insurance Fund',\n",
       "       'Certificate Number', 'Transaction Type', 'Total Deposits',\n",
       "       'Total Assets', 'Estimated Loss (2015)', 'Failure Year', 'City',\n",
       "       'State', 'year', 'inflation_multiplier'],\n",
       "      dtype='object')"
      ]
     },
     "execution_count": 33,
     "metadata": {},
     "output_type": "execute_result"
    }
   ],
   "source": [
    "conversion_df = pd.read_csv('inflation.csv')\n",
    "banks_inflation = pd.merge(banks, conversion_df, left_on='Failure Year', right_on='year')\n",
    "banks_inflation.columns"
   ]
  },
  {
   "cell_type": "markdown",
   "metadata": {},
   "source": [
    "Two primary sub goals are as follows:\n",
    "\n",
    "1. We create a table that converts 2015 vals to 2017 vals; 2017 values are what I chose so as to be as current as possible to a ubiquitious inflation rate.\n",
    "\n",
    "2. We then sort the values by Institution Name and Total Assets (2015) and we plot those values to compare their bar plots to determine if there is a correlation. \n"
   ]
  },
  {
   "cell_type": "markdown",
   "metadata": {},
   "source": [
    "In the following cell's block of code I attempted to test two data samples; 'Total Assets (2015)', and 'Estimated Loss (2015)'. I implemented the following peasrson test for normal distribution, since the data are normally distibuted."
   ]
  },
  {
   "cell_type": "code",
   "execution_count": 35,
   "metadata": {},
   "outputs": [
    {
     "name": "stdout",
     "output_type": "stream",
     "text": [
      "0.153710307701 9.82136388207e-15\n"
     ]
    },
    {
     "data": {
      "text/plain": [
       "Text(0.5,0.98,'Figure 3')"
      ]
     },
     "execution_count": 35,
     "metadata": {},
     "output_type": "execute_result"
    },
    {
     "data": {
      "image/png": "[encoded data removed]",
      "text/plain": [
       "<matplotlib.figure.Figure at 0x10bc32278>"
      ]
     },
     "metadata": {},
     "output_type": "display_data"
    }
   ],
   "source": [
    "banks_inflation['Total Assets (2015)']=banks_inflation['Total Assets']*banks_inflation['inflation_multiplier'] \n",
    "plt.scatter(banks_inflation['Total Assets (2015)'], banks_inflation['Estimated Loss (2015)']) \n",
    "plt.xlabel('Total Assets (2015)') \n",
    "plt.ylabel('Estimated Loss (2015)') \n",
    "plt.xlim([0, 0.6e8])\n",
    "\n",
    "bankst = banks_inflation.dropna(subset=['Total Assets (2015)', 'Estimated Loss (2015)', 'Total Assets']) \n",
    "x, y = pearsonr(bankst['Total Assets'], bankst['Estimated Loss (2015)']) \n",
    "print(x, y)\n",
    "\n",
    "fig.suptitle('Figure 3', fontsize=14, fontweight='bold')"
   ]
  },
  {
   "cell_type": "markdown",
   "metadata": {},
   "source": [
    "Above most of the banks(data points) on htis graph cluster between 0 and 1 for assets and 0 and .2 for Losses. Addionally the pearson r coefficient is 0.1537 which is positive. This implies that there is a positive correlation between Total Assests and Estimated Loss. As one goes up the other does as well and vice versa. \n",
    "\n",
    "Below I've created summary statistics for each variable we tested for, Estimated Loss (2015), and Total Assets. This is to show how differently distributed these two values were before we brought the two sets of data together to compare."
   ]
  },
  {
   "cell_type": "code",
   "execution_count": 59,
   "metadata": {},
   "outputs": [
    {
     "data": {
      "text/html": [
       "<div>\n",
       "<style scoped>\n",
       "    .dataframe tbody tr th:only-of-type {\n",
       "        vertical-align: middle;\n",
       "    }\n",
       "\n",
       "    .dataframe tbody tr th {\n",
       "        vertical-align: top;\n",
       "    }\n",
       "\n",
       "    .dataframe thead th {\n",
       "        text-align: right;\n",
       "    }\n",
       "</style>\n",
       "<table border=\"1\" class=\"dataframe\">\n",
       "  <thead>\n",
       "    <tr style=\"text-align: right;\">\n",
       "      <th></th>\n",
       "      <th>count</th>\n",
       "      <th>mean</th>\n",
       "      <th>std</th>\n",
       "      <th>min</th>\n",
       "      <th>25%</th>\n",
       "      <th>50%</th>\n",
       "      <th>75%</th>\n",
       "      <th>max</th>\n",
       "    </tr>\n",
       "    <tr>\n",
       "      <th>Institution Type</th>\n",
       "      <th></th>\n",
       "      <th></th>\n",
       "      <th></th>\n",
       "      <th></th>\n",
       "      <th></th>\n",
       "      <th></th>\n",
       "      <th></th>\n",
       "      <th></th>\n",
       "    </tr>\n",
       "  </thead>\n",
       "  <tbody>\n",
       "    <tr>\n",
       "      <th>COMMERCIAL BANK</th>\n",
       "      <td>1619.0</td>\n",
       "      <td>41835.451513</td>\n",
       "      <td>139013.822067</td>\n",
       "      <td>0.0</td>\n",
       "      <td>3180.00</td>\n",
       "      <td>8857.0</td>\n",
       "      <td>30081.0</td>\n",
       "      <td>3330263.0</td>\n",
       "    </tr>\n",
       "    <tr>\n",
       "      <th>SAVINGS ASSOCIATION</th>\n",
       "      <td>572.0</td>\n",
       "      <td>106485.405594</td>\n",
       "      <td>282282.109304</td>\n",
       "      <td>-551.0</td>\n",
       "      <td>7208.00</td>\n",
       "      <td>24116.0</td>\n",
       "      <td>73533.5</td>\n",
       "      <td>3142552.0</td>\n",
       "    </tr>\n",
       "    <tr>\n",
       "      <th>SAVINGS BANK</th>\n",
       "      <td>318.0</td>\n",
       "      <td>152847.254717</td>\n",
       "      <td>780479.657822</td>\n",
       "      <td>-4386.0</td>\n",
       "      <td>7977.25</td>\n",
       "      <td>25392.5</td>\n",
       "      <td>93980.5</td>\n",
       "      <td>12438005.0</td>\n",
       "    </tr>\n",
       "  </tbody>\n",
       "</table>\n",
       "</div>"
      ],
      "text/plain": [
       "                      count           mean            std     min      25%  \\\n",
       "Institution Type                                                             \n",
       "COMMERCIAL BANK      1619.0   41835.451513  139013.822067     0.0  3180.00   \n",
       "SAVINGS ASSOCIATION   572.0  106485.405594  282282.109304  -551.0  7208.00   \n",
       "SAVINGS BANK          318.0  152847.254717  780479.657822 -4386.0  7977.25   \n",
       "\n",
       "                         50%      75%         max  \n",
       "Institution Type                                   \n",
       "COMMERCIAL BANK       8857.0  30081.0   3330263.0  \n",
       "SAVINGS ASSOCIATION  24116.0  73533.5   3142552.0  \n",
       "SAVINGS BANK         25392.5  93980.5  12438005.0  "
      ]
     },
     "execution_count": 59,
     "metadata": {},
     "output_type": "execute_result"
    }
   ],
   "source": [
    "banks.groupby(['Institution Type'])['Estimated Loss (2015)'].describe()"
   ]
  },
  {
   "cell_type": "code",
   "execution_count": 60,
   "metadata": {},
   "outputs": [
    {
     "data": {
      "text/html": [
       "<div>\n",
       "<style scoped>\n",
       "    .dataframe tbody tr th:only-of-type {\n",
       "        vertical-align: middle;\n",
       "    }\n",
       "\n",
       "    .dataframe tbody tr th {\n",
       "        vertical-align: top;\n",
       "    }\n",
       "\n",
       "    .dataframe thead th {\n",
       "        text-align: right;\n",
       "    }\n",
       "</style>\n",
       "<table border=\"1\" class=\"dataframe\">\n",
       "  <thead>\n",
       "    <tr style=\"text-align: right;\">\n",
       "      <th></th>\n",
       "      <th>count</th>\n",
       "      <th>mean</th>\n",
       "      <th>std</th>\n",
       "      <th>min</th>\n",
       "      <th>25%</th>\n",
       "      <th>50%</th>\n",
       "      <th>75%</th>\n",
       "      <th>max</th>\n",
       "    </tr>\n",
       "    <tr>\n",
       "      <th>Institution Type</th>\n",
       "      <th></th>\n",
       "      <th></th>\n",
       "      <th></th>\n",
       "      <th></th>\n",
       "      <th></th>\n",
       "      <th></th>\n",
       "      <th></th>\n",
       "      <th></th>\n",
       "    </tr>\n",
       "  </thead>\n",
       "  <tbody>\n",
       "    <tr>\n",
       "      <th>COMMERCIAL BANK</th>\n",
       "      <td>2315.0</td>\n",
       "      <td>1.795535e+05</td>\n",
       "      <td>8.938253e+05</td>\n",
       "      <td>14.0</td>\n",
       "      <td>9706.0</td>\n",
       "      <td>27090.0</td>\n",
       "      <td>98846.0</td>\n",
       "      <td>25455112.0</td>\n",
       "    </tr>\n",
       "    <tr>\n",
       "      <th>SAVINGS ASSOCIATION</th>\n",
       "      <td>691.0</td>\n",
       "      <td>4.505859e+05</td>\n",
       "      <td>1.084308e+06</td>\n",
       "      <td>4816.0</td>\n",
       "      <td>54397.5</td>\n",
       "      <td>127005.0</td>\n",
       "      <td>319666.0</td>\n",
       "      <td>13382327.0</td>\n",
       "    </tr>\n",
       "    <tr>\n",
       "      <th>SAVINGS BANK</th>\n",
       "      <td>327.0</td>\n",
       "      <td>1.900526e+06</td>\n",
       "      <td>1.712776e+07</td>\n",
       "      <td>4008.0</td>\n",
       "      <td>64505.0</td>\n",
       "      <td>174717.0</td>\n",
       "      <td>643582.5</td>\n",
       "      <td>307021614.0</td>\n",
       "    </tr>\n",
       "  </tbody>\n",
       "</table>\n",
       "</div>"
      ],
      "text/plain": [
       "                      count          mean           std     min      25%  \\\n",
       "Institution Type                                                           \n",
       "COMMERCIAL BANK      2315.0  1.795535e+05  8.938253e+05    14.0   9706.0   \n",
       "SAVINGS ASSOCIATION   691.0  4.505859e+05  1.084308e+06  4816.0  54397.5   \n",
       "SAVINGS BANK          327.0  1.900526e+06  1.712776e+07  4008.0  64505.0   \n",
       "\n",
       "                          50%       75%          max  \n",
       "Institution Type                                      \n",
       "COMMERCIAL BANK       27090.0   98846.0   25455112.0  \n",
       "SAVINGS ASSOCIATION  127005.0  319666.0   13382327.0  \n",
       "SAVINGS BANK         174717.0  643582.5  307021614.0  "
      ]
     },
     "execution_count": 60,
     "metadata": {},
     "output_type": "execute_result"
    }
   ],
   "source": [
    "banks.groupby(['Institution Type'])['Total Assets'].describe()"
   ]
  },
  {
   "cell_type": "markdown",
   "metadata": {},
   "source": [
    "Below we sort the values adjeusted for inflation by Institution Name and Total Assets (2015). \n",
    "Then we plot those values and compare the bar plots of each period of time. These peiods are labled as ranges of time in the code below for instance the first period is \"range(1934, 1943)\". The corresponding graphs for each period or \"range\" is also found below starting with the aformentioned range from left to right. My goal for these graphs is to convey the scale of how removed the largest failed bank's assets are to the next."
   ]
  },
  {
   "cell_type": "code",
   "execution_count": 37,
   "metadata": {},
   "outputs": [
    {
     "data": {
      "text/plain": [
       "Text(0.5,0.98,'Figure 4')"
      ]
     },
     "execution_count": 37,
     "metadata": {},
     "output_type": "execute_result"
    },
    {
     "data": {
      "image/png": "[encoded data removed]",
      "text/plain": [
       "<matplotlib.figure.Figure at 0x10bc11358>"
      ]
     },
     "metadata": {},
     "output_type": "display_data"
    }
   ],
   "source": [
    "banks_inflation['Total Assets (2015)']=banks_inflation['Total Assets']*banks_inflation['inflation_multiplier']\n",
    "year_range_1 = range(1934, 1943)\n",
    "year_range_2 = range(1980, 1990)\n",
    "year_range_3 = range(2000, 2015)\n",
    "banks_1 = banks_inflation[banks_inflation['Failure Year'].isin(year_range_1)].sort_values('Total Assets (2015)', ascending=False).head(5)\n",
    "banks_2 = banks_inflation[banks_inflation['Failure Year'].isin(year_range_2)].sort_values('Total Assets (2015)', ascending=False).head(5)\n",
    "banks_3 = banks_inflation[banks_inflation['Failure Year'].isin(year_range_3)].sort_values('Total Assets (2015)', ascending=False).head(5)\n",
    "\n",
    "fig, axes = plt.subplots(nrows=1, ncols=3)\n",
    "banks_1.plot.bar(x='Institution Name', y='Total Assets (2015)', ax=axes[0]), \n",
    "banks_2.plot.bar(x='Institution Name', y='Total Assets (2015)', ax=axes[1]), \n",
    "banks_3.plot.bar(x='Institution Name', y='Total Assets (2015)', ax=axes[2]), \n",
    "\n",
    "fig.suptitle('Figure 4', fontsize=14, fontweight='bold')"
   ]
  },
  {
   "cell_type": "markdown",
   "metadata": {},
   "source": [
    "The biggest asset bank is quite removed from the other banks. In the first period the largest bank is removed from the others by a factor of 2. In the second not by much, maybe by 500,000. In the third by a factor of 7. This is a glaring difference. Below this difference is represented as a percent of the largest failed bank's Total Assets."
   ]
  },
  {
   "cell_type": "code",
   "execution_count": 40,
   "metadata": {},
   "outputs": [
    {
     "data": {
      "text/plain": [
       "Text(0.5,0.98,'Figure 5')"
      ]
     },
     "execution_count": 40,
     "metadata": {},
     "output_type": "execute_result"
    },
    {
     "data": {
      "image/png": "[encoded data removed]",
      "text/plain": [
       "<matplotlib.figure.Figure at 0x10afca4e0>"
      ]
     },
     "metadata": {},
     "output_type": "display_data"
    }
   ],
   "source": [
    "banks_inflation['Total Assets (2015)']=banks_inflation['Total Assets']*banks_inflation['inflation_multiplier']\n",
    "year_range_1 = range(1934, 1943)\n",
    "year_range_2 = range(1980, 1990)\n",
    "year_range_3 = range(2000, 2015)\n",
    "banks_1 = banks_inflation[banks_inflation['Failure Year'].isin(year_range_1)].sort_values('Total Assets (2015)', ascending=False).head(5)\n",
    "#banks_1 = banks_inflation[banks_inflation['Failure Year'].isin(year_range_1)].sort_values('Total Assets (2015)', ascending=False).iloc[1:5] \n",
    "banks_1['total_assets_normalized']=banks_1['Total Assets (2015)']/banks_1['Total Assets (2015)'].iloc[0]\n",
    "banks_1 = banks_1.iloc[1:5]\n",
    "\n",
    "banks_2 = banks_inflation[banks_inflation['Failure Year'].isin(year_range_2)].sort_values('Total Assets (2015)', ascending=False).head(5)\n",
    "#banks_2 = banks_inflation[banks_inflation['Failure Year'].isin(year_range_2)].sort_values('Total Assets (2015)', ascending=False).iloc[1:5]\n",
    "banks_2['total_assets_normalized']=banks_2['Total Assets (2015)']/banks_2['Total Assets (2015)'].iloc[0]\n",
    "banks_2 = banks_2.iloc[1:5]\n",
    "\n",
    "\n",
    "banks_3 = banks_inflation[banks_inflation['Failure Year'].isin(year_range_3)].sort_values('Total Assets (2015)', ascending=False).head(5) \n",
    "#banks_3 = banks_inflation[banks_inflation['Failure Year'].isin(year_range_3)].sort_values('Total Assets (2015)', ascending=False).iloc[1:5]\n",
    "banks_3['total_assets_normalized']=banks_3['Total Assets (2015)']/banks_3['Total Assets (2015)'].iloc[0]\n",
    "banks_3 = banks_3.iloc[1:5]\n",
    "\n",
    "fig, axes = plt.subplots(nrows=1, ncols=3)\n",
    "banks_1.plot.bar(x='Institution Name', y='total_assets_normalized', ax=axes[0],legend=False, ylim=(0,.8),title='1934-1943')\n",
    "\n",
    "banks_2.plot.bar(x='Institution Name', y='total_assets_normalized', ax=axes[1],legend=False, ylim=(0,.8),title='1980-1990')\n",
    "\n",
    "\n",
    "banks_3.plot.bar(x='Institution Name', y='total_assets_normalized', ax=axes[2],legend=False, ylim=(0,.8),title='2000-2015')\n",
    "\n",
    "axes[0].set_xlabel(\"\")\n",
    "axes[0].set_ylabel(\"Percent Assets Relative to Largest Bank\")\n",
    "axes[1].set_xlabel(\"\")\n",
    "axes[2].set_xlabel(\"\")\n",
    "\n",
    "fig.suptitle('Figure 5', fontsize=12, fontweight='bold')"
   ]
  },
  {
   "cell_type": "markdown",
   "metadata": {},
   "source": [
    "In the first period the size of the assets of the next largest bank (Banco Di Napoli CO. of New York) is about 45% of the assets of the first largest bank (The New Jersey Title Guarantee & Trust CO.)\n",
    "\n",
    "Gibraltar Savings, FA is a little more than 75% of First RepublicBank-Dallas, N.A. in the second period\n",
    "\n",
    "In the third period we see again that Indymac bank F.S.B. pails in comparison of the largest bank to fail in its period of history as a mere 10% of Washington Mutual Bank."
   ]
  },
  {
   "cell_type": "code",
   "execution_count": 63,
   "metadata": {},
   "outputs": [
    {
     "data": {
      "text/html": [
       "<div>\n",
       "<style scoped>\n",
       "    .dataframe tbody tr th:only-of-type {\n",
       "        vertical-align: middle;\n",
       "    }\n",
       "\n",
       "    .dataframe tbody tr th {\n",
       "        vertical-align: top;\n",
       "    }\n",
       "\n",
       "    .dataframe thead th {\n",
       "        text-align: right;\n",
       "    }\n",
       "</style>\n",
       "<table border=\"1\" class=\"dataframe\">\n",
       "  <thead>\n",
       "    <tr style=\"text-align: right;\">\n",
       "      <th></th>\n",
       "      <th>mean</th>\n",
       "      <th>std</th>\n",
       "      <th>count</th>\n",
       "    </tr>\n",
       "    <tr>\n",
       "      <th>Institution Type</th>\n",
       "      <th></th>\n",
       "      <th></th>\n",
       "      <th></th>\n",
       "    </tr>\n",
       "  </thead>\n",
       "  <tbody>\n",
       "    <tr>\n",
       "      <th>COMMERCIAL BANK</th>\n",
       "      <td>2.673818e+05</td>\n",
       "      <td>1.356841e+06</td>\n",
       "      <td>2315</td>\n",
       "    </tr>\n",
       "    <tr>\n",
       "      <th>SAVINGS ASSOCIATION</th>\n",
       "      <td>8.367140e+05</td>\n",
       "      <td>2.014593e+06</td>\n",
       "      <td>691</td>\n",
       "    </tr>\n",
       "    <tr>\n",
       "      <th>SAVINGS BANK</th>\n",
       "      <td>2.482396e+06</td>\n",
       "      <td>1.890531e+07</td>\n",
       "      <td>327</td>\n",
       "    </tr>\n",
       "  </tbody>\n",
       "</table>\n",
       "</div>"
      ],
      "text/plain": [
       "                             mean           std  count\n",
       "Institution Type                                      \n",
       "COMMERCIAL BANK      2.673818e+05  1.356841e+06   2315\n",
       "SAVINGS ASSOCIATION  8.367140e+05  2.014593e+06    691\n",
       "SAVINGS BANK         2.482396e+06  1.890531e+07    327"
      ]
     },
     "execution_count": 63,
     "metadata": {},
     "output_type": "execute_result"
    }
   ],
   "source": [
    "banks_inflation.groupby(['Institution Type'])['Total Assets (2015)'].agg(['mean','std','count'])"
   ]
  },
  {
   "cell_type": "markdown",
   "metadata": {},
   "source": [
    "## Analytic Question 3\n",
    "**How have bank failures changed by state over time?** \n",
    "\n",
    "Which states had the highest failures?\n",
    "Which states cost the government the most to resolve?"
   ]
  },
  {
   "cell_type": "markdown",
   "metadata": {},
   "source": [
    "One challenge I face specific to this question is my understanding of what role population plays in the number of failures. Going forward Population density is a factor I'd like to include.\n",
    "\n",
    "In this question I am building on the second question's quest to understand the cost to a state and federal government. The states are seperated from each other into ranges. Then into three subplots of each range to discover which state in fact had the highest failures and cost the most to resolve in each period. This is the goal. \n",
    "\n",
    "What cost they incured collectively as a state rather than which type of institution and which bank specifically was responsible. First I attempt to remind how large problem is so far. Below is the output of all the failed banks."
   ]
  },
  {
   "cell_type": "code",
   "execution_count": 64,
   "metadata": {},
   "outputs": [
    {
     "data": {
      "text/plain": [
       "3484"
      ]
     },
     "execution_count": 64,
     "metadata": {},
     "output_type": "execute_result"
    }
   ],
   "source": [
    "len(banks)"
   ]
  },
  {
   "cell_type": "markdown",
   "metadata": {},
   "source": [
    "Of the 3,484 financial failed institutions in this dataset, which states had the highest failures? Which state is essentially the most failed state in the context of this project?\n",
    "\n",
    "First I generated a table of the states with the highest bank failures and their correspoding failure count under the value for \"Institution Name\". After that, I decided to graph two histograms; the first of all the Bank Failures ordered alphapetically by State.\n",
    "\n",
    "And the second histogram is ordered by \"Institution Name\" which represents the failure count. This is more important because the failure count is now organized in a way that shows clearly how much larger the first state failure count is from the second, third, fourth, and so on. This is similar to the pattern that emerged with the institution's individual size in terms of Total Assets."
   ]
  },
  {
   "cell_type": "code",
   "execution_count": 62,
   "metadata": {},
   "outputs": [
    {
     "data": {
      "text/html": [
       "<div>\n",
       "<style scoped>\n",
       "    .dataframe tbody tr th:only-of-type {\n",
       "        vertical-align: middle;\n",
       "    }\n",
       "\n",
       "    .dataframe tbody tr th {\n",
       "        vertical-align: top;\n",
       "    }\n",
       "\n",
       "    .dataframe thead th {\n",
       "        text-align: right;\n",
       "    }\n",
       "</style>\n",
       "<table border=\"1\" class=\"dataframe\">\n",
       "  <thead>\n",
       "    <tr style=\"text-align: right;\">\n",
       "      <th></th>\n",
       "      <th>State</th>\n",
       "      <th>Institution Name</th>\n",
       "    </tr>\n",
       "  </thead>\n",
       "  <tbody>\n",
       "    <tr>\n",
       "      <th>44</th>\n",
       "      <td>TX</td>\n",
       "      <td>736</td>\n",
       "    </tr>\n",
       "    <tr>\n",
       "      <th>4</th>\n",
       "      <td>CA</td>\n",
       "      <td>236</td>\n",
       "    </tr>\n",
       "    <tr>\n",
       "      <th>14</th>\n",
       "      <td>IL</td>\n",
       "      <td>181</td>\n",
       "    </tr>\n",
       "    <tr>\n",
       "      <th>9</th>\n",
       "      <td>FL</td>\n",
       "      <td>178</td>\n",
       "    </tr>\n",
       "    <tr>\n",
       "      <th>37</th>\n",
       "      <td>OK</td>\n",
       "      <td>170</td>\n",
       "    </tr>\n",
       "  </tbody>\n",
       "</table>\n",
       "</div>"
      ],
      "text/plain": [
       "   State  Institution Name\n",
       "44    TX               736\n",
       "4     CA               236\n",
       "14    IL               181\n",
       "9     FL               178\n",
       "37    OK               170"
      ]
     },
     "execution_count": 62,
     "metadata": {},
     "output_type": "execute_result"
    }
   ],
   "source": [
    "banks_by_state.sort_values(by='Institution Name', ascending=False).iloc[0:5]"
   ]
  },
  {
   "cell_type": "code",
   "execution_count": 64,
   "metadata": {},
   "outputs": [
    {
     "data": {
      "text/plain": [
       "Text(0.5,0.98,'Figure 6')"
      ]
     },
     "execution_count": 64,
     "metadata": {},
     "output_type": "execute_result"
    },
    {
     "data": {
      "image/png": "[encoded data removed]",
      "text/plain": [
       "<matplotlib.figure.Figure at 0x10da9d780>"
      ]
     },
     "metadata": {},
     "output_type": "display_data"
    },
    {
     "data": {
      "image/png": "[encoded data removed]",
      "text/plain": [
       "<matplotlib.figure.Figure at 0x10d300550>"
      ]
     },
     "metadata": {},
     "output_type": "display_data"
    }
   ],
   "source": [
    "plt.hist(banks['State'],bins=50)\n",
    "plt.xticks(fontsize=7,rotation=90)\n",
    "plt.xlabel('State')\n",
    "plt.ylabel('Bank Failures')\n",
    "\n",
    "banks_by_state = banks.groupby('State', as_index=False)['Institution Name'].agg('count').sort_values(by='Institution Name',ascending=False)\n",
    "banks_by_state.plot.bar(x='State',y='Institution Name')\n",
    "fig.suptitle('Figure 6', fontsize=14, fontweight='bold')"
   ]
  },
  {
   "cell_type": "markdown",
   "metadata": {},
   "source": [
    "From the histograms and table above we find that Texas is by far the state with the largest failing bank by average bank failures in the USA of any type and across any period of time. The next largest average failing bank is California at nearly five times less Total Assets than Texas. The third largest failing State, Illinois is even more removed from CA. The total assets gradually decreases from there. New York is half that of Illinois. "
   ]
  },
  {
   "cell_type": "markdown",
   "metadata": {},
   "source": [
    "Below I created subplots for each period and the failure counts for each state. This will show who the was responsible for the highest failures and also cost the government the most to resolve."
   ]
  },
  {
   "cell_type": "code",
   "execution_count": 59,
   "metadata": {},
   "outputs": [
    {
     "data": {
      "text/plain": [
       "Text(0.5,0.98,'Figure 7')"
      ]
     },
     "execution_count": 59,
     "metadata": {},
     "output_type": "execute_result"
    },
    {
     "data": {
      "image/png": "[encoded data removed]",
      "text/plain": [
       "<matplotlib.figure.Figure at 0x10afd3390>"
      ]
     },
     "metadata": {},
     "output_type": "display_data"
    }
   ],
   "source": [
    "banks_inflation['Total Assets (2015)']=banks_inflation['Total Assets']*banks_inflation['inflation_multiplier']\n",
    "year_range_1 = range(1934, 1943)\n",
    "year_range_2 = range(1980, 1990)\n",
    "year_range_3 = range(2000, 2015)\n",
    "\n",
    "banks_1 = banks_inflation[banks_inflation['Failure Year'].isin(year_range_1)]\n",
    "banks_2 = banks_inflation[banks_inflation['Failure Year'].isin(year_range_2)]\n",
    "banks_3 = banks_inflation[banks_inflation['Failure Year'].isin(year_range_3)]\n",
    "\n",
    "\n",
    "plt.subplot(3,1,1)\n",
    "plt.hist(banks_1['State'],bins=50)\n",
    "plt.xticks(fontsize=7,rotation=90)\n",
    "plt.xlabel('Failures by State')\n",
    "plt.ylabel('Estimated Loss (2015)')\n",
    "\n",
    "plt.subplot(3,1,2)\n",
    "plt.hist(banks_2['State'],bins=50)\n",
    "plt.xticks(fontsize=7,rotation=90)\n",
    "plt.xlabel('Failures by State')\n",
    "plt.ylabel('Estimated Loss (2015)')\n",
    "\n",
    "plt.subplot(3,1,3)\n",
    "plt.hist(banks_3['State'],bins=50)\n",
    "plt.xticks(fontsize=7,rotation=90)\n",
    "plt.xlabel('Failures by State')\n",
    "plt.ylabel('Estimated Loss (2015)')\n",
    "fig.suptitle('Figure 7', fontsize=14, fontweight='bold')"
   ]
  },
  {
   "cell_type": "markdown",
   "metadata": {},
   "source": [
    "Finally we discover what the losses were for all states. Then we take the average losses of each state and show this data from highest average losses to lowest losses. Texas lost 6 times as much as the next most failing state, California. And the rest of the states were relatively the similar to each other, and futher identifying those states reposinle in each period as follows:\n",
    "\n",
    "From the first period it looks like Montana and West Virginia are the leaders in the Estimated Losses of their time period, ranging from 1934 to 1943.\n",
    "\n",
    "In the second period, the story has changed and now Texas isn't the most responsible in this period and in face hasn't always been the largest failed state. If we look at Texas' place on the graph following it down through each graph we see that this state in fact had less losses from bank failures than West Viginia or Montana. \n",
    "\n",
    "Lastly and surprisingly in the third graph Florida, Georgia, and Illinois are the juggernauts of the modern age of losses. These are both small state by geography and population density and I am curious to know how this plays a role in the failure count and to the losses of the state."
   ]
  },
  {
   "cell_type": "markdown",
   "metadata": {},
   "source": [
    "To conclude bank failures in the United States have their own unique differences and those differences boil down to time, state, and total assets lost. And since we have already seen the three big periods to failures, it might be cool in the future to see how bad the worst failures of each period were in 2015 USD and to project which banks might fail in the future. "
   ]
  }
 ],
 "metadata": {
  "kernelspec": {
   "display_name": "Python 3",
   "language": "python",
   "name": "python3"
  },
  "language_info": {
   "codemirror_mode": {
    "name": "ipython",
    "version": 3
   },
   "file_extension": ".py",
   "mimetype": "text/x-python",
   "name": "python",
   "nbconvert_exporter": "python",
   "pygments_lexer": "ipython3",
   "version": "3.5.2"
  }
 },
 "nbformat": 4,
 "nbformat_minor": 2
}
