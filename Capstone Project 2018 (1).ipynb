{
 "cells": [
  {
   "cell_type": "markdown",
   "metadata": {},
   "source": [
    "# U.S. Bank Failure Analysis \n",
    "\n",
    "Data: https://catalog.data.gov/dataset/fdic-failed-bank-list\n",
    "\n",
    "\n",
    "The inspiration for project comes from my curiosity about recurring financial and economic problems especially after the recent 2008 recession. I will be focusing more on this period of the data from 2000-2017. The data dates back to 1934 and expresses the following values:\n",
    "\n",
    "**1. Institution name and FIN number\n",
    "\n",
    "**2. Charter type\n",
    "\n",
    "**3. Location of headquarters (city and state)\n",
    "\n",
    "**4. Effective date\n",
    "\n",
    "**5. Insurance fund and certificate number\n",
    "\n",
    "**6. Failure transaction type\n",
    "\n",
    "**7. Total deposits and total assets last reported prior to failure (in thousands of dollars)\n",
    "\n",
    "\n",
    "There are several challenges to this dataset. \n",
    "\n",
    "**First, different periods will have to be excluded from different forms of analysis for instance:\n",
    "\n",
    "Estimated cost of resolution (Data on estimated losses are not available for FDIC insured failures prior to 1986 or for FSLIC insured failures from 1934-88. The data in this period from 1934-88 can be included in all forms of interpretation except where estimated loss data is needed.\n",
    "I will consider the failures after 1988 where data exists for estimated losses as significant.\n",
    "\n",
    "**Second, a large dataset with many values which values to consider, took some time. I focused on Instituion Name (not fin number),Charter Type,Location of headquarters (city and state), and Total deposits and total assets last reported prior to failure (in thousands of dollars)\n",
    "\n",
    "**Third, I believe that the correlation between other variables can be significant, but for the purposes of this project I am limited to the values within the confines of the dataset. \n",
    "\n",
    "**I suspect these variables potentially hold a lot of interesting relationships to the banking industry in the USA. I would be interested in considering Failure transaction type, effective data, and Insurance fund and certificate number at a later date when I gain more of an understanding of what those values mean to me.\n",
    "***"
   ]
  },
  {
   "cell_type": "markdown",
   "metadata": {},
   "source": [
    "# Analytic Questions\n",
    "\n",
    "1. How have institution failures changed over time; which institution is most likely to fail? \n",
    "\n",
    "2. How expensive were institution failures in each period relative to other periods?\n",
    "\n",
    "3. Which states had the highest failures; which single state cost the federal government the most to resolve?"
   ]
  },
  {
   "cell_type": "code",
   "execution_count": 1,
   "metadata": {
    "collapsed": true
   },
   "outputs": [],
   "source": [
    "# Importing the necessary libraries to organize the data into a meaningful story through \n",
    "#the combination of statistical, visual, and narrative story telling tools.\n",
    "import pandas as pd\n",
    "import numpy as np\n",
    "import matplotlib.pyplot as plt\n",
    "import seaborn as sns\n",
    "%matplotlib inline"
   ]
  },
  {
   "cell_type": "code",
   "execution_count": 2,
   "metadata": {
    "collapsed": true
   },
   "outputs": [],
   "source": [
    "# Reading the banks.csv file stored in my desktop\n",
    "banks = pd.read_csv('banks.csv')"
   ]
  },
  {
   "cell_type": "code",
   "execution_count": 3,
   "metadata": {},
   "outputs": [
    {
     "data": {
      "text/plain": [
       "3484"
      ]
     },
     "execution_count": 3,
     "metadata": {},
     "output_type": "execute_result"
    }
   ],
   "source": [
    "#I want to note the size of the dataset at the start to show what we are working with\n",
    "len(banks)"
   ]
  },
  {
   "cell_type": "code",
   "execution_count": 4,
   "metadata": {},
   "outputs": [
    {
     "data": {
      "text/html": [
       "<div>\n",
       "<style scoped>\n",
       "    .dataframe tbody tr th:only-of-type {\n",
       "        vertical-align: middle;\n",
       "    }\n",
       "\n",
       "    .dataframe tbody tr th {\n",
       "        vertical-align: top;\n",
       "    }\n",
       "\n",
       "    .dataframe thead th {\n",
       "        text-align: right;\n",
       "    }\n",
       "</style>\n",
       "<table border=\"1\" class=\"dataframe\">\n",
       "  <thead>\n",
       "    <tr style=\"text-align: right;\">\n",
       "      <th></th>\n",
       "      <th>Financial Institution Number</th>\n",
       "      <th>Institution Name</th>\n",
       "      <th>Institution Type</th>\n",
       "      <th>Charter Type</th>\n",
       "      <th>Headquarters</th>\n",
       "      <th>Failure Date</th>\n",
       "      <th>Insurance Fund</th>\n",
       "      <th>Certificate Number</th>\n",
       "      <th>Transaction Type</th>\n",
       "      <th>Total Deposits</th>\n",
       "      <th>Total Assets</th>\n",
       "      <th>Estimated Loss (2015)</th>\n",
       "    </tr>\n",
       "  </thead>\n",
       "  <tbody>\n",
       "    <tr>\n",
       "      <th>0</th>\n",
       "      <td>NaN</td>\n",
       "      <td>BANK OF AMERICA TRUST CO.</td>\n",
       "      <td>COMMERCIAL BANK</td>\n",
       "      <td>STATE</td>\n",
       "      <td>PITTSBURGH, PA</td>\n",
       "      <td>4/19/1934</td>\n",
       "      <td>FDIC</td>\n",
       "      <td>NaN</td>\n",
       "      <td>PAYOUT</td>\n",
       "      <td>1064</td>\n",
       "      <td>1435.0</td>\n",
       "      <td>NaN</td>\n",
       "    </tr>\n",
       "    <tr>\n",
       "      <th>1</th>\n",
       "      <td>NaN</td>\n",
       "      <td>FON DU LAC STATE BANK</td>\n",
       "      <td>COMMERCIAL BANK</td>\n",
       "      <td>STATE</td>\n",
       "      <td>EAST PEORIA, IL</td>\n",
       "      <td>5/28/1934</td>\n",
       "      <td>FDIC</td>\n",
       "      <td>NaN</td>\n",
       "      <td>PAYOUT</td>\n",
       "      <td>238</td>\n",
       "      <td>374.0</td>\n",
       "      <td>NaN</td>\n",
       "    </tr>\n",
       "    <tr>\n",
       "      <th>2</th>\n",
       "      <td>NaN</td>\n",
       "      <td>FIRST NATIONAL BANK OF LIMA</td>\n",
       "      <td>COMMERCIAL BANK</td>\n",
       "      <td>FEDERAL</td>\n",
       "      <td>LIMA, MT</td>\n",
       "      <td>7/18/1934</td>\n",
       "      <td>FDIC</td>\n",
       "      <td>NaN</td>\n",
       "      <td>PAYOUT</td>\n",
       "      <td>42</td>\n",
       "      <td>91.0</td>\n",
       "      <td>NaN</td>\n",
       "    </tr>\n",
       "    <tr>\n",
       "      <th>3</th>\n",
       "      <td>NaN</td>\n",
       "      <td>FLORENCE DEPOSIT BANK</td>\n",
       "      <td>COMMERCIAL BANK</td>\n",
       "      <td>STATE</td>\n",
       "      <td>FLORENCE, IN</td>\n",
       "      <td>7/18/1934</td>\n",
       "      <td>FDIC</td>\n",
       "      <td>NaN</td>\n",
       "      <td>PAYOUT</td>\n",
       "      <td>69</td>\n",
       "      <td>105.0</td>\n",
       "      <td>NaN</td>\n",
       "    </tr>\n",
       "    <tr>\n",
       "      <th>4</th>\n",
       "      <td>NaN</td>\n",
       "      <td>BANK OF LEWISPORT</td>\n",
       "      <td>COMMERCIAL BANK</td>\n",
       "      <td>STATE</td>\n",
       "      <td>LEWISPORT, KY</td>\n",
       "      <td>8/6/1934</td>\n",
       "      <td>FDIC</td>\n",
       "      <td>NaN</td>\n",
       "      <td>PAYOUT</td>\n",
       "      <td>68</td>\n",
       "      <td>81.0</td>\n",
       "      <td>NaN</td>\n",
       "    </tr>\n",
       "  </tbody>\n",
       "</table>\n",
       "</div>"
      ],
      "text/plain": [
       "   Financial Institution Number             Institution Name Institution Type  \\\n",
       "0                           NaN    BANK OF AMERICA TRUST CO.  COMMERCIAL BANK   \n",
       "1                           NaN        FON DU LAC STATE BANK  COMMERCIAL BANK   \n",
       "2                           NaN  FIRST NATIONAL BANK OF LIMA  COMMERCIAL BANK   \n",
       "3                           NaN        FLORENCE DEPOSIT BANK  COMMERCIAL BANK   \n",
       "4                           NaN            BANK OF LEWISPORT  COMMERCIAL BANK   \n",
       "\n",
       "  Charter Type     Headquarters Failure Date Insurance Fund  \\\n",
       "0        STATE   PITTSBURGH, PA   4/19/1934            FDIC   \n",
       "1        STATE  EAST PEORIA, IL   5/28/1934            FDIC   \n",
       "2      FEDERAL         LIMA, MT   7/18/1934            FDIC   \n",
       "3        STATE     FLORENCE, IN   7/18/1934            FDIC   \n",
       "4        STATE    LEWISPORT, KY    8/6/1934            FDIC   \n",
       "\n",
       "   Certificate Number Transaction Type  Total Deposits  Total Assets  \\\n",
       "0                 NaN           PAYOUT            1064        1435.0   \n",
       "1                 NaN           PAYOUT             238         374.0   \n",
       "2                 NaN           PAYOUT              42          91.0   \n",
       "3                 NaN           PAYOUT              69         105.0   \n",
       "4                 NaN           PAYOUT              68          81.0   \n",
       "\n",
       "   Estimated Loss (2015)  \n",
       "0                    NaN  \n",
       "1                    NaN  \n",
       "2                    NaN  \n",
       "3                    NaN  \n",
       "4                    NaN  "
      ]
     },
     "execution_count": 4,
     "metadata": {},
     "output_type": "execute_result"
    }
   ],
   "source": [
    "#Calling up the top 5 banks to see how the data and its values are organized in a dataframe\n",
    "banks.head()"
   ]
  },
  {
   "cell_type": "code",
   "execution_count": 5,
   "metadata": {
    "collapsed": true
   },
   "outputs": [],
   "source": [
    "#Extracting out failure year city and state.\n",
    "banks['Failure Year']=banks['Failure Date'].apply(lambda x: int(x.split('/')[2]))\n",
    "banks['City']=banks['Headquarters'].apply(lambda x:(x.split(',')[0]))\n",
    "banks['State']=banks['Headquarters'].apply(lambda x:(x.split(', ')[1]))"
   ]
  },
  {
   "cell_type": "code",
   "execution_count": 6,
   "metadata": {},
   "outputs": [
    {
     "data": {
      "text/plain": [
       "Financial Institution Number    601\n",
       "Institution Name                  0\n",
       "Institution Type                  0\n",
       "Charter Type                      0\n",
       "Headquarters                      0\n",
       "Failure Date                      0\n",
       "Insurance Fund                    0\n",
       "Certificate Number              485\n",
       "Transaction Type                  0\n",
       "Total Deposits                    0\n",
       "Total Assets                    151\n",
       "Estimated Loss (2015)           975\n",
       "Failure Year                      0\n",
       "City                              0\n",
       "State                             0\n",
       "dtype: int64"
      ]
     },
     "execution_count": 6,
     "metadata": {},
     "output_type": "execute_result"
    }
   ],
   "source": [
    "#Examining how much missing data is present to futher clean the data\n",
    "banks.isnull().sum()"
   ]
  },
  {
   "cell_type": "code",
   "execution_count": 7,
   "metadata": {},
   "outputs": [
    {
     "data": {
      "text/html": [
       "<div>\n",
       "<style scoped>\n",
       "    .dataframe tbody tr th:only-of-type {\n",
       "        vertical-align: middle;\n",
       "    }\n",
       "\n",
       "    .dataframe tbody tr th {\n",
       "        vertical-align: top;\n",
       "    }\n",
       "\n",
       "    .dataframe thead th {\n",
       "        text-align: right;\n",
       "    }\n",
       "</style>\n",
       "<table border=\"1\" class=\"dataframe\">\n",
       "  <thead>\n",
       "    <tr style=\"text-align: right;\">\n",
       "      <th></th>\n",
       "      <th>Total Deposits</th>\n",
       "      <th>Total Assets</th>\n",
       "      <th>Estimated Loss (2015)</th>\n",
       "      <th>Failure Year</th>\n",
       "    </tr>\n",
       "  </thead>\n",
       "  <tbody>\n",
       "    <tr>\n",
       "      <th>count</th>\n",
       "      <td>3.484000e+03</td>\n",
       "      <td>3.333000e+03</td>\n",
       "      <td>2.509000e+03</td>\n",
       "      <td>3484.000000</td>\n",
       "    </tr>\n",
       "    <tr>\n",
       "      <th>mean</th>\n",
       "      <td>2.997762e+05</td>\n",
       "      <td>4.045884e+05</td>\n",
       "      <td>7.064435e+04</td>\n",
       "      <td>1985.213261</td>\n",
       "    </tr>\n",
       "    <tr>\n",
       "      <th>std</th>\n",
       "      <td>3.304676e+06</td>\n",
       "      <td>5.454873e+06</td>\n",
       "      <td>3.305872e+05</td>\n",
       "      <td>19.654791</td>\n",
       "    </tr>\n",
       "    <tr>\n",
       "      <th>min</th>\n",
       "      <td>0.000000e+00</td>\n",
       "      <td>1.400000e+01</td>\n",
       "      <td>-4.386000e+03</td>\n",
       "      <td>1934.000000</td>\n",
       "    </tr>\n",
       "    <tr>\n",
       "      <th>25%</th>\n",
       "      <td>1.229300e+04</td>\n",
       "      <td>1.505100e+04</td>\n",
       "      <td>3.852000e+03</td>\n",
       "      <td>1985.000000</td>\n",
       "    </tr>\n",
       "    <tr>\n",
       "      <th>50%</th>\n",
       "      <td>4.172100e+04</td>\n",
       "      <td>4.752300e+04</td>\n",
       "      <td>1.335400e+04</td>\n",
       "      <td>1989.000000</td>\n",
       "    </tr>\n",
       "    <tr>\n",
       "      <th>75%</th>\n",
       "      <td>1.562415e+05</td>\n",
       "      <td>1.734780e+05</td>\n",
       "      <td>4.458500e+04</td>\n",
       "      <td>1991.000000</td>\n",
       "    </tr>\n",
       "    <tr>\n",
       "      <th>max</th>\n",
       "      <td>1.882608e+08</td>\n",
       "      <td>3.070216e+08</td>\n",
       "      <td>1.243800e+07</td>\n",
       "      <td>2017.000000</td>\n",
       "    </tr>\n",
       "  </tbody>\n",
       "</table>\n",
       "</div>"
      ],
      "text/plain": [
       "       Total Deposits  Total Assets  Estimated Loss (2015)  Failure Year\n",
       "count    3.484000e+03  3.333000e+03           2.509000e+03   3484.000000\n",
       "mean     2.997762e+05  4.045884e+05           7.064435e+04   1985.213261\n",
       "std      3.304676e+06  5.454873e+06           3.305872e+05     19.654791\n",
       "min      0.000000e+00  1.400000e+01          -4.386000e+03   1934.000000\n",
       "25%      1.229300e+04  1.505100e+04           3.852000e+03   1985.000000\n",
       "50%      4.172100e+04  4.752300e+04           1.335400e+04   1989.000000\n",
       "75%      1.562415e+05  1.734780e+05           4.458500e+04   1991.000000\n",
       "max      1.882608e+08  3.070216e+08           1.243800e+07   2017.000000"
      ]
     },
     "execution_count": 7,
     "metadata": {},
     "output_type": "execute_result"
    }
   ],
   "source": [
    "#Summary Statistics, these summarize and provide information about the following values in my dataset\n",
    "banks[['Total Deposits', 'Total Assets', 'Estimated Loss (2015)', 'Failure Year']].describe()"
   ]
  },
  {
   "cell_type": "markdown",
   "metadata": {},
   "source": [
    "# Analytic Question 1\n",
    "##**How have bank failures changed over time; which institution is more likely to fail? Commercial Bank, Savings Association, or Savings Bank?"
   ]
  },
  {
   "cell_type": "markdown",
   "metadata": {},
   "source": [
    "To more clearly understand how bank failures changed over time I grouped the data by institution type. I figured that the type of institution is significant because the banks aggregated in this dataset aren't just banks, they are distinctly different institutions that serve different uses.  "
   ]
  },
  {
   "cell_type": "code",
   "execution_count": 29,
   "metadata": {},
   "outputs": [
    {
     "data": {
      "text/html": [
       "<div>\n",
       "<style scoped>\n",
       "    .dataframe tbody tr th:only-of-type {\n",
       "        vertical-align: middle;\n",
       "    }\n",
       "\n",
       "    .dataframe tbody tr th {\n",
       "        vertical-align: top;\n",
       "    }\n",
       "\n",
       "    .dataframe thead th {\n",
       "        text-align: right;\n",
       "    }\n",
       "</style>\n",
       "<table border=\"1\" class=\"dataframe\">\n",
       "  <thead>\n",
       "    <tr style=\"text-align: right;\">\n",
       "      <th></th>\n",
       "      <th>mean</th>\n",
       "      <th>count</th>\n",
       "    </tr>\n",
       "    <tr>\n",
       "      <th>Institution Type</th>\n",
       "      <th></th>\n",
       "      <th></th>\n",
       "    </tr>\n",
       "  </thead>\n",
       "  <tbody>\n",
       "    <tr>\n",
       "      <th>COMMERCIAL BANK</th>\n",
       "      <td>41835.451513</td>\n",
       "      <td>1619</td>\n",
       "    </tr>\n",
       "    <tr>\n",
       "      <th>SAVINGS ASSOCIATION</th>\n",
       "      <td>106485.405594</td>\n",
       "      <td>572</td>\n",
       "    </tr>\n",
       "    <tr>\n",
       "      <th>SAVINGS BANK</th>\n",
       "      <td>152847.254717</td>\n",
       "      <td>318</td>\n",
       "    </tr>\n",
       "  </tbody>\n",
       "</table>\n",
       "</div>"
      ],
      "text/plain": [
       "                              mean  count\n",
       "Institution Type                         \n",
       "COMMERCIAL BANK       41835.451513   1619\n",
       "SAVINGS ASSOCIATION  106485.405594    572\n",
       "SAVINGS BANK         152847.254717    318"
      ]
     },
     "execution_count": 29,
     "metadata": {},
     "output_type": "execute_result"
    }
   ],
   "source": [
    "banks.groupby(['Institution Type'])['Estimated Loss (2015)'].agg(['mean', 'count'])"
   ]
  },
  {
   "cell_type": "markdown",
   "metadata": {},
   "source": [
    "Commercial banks account for most of the failures, but only represent a relative small portion of the total loss.\n",
    "\n",
    "Now let's look at time and see how bank failures have changed over the major periods in history . . ."
   ]
  },
  {
   "cell_type": "code",
   "execution_count": 10,
   "metadata": {},
   "outputs": [
    {
     "data": {
      "text/plain": [
       "Text(0,0.5,u'Bank Failures')"
      ]
     },
     "execution_count": 10,
     "metadata": {},
     "output_type": "execute_result"
    },
    {
     "data": {
      "image/png": "[encoded data removed]",
      "text/plain": [
       "<matplotlib.figure.Figure at 0x10d30f050>"
      ]
     },
     "metadata": {},
     "output_type": "display_data"
    }
   ],
   "source": [
    "plt.hist(banks['Failure Year'], bins=range(1934,2017))\n",
    "plt.xlabel('Year')\n",
    "plt.ylabel('Bank Failures')"
   ]
  },
  {
   "cell_type": "code",
   "execution_count": null,
   "metadata": {
    "collapsed": true
   },
   "outputs": [],
   "source": []
  },
  {
   "cell_type": "markdown",
   "metadata": {},
   "source": [
    "State conclusions . . . we can see the three major economic collapses reflected in this plot\n",
    "\n",
    "Now . . . lets see if the institution type that fails varies over time . . ."
   ]
  },
  {
   "cell_type": "code",
   "execution_count": 11,
   "metadata": {},
   "outputs": [
    {
     "data": {
      "text/plain": [
       "<matplotlib.legend.Legend at 0x10da0e610>"
      ]
     },
     "execution_count": 11,
     "metadata": {},
     "output_type": "execute_result"
    },
    {
     "data": {
      "image/png": "[encoded data removed]",
      "text/plain": [
       "<matplotlib.figure.Figure at 0x10d947ad0>"
      ]
     },
     "metadata": {},
     "output_type": "display_data"
    }
   ],
   "source": [
    "failure_year_type = banks.groupby(['Failure Year', 'Institution Type'], as_index=False)['Institution Name'].agg('count')\n",
    "failure_year_type.columns=['Failure Year', 'Institution Type', 'Number of Failures']\n",
    "\n",
    "failure_year_comm = failure_year_type[failure_year_type['Institution Type']=='COMMERCIAL BANK']\n",
    "failure_year_savea = failure_year_type[failure_year_type['Institution Type']=='SAVINGS ASSOCIATION']\n",
    "failure_year_saveb = failure_year_type[failure_year_type['Institution Type']=='SAVINGS BANK']\n",
    "\n",
    "\n",
    "failure_year_all = failure_year_type[(failure_year_type['Institution Type']=='COMMERCIAL BANK') | (failure_year_type['Institution Type']=='SAVINGS ASSOCIATION') | (failure_year_type['Institution Type']=='SAVINGS BANK')]\n",
    "failure_year_all = failure_year_all.groupby('Failure Year', as_index=False)['Number of Failures'].agg('sum')\n",
    "\n",
    "plt.plot(failure_year_comm['Failure Year'], failure_year_comm['Number of Failures'], 'b-')\n",
    "plt.plot(failure_year_savea['Failure Year'], failure_year_savea['Number of Failures'], 'r-')\n",
    "plt.plot(failure_year_saveb['Failure Year'], failure_year_saveb['Number of Failures'], 'm-')\n",
    "plt.plot(failure_year_all['Failure Year'], failure_year_all['Number of Failures'], 'g--')\n",
    "\n",
    "\n",
    "\n",
    "plt.xlabel('Year')\n",
    "plt.ylabel('Institution Failures')\n",
    "plt.legend(['Commercial Bank', 'Savings Assn', 'Savings Bank', 'All'])"
   ]
  },
  {
   "cell_type": "markdown",
   "metadata": {},
   "source": [
    "Commercial banks are big failure type in the Great Depression and Mortgage collapse.  During the 80s it's more spread out . . \n",
    "\n",
    "What I am doing \n",
    "Why Iam doing it\n",
    "What conclusions I can draw from it\n",
    "\n",
    "Paragraph for each"
   ]
  },
  {
   "cell_type": "markdown",
   "metadata": {},
   "source": [
    "### Put your Mann Whitney stuff here (move it from question 2)\n",
    "\n",
    "Want to show statistically that the Estimated Loss for the various types of banks are different.  T-test doesn't apply since data not normal (maybe show a QQ plot????).  So, we use Mann Whitney on Estimated Loss (2015)"
   ]
  },
  {
   "cell_type": "code",
   "execution_count": 44,
   "metadata": {},
   "outputs": [
    {
     "name": "stdout",
     "output_type": "stream",
     "text": [
      "(100227.5, 0.0014239659629209772)\n"
     ]
    }
   ],
   "source": [
    "from scipy.stats import mannwhitneyu \n",
    "\n",
    "savings_assn = banks[banks['Institution Type']=='SAVINGS ASSOCIATION']\n",
    "savings = banks[banks['Institution Type']=='SAVINGS BANK']\n",
    "commerical = banks[banks['Institution Type']=='COMMERCIAL BANK']\n",
    "\n",
    "u, p = mannwhitneyu(savings_assn['Estimated Loss (2015)'], savings['Estimated Loss (2015)'])\n",
    "print((u, p))\n",
    "\n",
    "#repeat this for the other two pairs . .  commerical and savings, and commerical and savings assn\n"
   ]
  },
  {
   "cell_type": "markdown",
   "metadata": {},
   "source": [
    "## Analytic Question 2 \n",
    "### ** Which bank cost the government most to resolve in each period, relative to others across all periods?**"
   ]
  },
  {
   "cell_type": "markdown",
   "metadata": {},
   "source": [
    "This question is interesting because we already know which general periods of time that the majority of financial institutions failed, but we don't know the loss of the biggest failure in each period. And how does that institution compare to the second, third, fourth biggest failures? What is this like for all three periods? Do any interesting patterns emerge? \n",
    "\n",
    "It is interesting to note the difference between loss and cost. Loss is something we have in the data set but cost is something we don't. The cost to the government would probably have to be keep a frame of reference for this question placed on the cost to the government and the biggest loss relative  cost the\n",
    "\n",
    "I've decided to import an inflation multiplier to adjust total assets for inflation and use this new metric as a proxy to compare and contrast losses across all periods. I've done this becausethere isn't enough data on estimated losses (2015) beyond 1988.\n",
    "\n",
    "Using this new metric to measure losses; we divide the data into the three periods or \"ranges\" of time. These specific ranges will be as follows: \n",
    "year_range_1(1934, 1943)\n",
    "year_range_2(1980, 1990)\n",
    "year_range_3(2000, 2015)\n",
    "\n",
    "These ranges are in keeping with the time frames we sorted earlier in answering question one where a histogram can show you those ranges more clearly."
   ]
  },
  {
   "cell_type": "markdown",
   "metadata": {},
   "source": [
    "Below is where we read the file and define the new banks_inflation data frame and see the values that the data is organized under. "
   ]
  },
  {
   "cell_type": "code",
   "execution_count": 32,
   "metadata": {},
   "outputs": [
    {
     "data": {
      "text/plain": [
       "Index([u'Financial Institution Number', u'Institution Name',\n",
       "       u'Institution Type', u'Charter Type', u'Headquarters', u'Failure Date',\n",
       "       u'Insurance Fund', u'Certificate Number', u'Transaction Type',\n",
       "       u'Total Deposits', u'Total Assets', u'Estimated Loss (2015)',\n",
       "       u'Failure Year', u'City', u'State', u'year', u'inflation_multiplier'],\n",
       "      dtype='object')"
      ]
     },
     "execution_count": 32,
     "metadata": {},
     "output_type": "execute_result"
    }
   ],
   "source": [
    "conversion_df = pd.read_csv('inflation.csv')\n",
    "banks_inflation = pd.merge(banks, conversion_df, left_on='Failure Year', right_on='year')\n",
    "banks_inflation.columns"
   ]
  },
  {
   "cell_type": "markdown",
   "metadata": {},
   "source": [
    "Below we do two things:\n",
    "\n",
    "1. We create a table that converts 2015 vals to 2017 vals; 2017 values are what I chose so as to be as current as possible to a ubiquitious inflation rate.\n",
    "\n",
    "2. We then sort the values by Institution Name and Total Assets (2015) and we plot those values to compare their bar plots to determine if there is a correlation. \n"
   ]
  },
  {
   "cell_type": "markdown",
   "metadata": {},
   "source": [
    "In the following cell's block of code I attempted to test two data samples; 'Total Assets (2015)', and 'Estimated Loss (2015)'.\n",
    "I first attempted a peasrson test for normal distribution, but it didn't work because the data are not normally distibuted.\n",
    "So instead I went with the Mann Whitney U test; a nonparametric test of the null hypothesis\n",
    "Unlike the t-test it does not require the assumption of normal distributions. It is nearly as efficient as the t-test is on normal distributions."
   ]
  },
  {
   "cell_type": "markdown",
   "metadata": {},
   "source": [
    "## Put Pearson back here"
   ]
  },
  {
   "cell_type": "code",
   "execution_count": 33,
   "metadata": {},
   "outputs": [
    {
     "name": "stdout",
     "output_type": "stream",
     "text": [
      "(1402117.0, 6.475764628495759e-254)\n"
     ]
    },
    {
     "data": {
      "image/png": "[encoded data removed]",
      "text/plain": [
       "<matplotlib.figure.Figure at 0x114ab7e90>"
      ]
     },
     "metadata": {},
     "output_type": "display_data"
    }
   ],
   "source": [
    "banks_inflation['Total Assets (2015)']=banks_inflation['Total Assets']*banks_inflation['inflation_multiplier'] \n",
    "plt.scatter(banks_inflation['Total Assets (2015)'], banks_inflation['Estimated Loss (2015)']) \n",
    "plt.xlabel('Total Assets (2015)') \n",
    "plt.ylabel('Estimated Loss (2015)') \n",
    "plt.xlim([0, 0.6e8])\n",
    "\n",
    "bankst = banks_inflation.dropna(subset=['Total Assets (2015)', 'Estimated Loss (2015)', 'Total Assets']) \n",
    "u, p = mannwhitneyu(bankst['Total Assets'], bankst['Estimated Loss (2015)']) \n",
    "print(u, p)"
   ]
  },
  {
   "cell_type": "markdown",
   "metadata": {},
   "source": [
    "Below I've created summary statistics for each variable we tested for, Estimated Loss (2015), and Total Assets. This is to show how they are differently distributed before we brought the two sets of data together to compare."
   ]
  },
  {
   "cell_type": "code",
   "execution_count": 34,
   "metadata": {},
   "outputs": [
    {
     "data": {
      "text/html": [
       "<div>\n",
       "<style scoped>\n",
       "    .dataframe tbody tr th:only-of-type {\n",
       "        vertical-align: middle;\n",
       "    }\n",
       "\n",
       "    .dataframe tbody tr th {\n",
       "        vertical-align: top;\n",
       "    }\n",
       "\n",
       "    .dataframe thead th {\n",
       "        text-align: right;\n",
       "    }\n",
       "</style>\n",
       "<table border=\"1\" class=\"dataframe\">\n",
       "  <thead>\n",
       "    <tr style=\"text-align: right;\">\n",
       "      <th></th>\n",
       "      <th>count</th>\n",
       "      <th>mean</th>\n",
       "      <th>std</th>\n",
       "      <th>min</th>\n",
       "      <th>25%</th>\n",
       "      <th>50%</th>\n",
       "      <th>75%</th>\n",
       "      <th>max</th>\n",
       "    </tr>\n",
       "    <tr>\n",
       "      <th>Institution Type</th>\n",
       "      <th></th>\n",
       "      <th></th>\n",
       "      <th></th>\n",
       "      <th></th>\n",
       "      <th></th>\n",
       "      <th></th>\n",
       "      <th></th>\n",
       "      <th></th>\n",
       "    </tr>\n",
       "  </thead>\n",
       "  <tbody>\n",
       "    <tr>\n",
       "      <th>COMMERCIAL BANK</th>\n",
       "      <td>1619.0</td>\n",
       "      <td>41835.451513</td>\n",
       "      <td>139013.822067</td>\n",
       "      <td>0.0</td>\n",
       "      <td>3180.00</td>\n",
       "      <td>8857.0</td>\n",
       "      <td>30081.0</td>\n",
       "      <td>3330263.0</td>\n",
       "    </tr>\n",
       "    <tr>\n",
       "      <th>SAVINGS ASSOCIATION</th>\n",
       "      <td>572.0</td>\n",
       "      <td>106485.405594</td>\n",
       "      <td>282282.109304</td>\n",
       "      <td>-551.0</td>\n",
       "      <td>7208.00</td>\n",
       "      <td>24116.0</td>\n",
       "      <td>73533.5</td>\n",
       "      <td>3142552.0</td>\n",
       "    </tr>\n",
       "    <tr>\n",
       "      <th>SAVINGS BANK</th>\n",
       "      <td>318.0</td>\n",
       "      <td>152847.254717</td>\n",
       "      <td>780479.657822</td>\n",
       "      <td>-4386.0</td>\n",
       "      <td>7977.25</td>\n",
       "      <td>25392.5</td>\n",
       "      <td>93980.5</td>\n",
       "      <td>12438005.0</td>\n",
       "    </tr>\n",
       "  </tbody>\n",
       "</table>\n",
       "</div>"
      ],
      "text/plain": [
       "                      count           mean            std     min      25%  \\\n",
       "Institution Type                                                             \n",
       "COMMERCIAL BANK      1619.0   41835.451513  139013.822067     0.0  3180.00   \n",
       "SAVINGS ASSOCIATION   572.0  106485.405594  282282.109304  -551.0  7208.00   \n",
       "SAVINGS BANK          318.0  152847.254717  780479.657822 -4386.0  7977.25   \n",
       "\n",
       "                         50%      75%         max  \n",
       "Institution Type                                   \n",
       "COMMERCIAL BANK       8857.0  30081.0   3330263.0  \n",
       "SAVINGS ASSOCIATION  24116.0  73533.5   3142552.0  \n",
       "SAVINGS BANK         25392.5  93980.5  12438005.0  "
      ]
     },
     "execution_count": 34,
     "metadata": {},
     "output_type": "execute_result"
    }
   ],
   "source": [
    "banks.groupby(['Institution Type'])['Estimated Loss (2015)'].describe()"
   ]
  },
  {
   "cell_type": "code",
   "execution_count": 35,
   "metadata": {},
   "outputs": [
    {
     "data": {
      "text/html": [
       "<div>\n",
       "<style scoped>\n",
       "    .dataframe tbody tr th:only-of-type {\n",
       "        vertical-align: middle;\n",
       "    }\n",
       "\n",
       "    .dataframe tbody tr th {\n",
       "        vertical-align: top;\n",
       "    }\n",
       "\n",
       "    .dataframe thead th {\n",
       "        text-align: right;\n",
       "    }\n",
       "</style>\n",
       "<table border=\"1\" class=\"dataframe\">\n",
       "  <thead>\n",
       "    <tr style=\"text-align: right;\">\n",
       "      <th></th>\n",
       "      <th>count</th>\n",
       "      <th>mean</th>\n",
       "      <th>std</th>\n",
       "      <th>min</th>\n",
       "      <th>25%</th>\n",
       "      <th>50%</th>\n",
       "      <th>75%</th>\n",
       "      <th>max</th>\n",
       "    </tr>\n",
       "    <tr>\n",
       "      <th>Institution Type</th>\n",
       "      <th></th>\n",
       "      <th></th>\n",
       "      <th></th>\n",
       "      <th></th>\n",
       "      <th></th>\n",
       "      <th></th>\n",
       "      <th></th>\n",
       "      <th></th>\n",
       "    </tr>\n",
       "  </thead>\n",
       "  <tbody>\n",
       "    <tr>\n",
       "      <th>COMMERCIAL BANK</th>\n",
       "      <td>2315.0</td>\n",
       "      <td>1.795535e+05</td>\n",
       "      <td>8.938253e+05</td>\n",
       "      <td>14.0</td>\n",
       "      <td>9706.0</td>\n",
       "      <td>27090.0</td>\n",
       "      <td>98846.0</td>\n",
       "      <td>25455112.0</td>\n",
       "    </tr>\n",
       "    <tr>\n",
       "      <th>SAVINGS ASSOCIATION</th>\n",
       "      <td>691.0</td>\n",
       "      <td>4.505859e+05</td>\n",
       "      <td>1.084308e+06</td>\n",
       "      <td>4816.0</td>\n",
       "      <td>54397.5</td>\n",
       "      <td>127005.0</td>\n",
       "      <td>319666.0</td>\n",
       "      <td>13382327.0</td>\n",
       "    </tr>\n",
       "    <tr>\n",
       "      <th>SAVINGS BANK</th>\n",
       "      <td>327.0</td>\n",
       "      <td>1.900526e+06</td>\n",
       "      <td>1.712776e+07</td>\n",
       "      <td>4008.0</td>\n",
       "      <td>64505.0</td>\n",
       "      <td>174717.0</td>\n",
       "      <td>643582.5</td>\n",
       "      <td>307021614.0</td>\n",
       "    </tr>\n",
       "  </tbody>\n",
       "</table>\n",
       "</div>"
      ],
      "text/plain": [
       "                      count          mean           std     min      25%  \\\n",
       "Institution Type                                                           \n",
       "COMMERCIAL BANK      2315.0  1.795535e+05  8.938253e+05    14.0   9706.0   \n",
       "SAVINGS ASSOCIATION   691.0  4.505859e+05  1.084308e+06  4816.0  54397.5   \n",
       "SAVINGS BANK          327.0  1.900526e+06  1.712776e+07  4008.0  64505.0   \n",
       "\n",
       "                          50%       75%          max  \n",
       "Institution Type                                      \n",
       "COMMERCIAL BANK       27090.0   98846.0   25455112.0  \n",
       "SAVINGS ASSOCIATION  127005.0  319666.0   13382327.0  \n",
       "SAVINGS BANK         174717.0  643582.5  307021614.0  "
      ]
     },
     "execution_count": 35,
     "metadata": {},
     "output_type": "execute_result"
    }
   ],
   "source": [
    "banks.groupby(['Institution Type'])['Total Assets'].describe()"
   ]
  },
  {
   "cell_type": "markdown",
   "metadata": {},
   "source": [
    "Above we see that most of the data cluster around \n",
    "Below we sort the values in our new dataframe by Institution Name and Total Assets (2015). \n",
    "Then we plot those values and compare the bar plots of each \n",
    "\n",
    "I wanted to create these graphs showing the top five largest banks in each period(range) of time compared to a sample of the larger population. "
   ]
  },
  {
   "cell_type": "code",
   "execution_count": 36,
   "metadata": {},
   "outputs": [
    {
     "data": {
      "text/plain": [
       "(<matplotlib.axes._subplots.AxesSubplot at 0x113fb8310>,)"
      ]
     },
     "execution_count": 36,
     "metadata": {},
     "output_type": "execute_result"
    },
    {
     "data": {
      "image/png": "[encoded data removed]",
      "text/plain": [
       "<matplotlib.figure.Figure at 0x10d8cb490>"
      ]
     },
     "metadata": {},
     "output_type": "display_data"
    }
   ],
   "source": [
    "#Highlight the work that's been needed to create these graphs\n",
    "banks_inflation['Total Assets (2015)']=banks_inflation['Total Assets']*banks_inflation['inflation_multiplier']\n",
    "year_range_1 = range(1934, 1943)\n",
    "year_range_2 = range(1980, 1990)\n",
    "year_range_3 = range(2000, 2015)\n",
    "banks_1 = banks_inflation[banks_inflation['Failure Year'].isin(year_range_1)].sort_values('Total Assets (2015)', ascending=False).head(5)\n",
    "banks_2 = banks_inflation[banks_inflation['Failure Year'].isin(year_range_2)].sort_values('Total Assets (2015)', ascending=False).head(5)\n",
    "banks_3 = banks_inflation[banks_inflation['Failure Year'].isin(year_range_3)].sort_values('Total Assets (2015)', ascending=False).head(5)\n",
    "\n",
    "fig, axes = plt.subplots(nrows=1, ncols=3)\n",
    "banks_1.plot.bar(x='Institution Name', y='Total Assets (2015)', ax=axes[0]), \n",
    "banks_2.plot.bar(x='Institution Name', y='Total Assets (2015)', ax=axes[1]), \n",
    "banks_3.plot.bar(x='Institution Name', y='Total Assets (2015)', ax=axes[2]), "
   ]
  },
  {
   "cell_type": "markdown",
   "metadata": {},
   "source": [
    "The biggest asset bank is quite removed from the other banks. In the first period the largest bank is removed from the others by a factor of 2. In the second not by much, maybe by 500,000. In the third by a factor of 7.\n",
    "\n",
    "Next > You could probably try to compute some summary stat about how big the largest bank was relative to second or how many banks underneath the first it takes for the total assets to be comparable.\n",
    "\n",
    "You will need to build in a bit of narrative around it and you will want to have some **summary statistics** explaining what is going on with this question and why it is interesting. "
   ]
  },
  {
   "cell_type": "code",
   "execution_count": 37,
   "metadata": {},
   "outputs": [
    {
     "data": {
      "text/plain": [
       "Text(0.5,0,u'')"
      ]
     },
     "execution_count": 37,
     "metadata": {},
     "output_type": "execute_result"
    },
    {
     "data": {
      "image/png": "[encoded data removed]",
      "text/plain": [
       "<matplotlib.figure.Figure at 0x1141d8f90>"
      ]
     },
     "metadata": {},
     "output_type": "display_data"
    }
   ],
   "source": [
    "banks_inflation['Total Assets (2015)']=banks_inflation['Total Assets']*banks_inflation['inflation_multiplier']\n",
    "year_range_1 = range(1934, 1943)\n",
    "year_range_2 = range(1980, 1990)\n",
    "year_range_3 = range(2000, 2015)\n",
    "banks_1 = banks_inflation[banks_inflation['Failure Year'].isin(year_range_1)].sort_values('Total Assets (2015)', ascending=False).head(5)\n",
    "#banks_1 = banks_inflation[banks_inflation['Failure Year'].isin(year_range_1)].sort_values('Total Assets (2015)', ascending=False).iloc[1:5] \n",
    "banks_1['total_assets_normalized']=banks_1['Total Assets (2015)']/banks_1['Total Assets (2015)'].iloc[0]\n",
    "banks_1 = banks_1.iloc[1:5]\n",
    "\n",
    "banks_2 = banks_inflation[banks_inflation['Failure Year'].isin(year_range_2)].sort_values('Total Assets (2015)', ascending=False).head(5)\n",
    "#banks_2 = banks_inflation[banks_inflation['Failure Year'].isin(year_range_2)].sort_values('Total Assets (2015)', ascending=False).iloc[1:5]\n",
    "banks_2['total_assets_normalized']=banks_2['Total Assets (2015)']/banks_2['Total Assets (2015)'].iloc[0]\n",
    "banks_2 = banks_2.iloc[1:5]\n",
    "\n",
    "\n",
    "banks_3 = banks_inflation[banks_inflation['Failure Year'].isin(year_range_3)].sort_values('Total Assets (2015)', ascending=False).head(5) \n",
    "#banks_3 = banks_inflation[banks_inflation['Failure Year'].isin(year_range_3)].sort_values('Total Assets (2015)', ascending=False).iloc[1:5]\n",
    "banks_3['total_assets_normalized']=banks_3['Total Assets (2015)']/banks_3['Total Assets (2015)'].iloc[0]\n",
    "banks_3 = banks_3.iloc[1:5]\n",
    "\n",
    "fig, axes = plt.subplots(nrows=1, ncols=3)\n",
    "banks_1.plot.bar(x='Institution Name', y='total_assets_normalized', ax=axes[0],legend=False, ylim=(0,.8),title='1934-1943')\n",
    "\n",
    "banks_2.plot.bar(x='Institution Name', y='total_assets_normalized', ax=axes[1],legend=False, ylim=(0,.8),title='1980-1990')\n",
    "\n",
    "\n",
    "banks_3.plot.bar(x='Institution Name', y='total_assets_normalized', ax=axes[2],legend=False, ylim=(0,.8),title='2000-2015')\n",
    "\n",
    "axes[0].set_xlabel(\"\")\n",
    "axes[0].set_ylabel(\"Percent Assets Relative to Largest Bank\")\n",
    "axes[1].set_xlabel(\"\")\n",
    "axes[2].set_xlabel(\"\")"
   ]
  },
  {
   "cell_type": "markdown",
   "metadata": {},
   "source": [
    "There seems to be an inverse relationship between the type of institution and the average losses. The least number of savings banks cost the government the most money to resolve. "
   ]
  },
  {
   "cell_type": "code",
   "execution_count": 38,
   "metadata": {},
   "outputs": [
    {
     "data": {
      "text/html": [
       "<div>\n",
       "<style scoped>\n",
       "    .dataframe tbody tr th:only-of-type {\n",
       "        vertical-align: middle;\n",
       "    }\n",
       "\n",
       "    .dataframe tbody tr th {\n",
       "        vertical-align: top;\n",
       "    }\n",
       "\n",
       "    .dataframe thead th {\n",
       "        text-align: right;\n",
       "    }\n",
       "</style>\n",
       "<table border=\"1\" class=\"dataframe\">\n",
       "  <thead>\n",
       "    <tr style=\"text-align: right;\">\n",
       "      <th></th>\n",
       "      <th>mean</th>\n",
       "      <th>std</th>\n",
       "      <th>count</th>\n",
       "    </tr>\n",
       "    <tr>\n",
       "      <th>Institution Type</th>\n",
       "      <th></th>\n",
       "      <th></th>\n",
       "      <th></th>\n",
       "    </tr>\n",
       "  </thead>\n",
       "  <tbody>\n",
       "    <tr>\n",
       "      <th>COMMERCIAL BANK</th>\n",
       "      <td>2.673818e+05</td>\n",
       "      <td>1.356841e+06</td>\n",
       "      <td>2315</td>\n",
       "    </tr>\n",
       "    <tr>\n",
       "      <th>SAVINGS ASSOCIATION</th>\n",
       "      <td>8.367140e+05</td>\n",
       "      <td>2.014593e+06</td>\n",
       "      <td>691</td>\n",
       "    </tr>\n",
       "    <tr>\n",
       "      <th>SAVINGS BANK</th>\n",
       "      <td>2.482396e+06</td>\n",
       "      <td>1.890531e+07</td>\n",
       "      <td>327</td>\n",
       "    </tr>\n",
       "  </tbody>\n",
       "</table>\n",
       "</div>"
      ],
      "text/plain": [
       "                             mean           std  count\n",
       "Institution Type                                      \n",
       "COMMERCIAL BANK      2.673818e+05  1.356841e+06   2315\n",
       "SAVINGS ASSOCIATION  8.367140e+05  2.014593e+06    691\n",
       "SAVINGS BANK         2.482396e+06  1.890531e+07    327"
      ]
     },
     "execution_count": 38,
     "metadata": {},
     "output_type": "execute_result"
    }
   ],
   "source": [
    "banks_inflation.groupby(['Institution Type'])['Total Assets (2015)'].agg(['mean','std','count'])"
   ]
  },
  {
   "cell_type": "markdown",
   "metadata": {},
   "source": [
    "## Analytic Question 3\n",
    "### **How have bank failures varied by states over time**"
   ]
  },
  {
   "cell_type": "markdown",
   "metadata": {},
   "source": [
    "In this question we are building on the second question a bit to understand the cost of a state over time to resolve rather than one particular istitution. And maybe it would be cool ot see how those weakest states fared over each of the most trying times of our financial system; much like we did when comparing the banks across periods.\n",
    "\n",
    "This question is interesting because it can give us a geographic location that we can tangibly understand. It is the final piece of the puzzle to understanding bank failures in the United States. \n",
    "\n",
    "## Break up failures into the three major time periods.  Compute counts and losses for each state per period and plot results \n",
    "\n",
    "# Get a bar plot of how many failures came from each state and have a subplot for each period.\n",
    "\n",
    "# Repeat this for the Total Assets (2015)\n",
    "\n",
    "# Tell story with this (6 graphs total)"
   ]
  },
  {
   "cell_type": "code",
   "execution_count": 45,
   "metadata": {},
   "outputs": [
    {
     "data": {
      "text/plain": [
       "3484"
      ]
     },
     "execution_count": 45,
     "metadata": {},
     "output_type": "execute_result"
    }
   ],
   "source": [
    "len(banks)"
   ]
  },
  {
   "cell_type": "markdown",
   "metadata": {},
   "source": [
    "Of the 3,484 financial institutions in this dataset, which states had the highest failures? We'll delve into this question with the `State` variable in mind. Below we are plotting the histogram of the Bank Failures by State and printing the States with the top 5 banks failures. I decided to go with a histogram; ordered alphabetically and numerically. It shows the states on the  axis clearly, and the number of failures clearly as well in incraments of 100."
   ]
  },
  {
   "cell_type": "code",
   "execution_count": 46,
   "metadata": {},
   "outputs": [
    {
     "data": {
      "text/plain": [
       "Text(0,0.5,u'Bank Failures')"
      ]
     },
     "execution_count": 46,
     "metadata": {},
     "output_type": "execute_result"
    },
    {
     "data": {
      "image/png": "[encoded data removed]",
      "text/plain": [
       "<matplotlib.figure.Figure at 0x114fe4250>"
      ]
     },
     "metadata": {},
     "output_type": "display_data"
    }
   ],
   "source": [
    "#Get banks_1, banks_2, banks_3 . . . repeat this plot for each time period\n",
    "\n",
    "plt.hist(banks['State'],bins=50)\n",
    "plt.xticks(fontsize=7,rotation=90)\n",
    "plt.xlabel('State')\n",
    "plt.ylabel('Bank Failures')\n",
    "\n",
    "#banks_by_state = banks.groupby('State', as_index=False)['Institution Name'].agg('count').sort_values(by='Institution Name',ascending=False)\n",
    "#banks_by_state.plot.bar(x='State',y='Institution Name')\n",
    "#banks_by_state.sort_values(by='Institution Name', ascending=False).iloc[0:5]"
   ]
  },
  {
   "cell_type": "markdown",
   "metadata": {},
   "source": [
    "We find from the tables above that, Texas is by far the state with the largest amount of bank failures of any type and across all periods of time in the USA in aggregate. \n",
    "\n",
    "Next we look for the value across all time periods. \n",
    "\n",
    "Finally we discover what the losses were for all states. Then we take the average losses of each state and show this data from highest average losses to lowest average losses. \n",
    "\n",
    "Next we find what the bank failures were in the top failing states for each period. "
   ]
  },
  {
   "cell_type": "code",
   "execution_count": null,
   "metadata": {
    "collapsed": true
   },
   "outputs": [],
   "source": []
  },
  {
   "cell_type": "code",
   "execution_count": 47,
   "metadata": {},
   "outputs": [
    {
     "data": {
      "text/html": [
       "<div>\n",
       "<style scoped>\n",
       "    .dataframe tbody tr th:only-of-type {\n",
       "        vertical-align: middle;\n",
       "    }\n",
       "\n",
       "    .dataframe tbody tr th {\n",
       "        vertical-align: top;\n",
       "    }\n",
       "\n",
       "    .dataframe thead th {\n",
       "        text-align: right;\n",
       "    }\n",
       "</style>\n",
       "<table border=\"1\" class=\"dataframe\">\n",
       "  <thead>\n",
       "    <tr style=\"text-align: right;\">\n",
       "      <th></th>\n",
       "      <th>State</th>\n",
       "      <th>Estimated Loss (2015)</th>\n",
       "    </tr>\n",
       "  </thead>\n",
       "  <tbody>\n",
       "    <tr>\n",
       "      <th>44</th>\n",
       "      <td>TX</td>\n",
       "      <td>38684926.0</td>\n",
       "    </tr>\n",
       "    <tr>\n",
       "      <th>4</th>\n",
       "      <td>CA</td>\n",
       "      <td>26625092.0</td>\n",
       "    </tr>\n",
       "    <tr>\n",
       "      <th>9</th>\n",
       "      <td>FL</td>\n",
       "      <td>16861759.0</td>\n",
       "    </tr>\n",
       "    <tr>\n",
       "      <th>10</th>\n",
       "      <td>GA</td>\n",
       "      <td>11806236.0</td>\n",
       "    </tr>\n",
       "    <tr>\n",
       "      <th>35</th>\n",
       "      <td>NY</td>\n",
       "      <td>5985362.0</td>\n",
       "    </tr>\n",
       "    <tr>\n",
       "      <th>14</th>\n",
       "      <td>IL</td>\n",
       "      <td>5937997.0</td>\n",
       "    </tr>\n",
       "    <tr>\n",
       "      <th>3</th>\n",
       "      <td>AZ</td>\n",
       "      <td>5734352.0</td>\n",
       "    </tr>\n",
       "    <tr>\n",
       "      <th>18</th>\n",
       "      <td>LA</td>\n",
       "      <td>5606330.0</td>\n",
       "    </tr>\n",
       "    <tr>\n",
       "      <th>1</th>\n",
       "      <td>AL</td>\n",
       "      <td>4606439.0</td>\n",
       "    </tr>\n",
       "    <tr>\n",
       "      <th>19</th>\n",
       "      <td>MA</td>\n",
       "      <td>4342477.0</td>\n",
       "    </tr>\n",
       "    <tr>\n",
       "      <th>5</th>\n",
       "      <td>CO</td>\n",
       "      <td>4229034.0</td>\n",
       "    </tr>\n",
       "    <tr>\n",
       "      <th>32</th>\n",
       "      <td>NJ</td>\n",
       "      <td>3478202.0</td>\n",
       "    </tr>\n",
       "    <tr>\n",
       "      <th>2</th>\n",
       "      <td>AR</td>\n",
       "      <td>3269028.0</td>\n",
       "    </tr>\n",
       "    <tr>\n",
       "      <th>36</th>\n",
       "      <td>OH</td>\n",
       "      <td>2813704.0</td>\n",
       "    </tr>\n",
       "    <tr>\n",
       "      <th>16</th>\n",
       "      <td>KS</td>\n",
       "      <td>2800125.0</td>\n",
       "    </tr>\n",
       "    <tr>\n",
       "      <th>39</th>\n",
       "      <td>PA</td>\n",
       "      <td>2688149.0</td>\n",
       "    </tr>\n",
       "    <tr>\n",
       "      <th>6</th>\n",
       "      <td>CT</td>\n",
       "      <td>2631253.0</td>\n",
       "    </tr>\n",
       "    <tr>\n",
       "      <th>34</th>\n",
       "      <td>NV</td>\n",
       "      <td>2445430.0</td>\n",
       "    </tr>\n",
       "    <tr>\n",
       "      <th>33</th>\n",
       "      <td>NM</td>\n",
       "      <td>2402890.0</td>\n",
       "    </tr>\n",
       "    <tr>\n",
       "      <th>46</th>\n",
       "      <td>VA</td>\n",
       "      <td>2297828.0</td>\n",
       "    </tr>\n",
       "    <tr>\n",
       "      <th>25</th>\n",
       "      <td>MO</td>\n",
       "      <td>2115634.0</td>\n",
       "    </tr>\n",
       "    <tr>\n",
       "      <th>37</th>\n",
       "      <td>OK</td>\n",
       "      <td>2018355.0</td>\n",
       "    </tr>\n",
       "    <tr>\n",
       "      <th>48</th>\n",
       "      <td>WA</td>\n",
       "      <td>1930226.0</td>\n",
       "    </tr>\n",
       "    <tr>\n",
       "      <th>21</th>\n",
       "      <td>MD</td>\n",
       "      <td>1892972.0</td>\n",
       "    </tr>\n",
       "    <tr>\n",
       "      <th>24</th>\n",
       "      <td>MN</td>\n",
       "      <td>1565077.0</td>\n",
       "    </tr>\n",
       "    <tr>\n",
       "      <th>45</th>\n",
       "      <td>UT</td>\n",
       "      <td>1438451.0</td>\n",
       "    </tr>\n",
       "    <tr>\n",
       "      <th>23</th>\n",
       "      <td>MI</td>\n",
       "      <td>1303934.0</td>\n",
       "    </tr>\n",
       "    <tr>\n",
       "      <th>31</th>\n",
       "      <td>NH</td>\n",
       "      <td>1022776.0</td>\n",
       "    </tr>\n",
       "    <tr>\n",
       "      <th>15</th>\n",
       "      <td>IN</td>\n",
       "      <td>968975.0</td>\n",
       "    </tr>\n",
       "    <tr>\n",
       "      <th>43</th>\n",
       "      <td>TN</td>\n",
       "      <td>903619.0</td>\n",
       "    </tr>\n",
       "    <tr>\n",
       "      <th>28</th>\n",
       "      <td>NC</td>\n",
       "      <td>871027.0</td>\n",
       "    </tr>\n",
       "    <tr>\n",
       "      <th>41</th>\n",
       "      <td>SC</td>\n",
       "      <td>735295.0</td>\n",
       "    </tr>\n",
       "    <tr>\n",
       "      <th>26</th>\n",
       "      <td>MS</td>\n",
       "      <td>656907.0</td>\n",
       "    </tr>\n",
       "    <tr>\n",
       "      <th>38</th>\n",
       "      <td>OR</td>\n",
       "      <td>602325.0</td>\n",
       "    </tr>\n",
       "    <tr>\n",
       "      <th>50</th>\n",
       "      <td>WV</td>\n",
       "      <td>585951.0</td>\n",
       "    </tr>\n",
       "    <tr>\n",
       "      <th>30</th>\n",
       "      <td>NE</td>\n",
       "      <td>570164.0</td>\n",
       "    </tr>\n",
       "    <tr>\n",
       "      <th>49</th>\n",
       "      <td>WI</td>\n",
       "      <td>546773.0</td>\n",
       "    </tr>\n",
       "    <tr>\n",
       "      <th>0</th>\n",
       "      <td>AK</td>\n",
       "      <td>471559.0</td>\n",
       "    </tr>\n",
       "    <tr>\n",
       "      <th>12</th>\n",
       "      <td>IA</td>\n",
       "      <td>372983.0</td>\n",
       "    </tr>\n",
       "    <tr>\n",
       "      <th>7</th>\n",
       "      <td>DC</td>\n",
       "      <td>308748.0</td>\n",
       "    </tr>\n",
       "    <tr>\n",
       "      <th>22</th>\n",
       "      <td>ME</td>\n",
       "      <td>210198.0</td>\n",
       "    </tr>\n",
       "    <tr>\n",
       "      <th>17</th>\n",
       "      <td>KY</td>\n",
       "      <td>175566.0</td>\n",
       "    </tr>\n",
       "    <tr>\n",
       "      <th>42</th>\n",
       "      <td>SD</td>\n",
       "      <td>144081.0</td>\n",
       "    </tr>\n",
       "    <tr>\n",
       "      <th>13</th>\n",
       "      <td>ID</td>\n",
       "      <td>135575.0</td>\n",
       "    </tr>\n",
       "    <tr>\n",
       "      <th>51</th>\n",
       "      <td>WY</td>\n",
       "      <td>133138.0</td>\n",
       "    </tr>\n",
       "    <tr>\n",
       "      <th>29</th>\n",
       "      <td>ND</td>\n",
       "      <td>129984.0</td>\n",
       "    </tr>\n",
       "    <tr>\n",
       "      <th>40</th>\n",
       "      <td>RI</td>\n",
       "      <td>112480.0</td>\n",
       "    </tr>\n",
       "    <tr>\n",
       "      <th>47</th>\n",
       "      <td>VT</td>\n",
       "      <td>36597.0</td>\n",
       "    </tr>\n",
       "    <tr>\n",
       "      <th>27</th>\n",
       "      <td>MT</td>\n",
       "      <td>35702.0</td>\n",
       "    </tr>\n",
       "    <tr>\n",
       "      <th>20</th>\n",
       "      <td>MAUI</td>\n",
       "      <td>2593.0</td>\n",
       "    </tr>\n",
       "    <tr>\n",
       "      <th>11</th>\n",
       "      <td>HI</td>\n",
       "      <td>2148.0</td>\n",
       "    </tr>\n",
       "    <tr>\n",
       "      <th>8</th>\n",
       "      <td>DE</td>\n",
       "      <td>249.0</td>\n",
       "    </tr>\n",
       "  </tbody>\n",
       "</table>\n",
       "</div>"
      ],
      "text/plain": [
       "   State  Estimated Loss (2015)\n",
       "44    TX             38684926.0\n",
       "4     CA             26625092.0\n",
       "9     FL             16861759.0\n",
       "10    GA             11806236.0\n",
       "35    NY              5985362.0\n",
       "14    IL              5937997.0\n",
       "3     AZ              5734352.0\n",
       "18    LA              5606330.0\n",
       "1     AL              4606439.0\n",
       "19    MA              4342477.0\n",
       "5     CO              4229034.0\n",
       "32    NJ              3478202.0\n",
       "2     AR              3269028.0\n",
       "36    OH              2813704.0\n",
       "16    KS              2800125.0\n",
       "39    PA              2688149.0\n",
       "6     CT              2631253.0\n",
       "34    NV              2445430.0\n",
       "33    NM              2402890.0\n",
       "46    VA              2297828.0\n",
       "25    MO              2115634.0\n",
       "37    OK              2018355.0\n",
       "48    WA              1930226.0\n",
       "21    MD              1892972.0\n",
       "24    MN              1565077.0\n",
       "45    UT              1438451.0\n",
       "23    MI              1303934.0\n",
       "31    NH              1022776.0\n",
       "15    IN               968975.0\n",
       "43    TN               903619.0\n",
       "28    NC               871027.0\n",
       "41    SC               735295.0\n",
       "26    MS               656907.0\n",
       "38    OR               602325.0\n",
       "50    WV               585951.0\n",
       "30    NE               570164.0\n",
       "49    WI               546773.0\n",
       "0     AK               471559.0\n",
       "12    IA               372983.0\n",
       "7     DC               308748.0\n",
       "22    ME               210198.0\n",
       "17    KY               175566.0\n",
       "42    SD               144081.0\n",
       "13    ID               135575.0\n",
       "51    WY               133138.0\n",
       "29    ND               129984.0\n",
       "40    RI               112480.0\n",
       "47    VT                36597.0\n",
       "27    MT                35702.0\n",
       "20  MAUI                 2593.0\n",
       "11    HI                 2148.0\n",
       "8     DE                  249.0"
      ]
     },
     "execution_count": 47,
     "metadata": {},
     "output_type": "execute_result"
    }
   ],
   "source": [
    "banks.groupby('State', as_index=False)['Estimated Loss (2015)'].agg('sum').sort_values(by='Estimated Loss (2015)',ascending=False)"
   ]
  },
  {
   "cell_type": "markdown",
   "metadata": {},
   "source": [
    "The state that cost the government the most to resolve was once again Texas at 38,684,926,000.0\n",
    "Below we show the top five banks with estimated losses and their output in the form of a summary table of the top institutions and its corresponding histogram."
   ]
  },
  {
   "cell_type": "code",
   "execution_count": 48,
   "metadata": {},
   "outputs": [
    {
     "data": {
      "text/html": [
       "<div>\n",
       "<style scoped>\n",
       "    .dataframe tbody tr th:only-of-type {\n",
       "        vertical-align: middle;\n",
       "    }\n",
       "\n",
       "    .dataframe tbody tr th {\n",
       "        vertical-align: top;\n",
       "    }\n",
       "\n",
       "    .dataframe thead th {\n",
       "        text-align: right;\n",
       "    }\n",
       "</style>\n",
       "<table border=\"1\" class=\"dataframe\">\n",
       "  <thead>\n",
       "    <tr style=\"text-align: right;\">\n",
       "      <th></th>\n",
       "      <th>State</th>\n",
       "      <th>Estimated Loss (2015)</th>\n",
       "    </tr>\n",
       "  </thead>\n",
       "  <tbody>\n",
       "    <tr>\n",
       "      <th>44</th>\n",
       "      <td>TX</td>\n",
       "      <td>647</td>\n",
       "    </tr>\n",
       "    <tr>\n",
       "      <th>4</th>\n",
       "      <td>CA</td>\n",
       "      <td>191</td>\n",
       "    </tr>\n",
       "    <tr>\n",
       "      <th>9</th>\n",
       "      <td>FL</td>\n",
       "      <td>158</td>\n",
       "    </tr>\n",
       "    <tr>\n",
       "      <th>14</th>\n",
       "      <td>IL</td>\n",
       "      <td>125</td>\n",
       "    </tr>\n",
       "    <tr>\n",
       "      <th>18</th>\n",
       "      <td>LA</td>\n",
       "      <td>121</td>\n",
       "    </tr>\n",
       "  </tbody>\n",
       "</table>\n",
       "</div>"
      ],
      "text/plain": [
       "   State  Estimated Loss (2015)\n",
       "44    TX                    647\n",
       "4     CA                    191\n",
       "9     FL                    158\n",
       "14    IL                    125\n",
       "18    LA                    121"
      ]
     },
     "execution_count": 48,
     "metadata": {},
     "output_type": "execute_result"
    },
    {
     "data": {
      "image/png": "[encoded data removed]",
      "text/plain": [
       "<matplotlib.figure.Figure at 0x1149c2690>"
      ]
     },
     "metadata": {},
     "output_type": "display_data"
    }
   ],
   "source": [
    "plt.hist(banks['State'],bins=50)\n",
    "plt.xticks(fontsize=7,rotation=90)\n",
    "plt.xlabel('Failures by State')\n",
    "plt.ylabel('Estimated Loss (2015)')\n",
    "\n",
    "banks_by_state = banks.groupby('State', as_index=False)['Estimated Loss (2015)'].agg('count')\n",
    "banks_by_state.sort_values(by='Estimated Loss (2015)', ascending=False).iloc[0:5]"
   ]
  },
  {
   "cell_type": "code",
   "execution_count": null,
   "metadata": {
    "collapsed": true
   },
   "outputs": [],
   "source": []
  },
  {
   "cell_type": "code",
   "execution_count": 54,
   "metadata": {},
   "outputs": [
    {
     "data": {
      "text/plain": [
       "Text(0,0.5,u'Estimated Loss (2015)')"
      ]
     },
     "execution_count": 54,
     "metadata": {},
     "output_type": "execute_result"
    },
    {
     "data": {
      "image/png": "[encoded data removed]",
      "text/plain": [
       "<matplotlib.figure.Figure at 0x115f5f450>"
      ]
     },
     "metadata": {},
     "output_type": "display_data"
    }
   ],
   "source": [
    "banks_inflation['Total Assets (2015)']=banks_inflation['Total Assets']*banks_inflation['inflation_multiplier']\n",
    "year_range_1 = range(1934, 1943)\n",
    "year_range_2 = range(1980, 1990)\n",
    "year_range_3 = range(2000, 2015)\n",
    "\n",
    "banks_1 = banks_inflation[banks_inflation['Failure Year'].isin(year_range_1)]\n",
    "banks_2 = banks_inflation[banks_inflation['Failure Year'].isin(year_range_2)]\n",
    "banks_3 = banks_inflation[banks_inflation['Failure Year'].isin(year_range_3)]\n",
    "\n",
    "\n",
    "plt.subplot(3,1,1)\n",
    "plt.hist(banks_1['State'],bins=50)\n",
    "plt.xticks(fontsize=7,rotation=90)\n",
    "plt.xlabel('Failures by State')\n",
    "plt.ylabel('Estimated Loss (2015)')\n",
    "\n",
    "plt.subplot(3,1,2)\n",
    "plt.hist(banks_2['State'],bins=50)\n",
    "plt.xticks(fontsize=7,rotation=90)\n",
    "plt.xlabel('Failures by State')\n",
    "plt.ylabel('Estimated Loss (2015)')\n",
    "\n",
    "plt.subplot(3,1,3)\n",
    "plt.hist(banks_3['State'],bins=50)\n",
    "plt.xticks(fontsize=7,rotation=90)\n",
    "plt.xlabel('Failures by State')\n",
    "plt.ylabel('Estimated Loss (2015)')\n",
    "\n",
    "\n",
    "#banks_1.plot.bar(x='Institution Name', y='total_assets_normalized', ax=axes[0],legend=False, ylim=(0,.8),title='1934-1943')\n",
    "\n",
    "#banks_2.plot.bar(x='Institution Name', y='total_assets_normalized', ax=axes[1],legend=False, ylim=(0,.8),title='1980-1990')\n",
    "\n",
    "#banks_3.plot.bar(x='Institution Name', y='total_assets_normalized', ax=axes[2],legend=False, ylim=(0,.8),title='2000-2015')\n",
    "\n",
    "#axes[0].set_xlabel(\"\")\n",
    "#axes[0].set_ylabel(\"Percent Assets Relative to Largest Bank\")\n",
    "#axes[1].set_xlabel(\"\")\n",
    "#axes[2].set_xlabel(\"\")"
   ]
  },
  {
   "cell_type": "markdown",
   "metadata": {},
   "source": [
    "Texas lost 6 times as much as the next most failing state, California. And the rest of the banks were relatively the same. "
   ]
  },
  {
   "cell_type": "markdown",
   "metadata": {},
   "source": [
    "Since we have already seen the three big periods to failures, it might be cool to see how bad the worst failures of each period were in 2015 USD. The biggest number of failures were 80s, but it looks like 2000s cost the most?"
   ]
  },
  {
   "cell_type": "markdown",
   "metadata": {},
   "source": [
    "I am noticing a lot of edits other than the explanatory text for Question 2 (which is actually pretty good).  You need to do a lot of work on the explanation for the intro and Question 1 (you are still relying on inline comments with your code instead of markdown).  You also need to do some major work on question 3.  Right now it looks like two quick summary plots without any interesting conclusions or statistical work.\n",
    "\n",
    "I won't be able to meet with you until next Monday so you have plenty of time to work on this.  At a minimum I think you are going to need to put in about 25 hours on this to get it ready for submission.  Do ping me if you have any question.\n",
    "\n",
    "I would suggest you keep working on this and also get your third question finished.  This will involve you separating out failures by state for the three major time periods.\n"
   ]
  }
 ],
 "metadata": {
  "kernelspec": {
   "display_name": "Python 3",
   "language": "python",
   "name": "python3"
  },
  "language_info": {
   "codemirror_mode": {
    "name": "ipython",
    "version": 3
   },
   "file_extension": ".py",
   "mimetype": "text/x-python",
   "name": "python",
   "nbconvert_exporter": "python",
   "pygments_lexer": "ipython3",
   "version": "3.5.2"
  }
 },
 "nbformat": 4,
 "nbformat_minor": 2
}
