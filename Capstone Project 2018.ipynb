{
 "cells": [
  {
   "cell_type": "code",
   "execution_count": 14,
   "metadata": {},
   "outputs": [],
   "source": [
    "import pandas as pd\n",
    "import numpy as np\n",
    "import matplotlib.pyplot as plt\n",
    "import seaborn as sns\n",
    "%matplotlib inline"
   ]
  },
  {
   "cell_type": "code",
   "execution_count": null,
   "metadata": {},
   "outputs": [],
   "source": []
  },
  {
   "cell_type": "code",
   "execution_count": null,
   "metadata": {},
   "outputs": [],
   "source": []
  },
  {
   "cell_type": "code",
   "execution_count": 15,
   "metadata": {},
   "outputs": [
    {
     "name": "stdout",
     "output_type": "stream",
     "text": [
      "<class 'pandas.core.frame.DataFrame'>\n",
      "RangeIndex: 3484 entries, 0 to 3483\n",
      "Data columns (total 12 columns):\n",
      "Financial Institution Number    2883 non-null float64\n",
      "Institution Name                3484 non-null object\n",
      "Institution Type                3484 non-null object\n",
      "Charter Type                    3484 non-null object\n",
      "Headquarters                    3484 non-null object\n",
      "Failure Date                    3484 non-null object\n",
      "Insurance Fund                  3484 non-null object\n",
      "Certificate Number              2999 non-null float64\n",
      "Transaction Type                3484 non-null object\n",
      "Total Deposits                  3484 non-null int64\n",
      "Total Assets                    3333 non-null float64\n",
      "Estimated Loss (2015)           2509 non-null float64\n",
      "dtypes: float64(4), int64(1), object(7)\n",
      "memory usage: 326.7+ KB\n"
     ]
    }
   ],
   "source": [
    "banks = pd.read_csv('Desktop/banks.csv')\n",
    "banks.info()"
   ]
  },
  {
   "cell_type": "code",
   "execution_count": 16,
   "metadata": {},
   "outputs": [
    {
     "name": "stdout",
     "output_type": "stream",
     "text": [
      "      Financial Institution Number  \\\n",
      "0                              NaN   \n",
      "1                              NaN   \n",
      "2                              NaN   \n",
      "3                              NaN   \n",
      "4                              NaN   \n",
      "5                              NaN   \n",
      "6                              NaN   \n",
      "7                              NaN   \n",
      "8                              NaN   \n",
      "9                              NaN   \n",
      "10                             NaN   \n",
      "11                             NaN   \n",
      "12                             NaN   \n",
      "13                             NaN   \n",
      "14                             NaN   \n",
      "15                             NaN   \n",
      "16                             NaN   \n",
      "17                             NaN   \n",
      "18                             NaN   \n",
      "19                             NaN   \n",
      "20                             NaN   \n",
      "21                             NaN   \n",
      "22                             NaN   \n",
      "23                             NaN   \n",
      "24                             NaN   \n",
      "25                             NaN   \n",
      "26                             NaN   \n",
      "27                             NaN   \n",
      "28                             NaN   \n",
      "29                             NaN   \n",
      "...                            ...   \n",
      "3454                       10494.0   \n",
      "3455                       10495.0   \n",
      "3456                       10496.0   \n",
      "3457                       10497.0   \n",
      "3458                       10498.0   \n",
      "3459                       10499.0   \n",
      "3460                       10500.0   \n",
      "3461                       10501.0   \n",
      "3462                       10502.0   \n",
      "3463                       10503.0   \n",
      "3464                       10504.0   \n",
      "3465                       10505.0   \n",
      "3466                       10506.0   \n",
      "3467                       10507.0   \n",
      "3468                       10508.0   \n",
      "3469                       10509.0   \n",
      "3470                       10510.0   \n",
      "3471                       10511.0   \n",
      "3472                       10512.0   \n",
      "3473                       10514.0   \n",
      "3474                       10515.0   \n",
      "3475                       10516.0   \n",
      "3476                       10517.0   \n",
      "3477                       10518.0   \n",
      "3478                       10519.0   \n",
      "3479                       10520.0   \n",
      "3480                       10521.0   \n",
      "3481                       10522.0   \n",
      "3482                       10523.0   \n",
      "3483                       10524.0   \n",
      "\n",
      "                                Institution Name     Institution Type  \\\n",
      "0                      BANK OF AMERICA TRUST CO.      COMMERCIAL BANK   \n",
      "1                          FON DU LAC STATE BANK      COMMERCIAL BANK   \n",
      "2                    FIRST NATIONAL BANK OF LIMA      COMMERCIAL BANK   \n",
      "3                          FLORENCE DEPOSIT BANK      COMMERCIAL BANK   \n",
      "4                              BANK OF LEWISPORT      COMMERCIAL BANK   \n",
      "5                 FARMERS STATE BANK OF BONGARDS      COMMERCIAL BANK   \n",
      "6                         FARMERS & TRADERS BANK      COMMERCIAL BANK   \n",
      "7                            PICKENS COUNTY BANK      COMMERCIAL BANK   \n",
      "8                                 THE STATE BANK      COMMERCIAL BANK   \n",
      "9     CLIFFSIDE PARK TITLE GUARANTEE & TRUST CO.      COMMERCIAL BANK   \n",
      "10                  THE NATIONAL BANK OF HERNDON      COMMERCIAL BANK   \n",
      "11                           PALMETTO STATE BANK      COMMERCIAL BANK   \n",
      "12                          THE FIRST STATE BANK      COMMERCIAL BANK   \n",
      "13                           GUARANTY STATE BANK      COMMERCIAL BANK   \n",
      "14                     THE STATE BANK OF MILFORD      COMMERCIAL BANK   \n",
      "15                              THE FARMERS BANK      COMMERCIAL BANK   \n",
      "16                      FIRST STATE BANK OF AGRA      COMMERCIAL BANK   \n",
      "17                       BLUE SPRINGS STATE BANK      COMMERCIAL BANK   \n",
      "18                             ANCHOR STATE BANK      COMMERCIAL BANK   \n",
      "19                         STATE BANK OF SUAMICO      COMMERCIAL BANK   \n",
      "20             THE FIRST NATIONAL BANK OF PENDER      COMMERCIAL BANK   \n",
      "21                            BANK OF GRANTVILLE      COMMERCIAL BANK   \n",
      "22                      MERCHANTS & FARMERS BANK      COMMERCIAL BANK   \n",
      "23         THE FARMERS NATIONAL BANK OF SARDINIA      COMMERCIAL BANK   \n",
      "24      THE COMMERCIAL NATIONAL BANK OF BRADFORD      COMMERCIAL BANK   \n",
      "25                               BUNA STATE BANK      COMMERCIAL BANK   \n",
      "26                    E. P. WILBUR TRUST COMPANY      COMMERCIAL BANK   \n",
      "27                          PRESIDIO VALLEY BANK      COMMERCIAL BANK   \n",
      "28                             LENNON STATE BANK      COMMERCIAL BANK   \n",
      "29                                BANK OF LINDEN      COMMERCIAL BANK   \n",
      "...                                          ...                  ...   \n",
      "3454                                SYRINGA BANK      COMMERCIAL BANK   \n",
      "3455       MILLENNIUM BANK, NATIONAL ASSOCIATION      COMMERCIAL BANK   \n",
      "3456                          VANTAGE POINT BANK      COMMERCIAL BANK   \n",
      "3457                       ALLENDALE COUNTY BANK      COMMERCIAL BANK   \n",
      "3458                           AZTECAMERICA BANK      COMMERCIAL BANK   \n",
      "3459                       COLUMBIA SAVINGS BANK         SAVINGS BANK   \n",
      "3460                 SLAVIE FEDERAL SAVINGS BANK  SAVINGS ASSOCIATION   \n",
      "3461                                 VALLEY BANK      COMMERCIAL BANK   \n",
      "3462                                 VALLEY BANK      COMMERCIAL BANK   \n",
      "3463                      THE FREEDOM STATE BANK      COMMERCIAL BANK   \n",
      "3464                    EASTSIDE COMMERCIAL BANK      COMMERCIAL BANK   \n",
      "3465                       GREENCHOICE BANK, FSB  SAVINGS ASSOCIATION   \n",
      "3466                         NBRS FINANCIAL BANK      COMMERCIAL BANK   \n",
      "3467       THE NATIONAL REPUBLIC BANK OF CHICAGO      COMMERCIAL BANK   \n",
      "3468                          FRONTIER BANK, FSB  SAVINGS ASSOCIATION   \n",
      "3469                          NORTHERN STAR BANK      COMMERCIAL BANK   \n",
      "3470            FIRST NATIONAL BANK OF CRESTVIEW      COMMERCIAL BANK   \n",
      "3471                     HIGHLAND COMMUNITY BANK      COMMERCIAL BANK   \n",
      "3472           CAPITOL CITY BANK & TRUST COMPANY      COMMERCIAL BANK   \n",
      "3473                              EDGEBROOK BANK      COMMERCIAL BANK   \n",
      "3474                                PREMIER BANK      COMMERCIAL BANK   \n",
      "3475                         THE BANK OF GEORGIA      COMMERCIAL BANK   \n",
      "3476                      HOMETOWN NATIONAL BANK      COMMERCIAL BANK   \n",
      "3477                  NORTH MILWAUKEE STATE BANK      COMMERCIAL BANK   \n",
      "3478                          TRUST COMPANY BANK      COMMERCIAL BANK   \n",
      "3479                      FIRST CORNERSTONE BANK      COMMERCIAL BANK   \n",
      "3480                THE WOODBURY BANKING COMPANY      COMMERCIAL BANK   \n",
      "3481                                 ALLIED BANK      COMMERCIAL BANK   \n",
      "3482                      HARVEST COMMUNITY BANK      COMMERCIAL BANK   \n",
      "3483               SEAWAY BANK AND TRUST COMPANY      COMMERCIAL BANK   \n",
      "\n",
      "       Charter Type         Headquarters Failure Date Insurance Fund  \\\n",
      "0             STATE       PITTSBURGH, PA   4/19/1934            FDIC   \n",
      "1             STATE      EAST PEORIA, IL   5/28/1934            FDIC   \n",
      "2           FEDERAL             LIMA, MT   7/18/1934            FDIC   \n",
      "3             STATE         FLORENCE, IN   7/18/1934            FDIC   \n",
      "4             STATE        LEWISPORT, KY    8/6/1934            FDIC   \n",
      "5             STATE         BONGARDS, MN   9/13/1934            FDIC   \n",
      "6             STATE      PORTERFIELD, WI  10/11/1934            FDIC   \n",
      "7             STATE           JASPER, GA  10/13/1934            FDIC   \n",
      "8             STATE        SAUK CITY, WI  11/16/1934            FDIC   \n",
      "9             STATE        GRANTWOOD, NJ    1/3/1935            FDIC   \n",
      "10          FEDERAL          HERNDON, VA    1/9/1935            FDIC   \n",
      "11            STATE        LAKE CITY, SC    3/9/1935            FDIC   \n",
      "12            STATE         CHEYENNE, OK   3/25/1935            FDIC   \n",
      "13            STATE          CLINTON, OK    4/4/1935            FDIC   \n",
      "14            STATE          MILFORD, KS   4/10/1935            FDIC   \n",
      "15            STATE          ROYSTON, GA    5/2/1935            FDIC   \n",
      "16            STATE             AGRA, KS    5/3/1935            FDIC   \n",
      "17            STATE     BLUE SPRINGS, MO    6/1/1935            FDIC   \n",
      "18            STATE   WEST MILWAUKEE, WI    6/4/1935            FDIC   \n",
      "19            STATE          SUAMICO, WI   6/24/1935            FDIC   \n",
      "20          FEDERAL           PENDER, NE   6/29/1935            FDIC   \n",
      "21            STATE       GRANTVILLE, GA   7/20/1935            FDIC   \n",
      "22            STATE         MARIETTA, GA   7/22/1935            FDIC   \n",
      "23          FEDERAL         SARDINIA, OH   7/24/1935            FDIC   \n",
      "24          FEDERAL         BRADFORD, PA   9/28/1935            FDIC   \n",
      "25            STATE             BUNA, TX  10/23/1935            FDIC   \n",
      "26            STATE        BETHLEHEM, PA  11/16/1935            FDIC   \n",
      "27            STATE         PRESIDIO, TX  11/18/1935            FDIC   \n",
      "28            STATE           LENNON, MI  11/26/1935            FDIC   \n",
      "29            STATE           LINDEN, WI  11/27/1935            FDIC   \n",
      "...             ...                  ...          ...            ...   \n",
      "3454          STATE            BOISE, ID   1/31/2014             DIF   \n",
      "3455        FEDERAL         STERLING, VA   2/28/2014             DIF   \n",
      "3456          STATE          HORSHAM, PA   2/28/2014             DIF   \n",
      "3457          STATE          FAIRFAX, SC   4/25/2014             DIF   \n",
      "3458          STATE           BERWYN, IL   5/16/2014             DIF   \n",
      "3459          STATE       CINCINNATI, OH   5/23/2014             DIF   \n",
      "3460  FEDERAL/STATE          BEL AIR, MD   5/30/2014             DIF   \n",
      "3461          STATE  FORT LANDERDALE, FL   6/20/2014             DIF   \n",
      "3462          STATE           MOLINE, IL   6/20/2014             DIF   \n",
      "3463          STATE          FREEDOM, OK   6/27/2014             DIF   \n",
      "3464          STATE          CONYERS, GA   7/18/2014             DIF   \n",
      "3465  FEDERAL/STATE          CHICAGO, IL   7/25/2014             DIF   \n",
      "3466          STATE       RISING SUN, MD  10/17/2014             DIF   \n",
      "3467        FEDERAL          CHICAGO, IL  10/24/2014             DIF   \n",
      "3468  FEDERAL/STATE      PALM DESERT, CA   11/7/2014             DIF   \n",
      "3469          STATE          MANKATO, MN  12/19/2014             DIF   \n",
      "3470        FEDERAL        CRESTVIEW, FL   1/16/2015             DIF   \n",
      "3471          STATE          CHICAGO, IL   1/23/2015             DIF   \n",
      "3472          STATE          ATLANTA, GA   2/13/2015             DIF   \n",
      "3473          STATE          CHICAGO, IL    5/8/2015             DIF   \n",
      "3474          STATE           DENVER, CO   7/10/2015             DIF   \n",
      "3475          STATE   PEACHTREE CITY, GA   10/2/2015             DIF   \n",
      "3476        FEDERAL         LONGVIEW, WA   10/2/2015             DIF   \n",
      "3477          STATE        MILWAUKEE, WI   3/11/2016             DIF   \n",
      "3478          STATE          MEMPHIS, TN   4/29/2016             DIF   \n",
      "3479          STATE  KING OF PRUSSIA, PA    5/6/2016             DIF   \n",
      "3480          STATE         WOODBURY, GA   8/19/2016             DIF   \n",
      "3481          STATE         MULBERRY, AR   9/23/2016             DIF   \n",
      "3482          STATE       PENNSVILLE, NJ   1/13/2017             DIF   \n",
      "3483          STATE          CHICAGO, IL   1/27/2017             DIF   \n",
      "\n",
      "      Certificate Number Transaction Type  Total Deposits  Total Assets  \\\n",
      "0                    NaN           PAYOUT            1064        1435.0   \n",
      "1                    NaN           PAYOUT             238         374.0   \n",
      "2                    NaN           PAYOUT              42          91.0   \n",
      "3                    NaN           PAYOUT              69         105.0   \n",
      "4                    NaN           PAYOUT              68          81.0   \n",
      "5                    NaN           PAYOUT              73          91.0   \n",
      "6                    NaN           PAYOUT              32          46.0   \n",
      "7                    NaN           PAYOUT             210         243.0   \n",
      "8                    NaN           PAYOUT             170         195.0   \n",
      "9                    NaN           PAYOUT             590        2305.0   \n",
      "10                   NaN           PAYOUT             384         387.0   \n",
      "11                   NaN           PAYOUT             136         149.0   \n",
      "12                   NaN           PAYOUT             303         427.0   \n",
      "13                   NaN           PAYOUT             176         264.0   \n",
      "14                   NaN           PAYOUT              87         118.0   \n",
      "15                   NaN           PAYOUT             108         166.0   \n",
      "16                   NaN           PAYOUT              96         129.0   \n",
      "17                   NaN           PAYOUT             234         235.0   \n",
      "18                   NaN           PAYOUT             718         891.0   \n",
      "19                   NaN           PAYOUT             128         161.0   \n",
      "20                   NaN           PAYOUT             195         301.0   \n",
      "21                   NaN           PAYOUT              48          91.0   \n",
      "22                   NaN           PAYOUT             132         227.0   \n",
      "23                   NaN           PAYOUT             261         308.0   \n",
      "24                   NaN           PAYOUT            4621        5162.0   \n",
      "25                   NaN           PAYOUT              29          47.0   \n",
      "26                   NaN      ACQUISITION            4357           NaN   \n",
      "27                   NaN           PAYOUT              49          73.0   \n",
      "28                   NaN           PAYOUT              74          79.0   \n",
      "29                   NaN           PAYOUT             188         224.0   \n",
      "...                  ...              ...             ...           ...   \n",
      "3454             34296.0      ACQUISITION          145813      153361.0   \n",
      "3455             35096.0      ACQUISITION          121704      130305.0   \n",
      "3456             58531.0      ACQUISITION           62472       63453.0   \n",
      "3457             15062.0      ACQUISITION           49356       49498.0   \n",
      "3458             57866.0      ACQUISITION           65031       66309.0   \n",
      "3459             32284.0      ACQUISITION           29538       36484.0   \n",
      "3460             32368.0      ACQUISITION          111142      140063.0   \n",
      "3461             21793.0      ACQUISITION           66541       81843.0   \n",
      "3462             10450.0      ACQUISITION          359953      456442.0   \n",
      "3463             12483.0      ACQUISITION           20855       22816.0   \n",
      "3464             58125.0      ACQUISITION          166875      173946.0   \n",
      "3465             28462.0      ACQUISITION           68722       70286.0   \n",
      "3466              4862.0      ACQUISITION          151559      155353.0   \n",
      "3467               916.0      ACQUISITION          809638      843118.0   \n",
      "3468             34738.0      ACQUISITION           76344       80736.0   \n",
      "3469             34983.0      ACQUISITION           18221       18794.0   \n",
      "3470             17557.0      ACQUISITION           73199       73804.0   \n",
      "3471             20290.0      ACQUISITION           53453       54727.0   \n",
      "3472             33938.0      ACQUISITION          262652      272311.0   \n",
      "3473             57772.0      ACQUISITION           90007       90034.0   \n",
      "3474             34112.0      ACQUISITION           25480       26760.0   \n",
      "3475             35259.0      ACQUISITION          264234      286102.0   \n",
      "3476             35156.0      ACQUISITION            3705        3785.0   \n",
      "3477             20364.0      ACQUISITION           61493       67115.0   \n",
      "3478              9956.0      ACQUISITION           20148       18998.0   \n",
      "3479             35312.0      ACQUISITION          101040      103307.0   \n",
      "3480             11297.0      ACQUISITION           21122       21426.0   \n",
      "3481                91.0      ACQUISITION           64713       66336.0   \n",
      "3482             34951.0      ACQUISITION          123817      126430.0   \n",
      "3483             19328.0      ACQUISITION          307118      361197.0   \n",
      "\n",
      "      Estimated Loss (2015)  \n",
      "0                       NaN  \n",
      "1                       NaN  \n",
      "2                       NaN  \n",
      "3                       NaN  \n",
      "4                       NaN  \n",
      "5                       NaN  \n",
      "6                       NaN  \n",
      "7                       NaN  \n",
      "8                       NaN  \n",
      "9                       NaN  \n",
      "10                      NaN  \n",
      "11                      NaN  \n",
      "12                      NaN  \n",
      "13                      NaN  \n",
      "14                      NaN  \n",
      "15                      NaN  \n",
      "16                      NaN  \n",
      "17                      NaN  \n",
      "18                      NaN  \n",
      "19                      NaN  \n",
      "20                      NaN  \n",
      "21                      NaN  \n",
      "22                      NaN  \n",
      "23                      NaN  \n",
      "24                      NaN  \n",
      "25                      NaN  \n",
      "26                      NaN  \n",
      "27                      NaN  \n",
      "28                      NaN  \n",
      "29                      NaN  \n",
      "...                     ...  \n",
      "3454                 4584.0  \n",
      "3455                11835.0  \n",
      "3456                 9286.0  \n",
      "3457                19911.0  \n",
      "3458                23245.0  \n",
      "3459                 8005.0  \n",
      "3460                11858.0  \n",
      "3461                 5419.0  \n",
      "3462                57094.0  \n",
      "3463                 6999.0  \n",
      "3464                39465.0  \n",
      "3465                19768.0  \n",
      "3466                19634.0  \n",
      "3467                55588.0  \n",
      "3468                 3869.0  \n",
      "3469                 5827.0  \n",
      "3470                 5971.0  \n",
      "3471                 5573.0  \n",
      "3472               101770.0  \n",
      "3473                16782.0  \n",
      "3474                 4394.0  \n",
      "3475                23155.0  \n",
      "3476                 1614.0  \n",
      "3477                    NaN  \n",
      "3478                    NaN  \n",
      "3479                    NaN  \n",
      "3480                    NaN  \n",
      "3481                    NaN  \n",
      "3482                    NaN  \n",
      "3483                    NaN  \n",
      "\n",
      "[3484 rows x 12 columns]\n"
     ]
    }
   ],
   "source": [
    "print(banks)"
   ]
  },
  {
   "cell_type": "code",
   "execution_count": 17,
   "metadata": {},
   "outputs": [
    {
     "data": {
      "text/html": [
       "<div>\n",
       "<style scoped>\n",
       "    .dataframe tbody tr th:only-of-type {\n",
       "        vertical-align: middle;\n",
       "    }\n",
       "\n",
       "    .dataframe tbody tr th {\n",
       "        vertical-align: top;\n",
       "    }\n",
       "\n",
       "    .dataframe thead th {\n",
       "        text-align: right;\n",
       "    }\n",
       "</style>\n",
       "<table border=\"1\" class=\"dataframe\">\n",
       "  <thead>\n",
       "    <tr style=\"text-align: right;\">\n",
       "      <th></th>\n",
       "      <th>Financial Institution Number</th>\n",
       "      <th>Institution Name</th>\n",
       "      <th>Institution Type</th>\n",
       "      <th>Charter Type</th>\n",
       "      <th>Headquarters</th>\n",
       "      <th>Failure Date</th>\n",
       "      <th>Insurance Fund</th>\n",
       "      <th>Certificate Number</th>\n",
       "      <th>Transaction Type</th>\n",
       "      <th>Total Deposits</th>\n",
       "      <th>Total Assets</th>\n",
       "      <th>Estimated Loss (2015)</th>\n",
       "    </tr>\n",
       "  </thead>\n",
       "  <tbody>\n",
       "    <tr>\n",
       "      <th>0</th>\n",
       "      <td>NaN</td>\n",
       "      <td>BANK OF AMERICA TRUST CO.</td>\n",
       "      <td>COMMERCIAL BANK</td>\n",
       "      <td>STATE</td>\n",
       "      <td>PITTSBURGH, PA</td>\n",
       "      <td>4/19/1934</td>\n",
       "      <td>FDIC</td>\n",
       "      <td>NaN</td>\n",
       "      <td>PAYOUT</td>\n",
       "      <td>1064</td>\n",
       "      <td>1435.0</td>\n",
       "      <td>NaN</td>\n",
       "    </tr>\n",
       "    <tr>\n",
       "      <th>1</th>\n",
       "      <td>NaN</td>\n",
       "      <td>FON DU LAC STATE BANK</td>\n",
       "      <td>COMMERCIAL BANK</td>\n",
       "      <td>STATE</td>\n",
       "      <td>EAST PEORIA, IL</td>\n",
       "      <td>5/28/1934</td>\n",
       "      <td>FDIC</td>\n",
       "      <td>NaN</td>\n",
       "      <td>PAYOUT</td>\n",
       "      <td>238</td>\n",
       "      <td>374.0</td>\n",
       "      <td>NaN</td>\n",
       "    </tr>\n",
       "    <tr>\n",
       "      <th>2</th>\n",
       "      <td>NaN</td>\n",
       "      <td>FIRST NATIONAL BANK OF LIMA</td>\n",
       "      <td>COMMERCIAL BANK</td>\n",
       "      <td>FEDERAL</td>\n",
       "      <td>LIMA, MT</td>\n",
       "      <td>7/18/1934</td>\n",
       "      <td>FDIC</td>\n",
       "      <td>NaN</td>\n",
       "      <td>PAYOUT</td>\n",
       "      <td>42</td>\n",
       "      <td>91.0</td>\n",
       "      <td>NaN</td>\n",
       "    </tr>\n",
       "    <tr>\n",
       "      <th>3</th>\n",
       "      <td>NaN</td>\n",
       "      <td>FLORENCE DEPOSIT BANK</td>\n",
       "      <td>COMMERCIAL BANK</td>\n",
       "      <td>STATE</td>\n",
       "      <td>FLORENCE, IN</td>\n",
       "      <td>7/18/1934</td>\n",
       "      <td>FDIC</td>\n",
       "      <td>NaN</td>\n",
       "      <td>PAYOUT</td>\n",
       "      <td>69</td>\n",
       "      <td>105.0</td>\n",
       "      <td>NaN</td>\n",
       "    </tr>\n",
       "    <tr>\n",
       "      <th>4</th>\n",
       "      <td>NaN</td>\n",
       "      <td>BANK OF LEWISPORT</td>\n",
       "      <td>COMMERCIAL BANK</td>\n",
       "      <td>STATE</td>\n",
       "      <td>LEWISPORT, KY</td>\n",
       "      <td>8/6/1934</td>\n",
       "      <td>FDIC</td>\n",
       "      <td>NaN</td>\n",
       "      <td>PAYOUT</td>\n",
       "      <td>68</td>\n",
       "      <td>81.0</td>\n",
       "      <td>NaN</td>\n",
       "    </tr>\n",
       "  </tbody>\n",
       "</table>\n",
       "</div>"
      ],
      "text/plain": [
       "   Financial Institution Number             Institution Name Institution Type  \\\n",
       "0                           NaN    BANK OF AMERICA TRUST CO.  COMMERCIAL BANK   \n",
       "1                           NaN        FON DU LAC STATE BANK  COMMERCIAL BANK   \n",
       "2                           NaN  FIRST NATIONAL BANK OF LIMA  COMMERCIAL BANK   \n",
       "3                           NaN        FLORENCE DEPOSIT BANK  COMMERCIAL BANK   \n",
       "4                           NaN            BANK OF LEWISPORT  COMMERCIAL BANK   \n",
       "\n",
       "  Charter Type     Headquarters Failure Date Insurance Fund  \\\n",
       "0        STATE   PITTSBURGH, PA   4/19/1934            FDIC   \n",
       "1        STATE  EAST PEORIA, IL   5/28/1934            FDIC   \n",
       "2      FEDERAL         LIMA, MT   7/18/1934            FDIC   \n",
       "3        STATE     FLORENCE, IN   7/18/1934            FDIC   \n",
       "4        STATE    LEWISPORT, KY    8/6/1934            FDIC   \n",
       "\n",
       "   Certificate Number Transaction Type  Total Deposits  Total Assets  \\\n",
       "0                 NaN           PAYOUT            1064        1435.0   \n",
       "1                 NaN           PAYOUT             238         374.0   \n",
       "2                 NaN           PAYOUT              42          91.0   \n",
       "3                 NaN           PAYOUT              69         105.0   \n",
       "4                 NaN           PAYOUT              68          81.0   \n",
       "\n",
       "   Estimated Loss (2015)  \n",
       "0                    NaN  \n",
       "1                    NaN  \n",
       "2                    NaN  \n",
       "3                    NaN  \n",
       "4                    NaN  "
      ]
     },
     "execution_count": 17,
     "metadata": {},
     "output_type": "execute_result"
    }
   ],
   "source": [
    "banks.head()"
   ]
  },
  {
   "cell_type": "code",
   "execution_count": 18,
   "metadata": {},
   "outputs": [
    {
     "data": {
      "text/plain": [
       "Financial Institution Number    601\n",
       "Institution Name                  0\n",
       "Institution Type                  0\n",
       "Charter Type                      0\n",
       "Headquarters                      0\n",
       "Failure Date                      0\n",
       "Insurance Fund                    0\n",
       "Certificate Number              485\n",
       "Transaction Type                  0\n",
       "Total Deposits                    0\n",
       "Total Assets                    151\n",
       "Estimated Loss (2015)           975\n",
       "dtype: int64"
      ]
     },
     "execution_count": 18,
     "metadata": {},
     "output_type": "execute_result"
    }
   ],
   "source": [
    "banks.isnull().sum()"
   ]
  },
  {
   "cell_type": "code",
   "execution_count": 19,
   "metadata": {},
   "outputs": [
    {
     "data": {
      "text/plain": [
       "<matplotlib.axes._subplots.AxesSubplot at 0x1142621d0>"
      ]
     },
     "execution_count": 19,
     "metadata": {},
     "output_type": "execute_result"
    },
    {
     "data": {
      "image/png": "[encoded data removed]",
      "text/plain": [
       "<matplotlib.figure.Figure at 0x1142623c8>"
      ]
     },
     "metadata": {},
     "output_type": "display_data"
    }
   ],
   "source": [
    "corr = banks[banks.columns].corr()\n",
    "sns.heatmap(corr, annot = True)"
   ]
  },
  {
   "cell_type": "code",
   "execution_count": 20,
   "metadata": {},
   "outputs": [
    {
     "data": {
      "text/plain": [
       "array(['COMMERCIAL BANK', 'SAVINGS BANK', 'SAVINGS ASSOCIATION'], dtype=object)"
      ]
     },
     "execution_count": 20,
     "metadata": {},
     "output_type": "execute_result"
    }
   ],
   "source": [
    "banks.get('Institution Type').unique()"
   ]
  },
  {
   "cell_type": "code",
   "execution_count": 21,
   "metadata": {},
   "outputs": [
    {
     "data": {
      "text/plain": [
       "array(['PAYOUT', 'ACQUISITION', 'PRIVATIZATION', 'TRANSFER', 'MANAGEMENT'], dtype=object)"
      ]
     },
     "execution_count": 21,
     "metadata": {},
     "output_type": "execute_result"
    }
   ],
   "source": [
    "banks.get('Transaction Type').unique()"
   ]
  },
  {
   "cell_type": "code",
   "execution_count": 22,
   "metadata": {},
   "outputs": [
    {
     "data": {
      "text/plain": [
       "array(['STATE', 'FEDERAL', 'FEDERAL/STATE'], dtype=object)"
      ]
     },
     "execution_count": 22,
     "metadata": {},
     "output_type": "execute_result"
    }
   ],
   "source": [
    "banks.get('Charter Type').unique()"
   ]
  },
  {
   "cell_type": "code",
   "execution_count": 23,
   "metadata": {},
   "outputs": [
    {
     "data": {
      "text/plain": [
       "array(['FDIC', 'FSLIC', 'RTC', 'BIF', 'SAIF', 'DIF'], dtype=object)"
      ]
     },
     "execution_count": 23,
     "metadata": {},
     "output_type": "execute_result"
    }
   ],
   "source": [
    "banks.get('Insurance Fund').unique()"
   ]
  },
  {
   "cell_type": "code",
   "execution_count": 24,
   "metadata": {},
   "outputs": [],
   "source": [
    "banks['liquidity'] = banks['Total Deposits']/banks['Total Assets'] * 100"
   ]
  },
  {
   "cell_type": "code",
   "execution_count": 25,
   "metadata": {},
   "outputs": [
    {
     "data": {
      "text/plain": [
       "<matplotlib.axes._subplots.AxesSubplot at 0x113f467b8>"
      ]
     },
     "execution_count": 25,
     "metadata": {},
     "output_type": "execute_result"
    },
    {
     "data": {
      "image/png": "[encoded data removed]",
      "text/plain": [
       "<matplotlib.figure.Figure at 0x113ab29b0>"
      ]
     },
     "metadata": {},
     "output_type": "display_data"
    },
    {
     "data": {
      "image/png": "[encoded data removed]",
      "text/plain": [
       "<matplotlib.figure.Figure at 0x113f6d710>"
      ]
     },
     "metadata": {},
     "output_type": "display_data"
    },
    {
     "data": {
      "image/png": "[encoded data removed]",
      "text/plain": [
       "<matplotlib.figure.Figure at 0x114179f60>"
      ]
     },
     "metadata": {},
     "output_type": "display_data"
    },
    {
     "data": {
      "image/png": "[encoded data removed]",
      "text/plain": [
       "<matplotlib.figure.Figure at 0x113f46eb8>"
      ]
     },
     "metadata": {},
     "output_type": "display_data"
    }
   ],
   "source": [
    "banks.plot.scatter(x = 'Total Assets', y = 'Estimated Loss (2015)')\n",
    "banks.plot.scatter(x = 'Total Deposits', y = 'Estimated Loss (2015)')\n",
    "banks.plot.scatter(x = 'Total Assets', y = 'Total Deposits')\n",
    "banks.plot.scatter(x = 'liquidity', y = 'Estimated Loss (2015)')"
   ]
  },
  {
   "cell_type": "code",
   "execution_count": 34,
   "metadata": {},
   "outputs": [
    {
     "data": {
      "text/plain": [
       "<matplotlib.axes._subplots.AxesSubplot at 0x114c4dcc0>"
      ]
     },
     "execution_count": 34,
     "metadata": {},
     "output_type": "execute_result"
    },
    {
     "data": {
      "image/png": "[encoded data removed]",
      "text/plain": [
       "<matplotlib.figure.Figure at 0x114a1eb00>"
      ]
     },
     "metadata": {},
     "output_type": "display_data"
    }
   ],
   "source": [
    "#fiddle with this soe more\n",
    "sns.boxplot(x = banks['Total Assets'])"
   ]
  },
  {
   "cell_type": "code",
   "execution_count": 35,
   "metadata": {},
   "outputs": [
    {
     "data": {
      "text/plain": [
       "Index(['Financial Institution Number', 'Institution Name', 'Institution Type',\n",
       "       'Charter Type', 'Headquarters', 'Failure Date', 'Insurance Fund',\n",
       "       'Certificate Number', 'Transaction Type', 'Total Deposits',\n",
       "       'Total Assets', 'Estimated Loss (2015)', 'liquidity'],\n",
       "      dtype='object')"
      ]
     },
     "execution_count": 35,
     "metadata": {},
     "output_type": "execute_result"
    }
   ],
   "source": [
    "#Analytic question Which commercial bank failure cost the federal government the most(in terms of money and time) to resolve?\n",
    "banks.columns"
   ]
  },
  {
   "cell_type": "code",
   "execution_count": 37,
   "metadata": {},
   "outputs": [
    {
     "data": {
      "text/html": [
       "<div>\n",
       "<style scoped>\n",
       "    .dataframe tbody tr th:only-of-type {\n",
       "        vertical-align: middle;\n",
       "    }\n",
       "\n",
       "    .dataframe tbody tr th {\n",
       "        vertical-align: top;\n",
       "    }\n",
       "\n",
       "    .dataframe thead th {\n",
       "        text-align: right;\n",
       "    }\n",
       "</style>\n",
       "<table border=\"1\" class=\"dataframe\">\n",
       "  <thead>\n",
       "    <tr style=\"text-align: right;\">\n",
       "      <th></th>\n",
       "      <th>Financial Institution Number</th>\n",
       "      <th>Institution Name</th>\n",
       "      <th>Institution Type</th>\n",
       "      <th>Charter Type</th>\n",
       "      <th>Headquarters</th>\n",
       "      <th>Failure Date</th>\n",
       "      <th>Insurance Fund</th>\n",
       "      <th>Certificate Number</th>\n",
       "      <th>Transaction Type</th>\n",
       "      <th>Total Deposits</th>\n",
       "      <th>Total Assets</th>\n",
       "      <th>Estimated Loss (2015)</th>\n",
       "      <th>liquidity</th>\n",
       "    </tr>\n",
       "  </thead>\n",
       "  <tbody>\n",
       "    <tr>\n",
       "      <th>2970</th>\n",
       "      <td>10007.0</td>\n",
       "      <td>INDYMAC BANK F.S.B</td>\n",
       "      <td>SAVINGS BANK</td>\n",
       "      <td>STATE</td>\n",
       "      <td>PASADENA, CA</td>\n",
       "      <td>7/11/2008</td>\n",
       "      <td>DIF</td>\n",
       "      <td>29730.0</td>\n",
       "      <td>ACQUISITION</td>\n",
       "      <td>18941727</td>\n",
       "      <td>30698512.0</td>\n",
       "      <td>12438005.0</td>\n",
       "      <td>61.702427</td>\n",
       "    </tr>\n",
       "    <tr>\n",
       "      <th>3024</th>\n",
       "      <td>10061.0</td>\n",
       "      <td>BANKUNITED, FSB</td>\n",
       "      <td>SAVINGS BANK</td>\n",
       "      <td>STATE</td>\n",
       "      <td>CORAL GABLES, FL</td>\n",
       "      <td>5/21/2009</td>\n",
       "      <td>DIF</td>\n",
       "      <td>32247.0</td>\n",
       "      <td>ACQUISITION</td>\n",
       "      <td>8775985</td>\n",
       "      <td>13111463.0</td>\n",
       "      <td>5274515.0</td>\n",
       "      <td>66.933682</td>\n",
       "    </tr>\n",
       "    <tr>\n",
       "      <th>3063</th>\n",
       "      <td>10103.0</td>\n",
       "      <td>COLONIAL BANK</td>\n",
       "      <td>COMMERCIAL BANK</td>\n",
       "      <td>STATE</td>\n",
       "      <td>MONTGOMERY, AL</td>\n",
       "      <td>8/14/2009</td>\n",
       "      <td>DIF</td>\n",
       "      <td>9609.0</td>\n",
       "      <td>ACQUISITION</td>\n",
       "      <td>20072099</td>\n",
       "      <td>25455112.0</td>\n",
       "      <td>3330263.0</td>\n",
       "      <td>78.852920</td>\n",
       "    </tr>\n",
       "    <tr>\n",
       "      <th>1773</th>\n",
       "      <td>7283.0</td>\n",
       "      <td>LINCOLN SAVINGS &amp; LOAN</td>\n",
       "      <td>SAVINGS ASSOCIATION</td>\n",
       "      <td>FEDERAL/STATE</td>\n",
       "      <td>IRVINE, CA</td>\n",
       "      <td>4/14/1989</td>\n",
       "      <td>RTC</td>\n",
       "      <td>29642.0</td>\n",
       "      <td>ACQUISITION</td>\n",
       "      <td>4193981</td>\n",
       "      <td>4857204.0</td>\n",
       "      <td>3142552.0</td>\n",
       "      <td>86.345581</td>\n",
       "    </tr>\n",
       "    <tr>\n",
       "      <th>2631</th>\n",
       "      <td>1299.0</td>\n",
       "      <td>OAKTREE FEDERAL SAVINGS</td>\n",
       "      <td>SAVINGS ASSOCIATION</td>\n",
       "      <td>FEDERAL/STATE</td>\n",
       "      <td>NEW ORLEANS, LA</td>\n",
       "      <td>10/13/1991</td>\n",
       "      <td>RTC</td>\n",
       "      <td>32090.0</td>\n",
       "      <td>ACQUISITION</td>\n",
       "      <td>2256189</td>\n",
       "      <td>2214549.0</td>\n",
       "      <td>2345947.0</td>\n",
       "      <td>101.880293</td>\n",
       "    </tr>\n",
       "  </tbody>\n",
       "</table>\n",
       "</div>"
      ],
      "text/plain": [
       "      Financial Institution Number         Institution Name  \\\n",
       "2970                       10007.0       INDYMAC BANK F.S.B   \n",
       "3024                       10061.0          BANKUNITED, FSB   \n",
       "3063                       10103.0            COLONIAL BANK   \n",
       "1773                        7283.0   LINCOLN SAVINGS & LOAN   \n",
       "2631                        1299.0  OAKTREE FEDERAL SAVINGS   \n",
       "\n",
       "         Institution Type   Charter Type      Headquarters Failure Date  \\\n",
       "2970         SAVINGS BANK          STATE      PASADENA, CA   7/11/2008    \n",
       "3024         SAVINGS BANK          STATE  CORAL GABLES, FL   5/21/2009    \n",
       "3063      COMMERCIAL BANK          STATE    MONTGOMERY, AL   8/14/2009    \n",
       "1773  SAVINGS ASSOCIATION  FEDERAL/STATE        IRVINE, CA   4/14/1989    \n",
       "2631  SAVINGS ASSOCIATION  FEDERAL/STATE   NEW ORLEANS, LA  10/13/1991    \n",
       "\n",
       "     Insurance Fund  Certificate Number Transaction Type  Total Deposits  \\\n",
       "2970            DIF             29730.0      ACQUISITION        18941727   \n",
       "3024            DIF             32247.0      ACQUISITION         8775985   \n",
       "3063            DIF              9609.0      ACQUISITION        20072099   \n",
       "1773            RTC             29642.0      ACQUISITION         4193981   \n",
       "2631            RTC             32090.0      ACQUISITION         2256189   \n",
       "\n",
       "      Total Assets  Estimated Loss (2015)   liquidity  \n",
       "2970    30698512.0             12438005.0   61.702427  \n",
       "3024    13111463.0              5274515.0   66.933682  \n",
       "3063    25455112.0              3330263.0   78.852920  \n",
       "1773     4857204.0              3142552.0   86.345581  \n",
       "2631     2214549.0              2345947.0  101.880293  "
      ]
     },
     "execution_count": 37,
     "metadata": {},
     "output_type": "execute_result"
    }
   ],
   "source": [
    "banks_sorted=banks.sort_values(by='Estimated Loss (2015)', ascending=False)\n",
    "banks_sorted.head()"
   ]
  },
  {
   "cell_type": "code",
   "execution_count": 44,
   "metadata": {},
   "outputs": [],
   "source": [
    "banks['Failure Date']=pd.to_datetime(banks['Failure Date'],infer_datetime_format=True)"
   ]
  },
  {
   "cell_type": "code",
   "execution_count": 49,
   "metadata": {},
   "outputs": [],
   "source": [
    "banks['Failure Year']=banks['Failure Date'].apply(lambda x: x.year)"
   ]
  },
  {
   "cell_type": "code",
   "execution_count": 50,
   "metadata": {},
   "outputs": [
    {
     "data": {
      "text/plain": [
       "0       1934\n",
       "1       1934\n",
       "2       1934\n",
       "3       1934\n",
       "4       1934\n",
       "5       1934\n",
       "6       1934\n",
       "7       1934\n",
       "8       1934\n",
       "9       1935\n",
       "10      1935\n",
       "11      1935\n",
       "12      1935\n",
       "13      1935\n",
       "14      1935\n",
       "15      1935\n",
       "16      1935\n",
       "17      1935\n",
       "18      1935\n",
       "19      1935\n",
       "20      1935\n",
       "21      1935\n",
       "22      1935\n",
       "23      1935\n",
       "24      1935\n",
       "25      1935\n",
       "26      1935\n",
       "27      1935\n",
       "28      1935\n",
       "29      1935\n",
       "        ... \n",
       "3454    2014\n",
       "3455    2014\n",
       "3456    2014\n",
       "3457    2014\n",
       "3458    2014\n",
       "3459    2014\n",
       "3460    2014\n",
       "3461    2014\n",
       "3462    2014\n",
       "3463    2014\n",
       "3464    2014\n",
       "3465    2014\n",
       "3466    2014\n",
       "3467    2014\n",
       "3468    2014\n",
       "3469    2014\n",
       "3470    2015\n",
       "3471    2015\n",
       "3472    2015\n",
       "3473    2015\n",
       "3474    2015\n",
       "3475    2015\n",
       "3476    2015\n",
       "3477    2016\n",
       "3478    2016\n",
       "3479    2016\n",
       "3480    2016\n",
       "3481    2016\n",
       "3482    2017\n",
       "3483    2017\n",
       "Name: Failure Year, Length: 3484, dtype: int64"
      ]
     },
     "execution_count": 50,
     "metadata": {},
     "output_type": "execute_result"
    }
   ],
   "source": [
    "banks['Failure Year']"
   ]
  },
  {
   "cell_type": "code",
   "execution_count": 51,
   "metadata": {},
   "outputs": [],
   "source": [
    "infer_datetime_format=True"
   ]
  },
  {
   "cell_type": "code",
   "execution_count": 58,
   "metadata": {},
   "outputs": [],
   "source": [
    "banks_failuredate=banks.groupby('Failure Year', as_index=False)['Failure Date'].agg('count')"
   ]
  },
  {
   "cell_type": "code",
   "execution_count": 65,
   "metadata": {},
   "outputs": [
    {
     "data": {
      "text/plain": [
       "[Text(0,0,'1934'),\n",
       " Text(0,0,'1935'),\n",
       " Text(0,0,'1936'),\n",
       " Text(0,0,'1937'),\n",
       " Text(0,0,'1938'),\n",
       " Text(0,0,'1939'),\n",
       " Text(0,0,'1940'),\n",
       " Text(0,0,'1941'),\n",
       " Text(0,0,'1942'),\n",
       " Text(0,0,'1943'),\n",
       " Text(0,0,'1944'),\n",
       " Text(0,0,'1945'),\n",
       " Text(0,0,'1946'),\n",
       " Text(0,0,'1947'),\n",
       " Text(0,0,'1948'),\n",
       " Text(0,0,'1949'),\n",
       " Text(0,0,'1950'),\n",
       " Text(0,0,'1951'),\n",
       " Text(0,0,'1952'),\n",
       " Text(0,0,'1953'),\n",
       " Text(0,0,'1954'),\n",
       " Text(0,0,'1955'),\n",
       " Text(0,0,'1956'),\n",
       " Text(0,0,'1957'),\n",
       " Text(0,0,'1958'),\n",
       " Text(0,0,'1959'),\n",
       " Text(0,0,'1960'),\n",
       " Text(0,0,'1961'),\n",
       " Text(0,0,'1962'),\n",
       " Text(0,0,'1963'),\n",
       " Text(0,0,'1964'),\n",
       " Text(0,0,'1965'),\n",
       " Text(0,0,'1966'),\n",
       " Text(0,0,'1967'),\n",
       " Text(0,0,'1968'),\n",
       " Text(0,0,'1969'),\n",
       " Text(0,0,'1970'),\n",
       " Text(0,0,'1971'),\n",
       " Text(0,0,'1972'),\n",
       " Text(0,0,'1973'),\n",
       " Text(0,0,'1974'),\n",
       " Text(0,0,'1975'),\n",
       " Text(0,0,'1976'),\n",
       " Text(0,0,'1977'),\n",
       " Text(0,0,'1978'),\n",
       " Text(0,0,'1979'),\n",
       " Text(0,0,'1980'),\n",
       " Text(0,0,'1981'),\n",
       " Text(0,0,'1982'),\n",
       " Text(0,0,'1983'),\n",
       " Text(0,0,'1984'),\n",
       " Text(0,0,'1985'),\n",
       " Text(0,0,'1986'),\n",
       " Text(0,0,'1987'),\n",
       " Text(0,0,'1988'),\n",
       " Text(0,0,'1989'),\n",
       " Text(0,0,'1990'),\n",
       " Text(0,0,'1991'),\n",
       " Text(0,0,'1992'),\n",
       " Text(0,0,'1993'),\n",
       " Text(0,0,'1994'),\n",
       " Text(0,0,'1995'),\n",
       " Text(0,0,'1996'),\n",
       " Text(0,0,'1997'),\n",
       " Text(0,0,'1998'),\n",
       " Text(0,0,'1999'),\n",
       " Text(0,0,'2000'),\n",
       " Text(0,0,'2001'),\n",
       " Text(0,0,'2002'),\n",
       " Text(0,0,'2003'),\n",
       " Text(0,0,'2004'),\n",
       " Text(0,0,'2007'),\n",
       " Text(0,0,'2008'),\n",
       " Text(0,0,'2009'),\n",
       " Text(0,0,'2010'),\n",
       " Text(0,0,'2011'),\n",
       " Text(0,0,'2012'),\n",
       " Text(0,0,'2013'),\n",
       " Text(0,0,'2014'),\n",
       " Text(0,0,'2015'),\n",
       " Text(0,0,'2016'),\n",
       " Text(0,0,'2017')]"
      ]
     },
     "execution_count": 65,
     "metadata": {},
     "output_type": "execute_result"
    },
    {
     "data": {
      "image/png": "[encoded data removed]",
      "text/plain": [
       "<matplotlib.figure.Figure at 0x1161fc080>"
      ]
     },
     "metadata": {},
     "output_type": "display_data"
    }
   ],
   "source": [
    "g=sns.barplot(x=banks_failuredate['Failure Year'],y = banks_failuredate['Failure Date'])\n",
    "g.set_xticklabels(g.get_xticklabels(), rotation=90)"
   ]
  },
  {
   "cell_type": "code",
   "execution_count": 66,
   "metadata": {},
   "outputs": [
    {
     "ename": "NameError",
     "evalue": "name 'HQ' is not defined",
     "output_type": "error",
     "traceback": [
      "\u001b[0;31m---------------------------------------------------------------------------\u001b[0m",
      "\u001b[0;31mNameError\u001b[0m                                 Traceback (most recent call last)",
      "\u001b[0;32m<ipython-input-66-a1b96abf1896>\u001b[0m in \u001b[0;36m<module>\u001b[0;34m()\u001b[0m\n\u001b[0;32m----> 1\u001b[0;31m \u001b[0mHQ\u001b[0m\u001b[0;34m[\u001b[0m\u001b[0;34m:\u001b[0m\u001b[0;36m10\u001b[0m\u001b[0;34m]\u001b[0m\u001b[0;34m.\u001b[0m\u001b[0mpplot\u001b[0m\u001b[0;34m(\u001b[0m\u001b[0mkind\u001b[0m\u001b[0;34m=\u001b[0m\u001b[0;34m'bar'\u001b[0m\u001b[0;34m)\u001b[0m\u001b[0;34m\u001b[0m\u001b[0m\n\u001b[0m",
      "\u001b[0;31mNameError\u001b[0m: name 'HQ' is not defined"
     ]
    }
   ],
   "source": [
    "HQ[:10].pplot(kind='bar')"
   ]
  },
  {
   "cell_type": "code",
   "execution_count": null,
   "metadata": {},
   "outputs": [],
   "source": [
    "#Analytic question What type of banking institution is the most likely to fail? \n",
    "#Analytic question How have bank failure rates changed over time? "
   ]
  }
 ],
 "metadata": {
  "kernelspec": {
   "display_name": "Python 3",
   "language": "python",
   "name": "python3"
  },
  "language_info": {
   "codemirror_mode": {
    "name": "ipython",
    "version": 3
   },
   "file_extension": ".py",
   "mimetype": "text/x-python",
   "name": "python",
   "nbconvert_exporter": "python",
   "pygments_lexer": "ipython3",
   "version": "3.6.3"
  }
 },
 "nbformat": 4,
 "nbformat_minor": 2
}
